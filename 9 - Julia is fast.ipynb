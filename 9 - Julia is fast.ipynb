{
 "cells": [
  {
   "cell_type": "markdown",
   "metadata": {},
   "source": [
    "# Julia is fast\n",
    "\n",
    "Very often, benchmarks are used to compare languages.  These benchmarks can lead to long discussions, first as to exactly what is being benchmarked and secondly what explains the differences.  These simple questions can sometimes get more complicated than you at first might imagine.\n",
    "\n",
    "The purpose of this notebook is for you to see a simple benchmark for yourself.  One can read the notebook and see what happened on the author's Macbook Pro with a 4-core Intel Core I7, or run the notebook yourself.\n",
    "\n",
    "(This material began life as a wonderful lecture by Steven Johnson at MIT: https://github.com/stevengj/18S096/blob/master/lectures/lecture1/Boxes-and-registers.ipynb.)"
   ]
  },
  {
   "cell_type": "markdown",
   "metadata": {},
   "source": [
    "# Outline of this notebook\n",
    "\n",
    "- Define the sum function\n",
    "- Implementations & benchmarking of sum in...\n",
    "    - C (hand-written)\n",
    "    - C (hand-written with -ffast-math)\n",
    "    - python (built-in)\n",
    "    - python (numpy)\n",
    "    - python (hand-written)\n",
    "    - Julia (built-in)\n",
    "    - Julia (hand-written)\n",
    "    - Julia (hand-written with SIMD)\n",
    "- Summary of benchmarks"
   ]
  },
  {
   "cell_type": "markdown",
   "metadata": {},
   "source": [
    "# `sum`: An easy enough function to understand"
   ]
  },
  {
   "cell_type": "markdown",
   "metadata": {},
   "source": [
    "Consider the  **sum** function `sum(a)`, which computes\n",
    "$$\n",
    "\\mathrm{sum}(a) = \\sum_{i=1}^n a_i,\n",
    "$$\n",
    "where $n$ is the length of `a`."
   ]
  },
  {
   "cell_type": "code",
   "execution_count": 56,
   "metadata": {},
   "outputs": [
    {
     "data": {
      "text/plain": [
       "10000000-element Vector{Float64}:\n",
       " 0.01912662812369026\n",
       " 0.24368878386844595\n",
       " 0.6083762412426496\n",
       " 0.3617953365357077\n",
       " 0.7679528498347968\n",
       " 0.06491159942879388\n",
       " 0.17349562245594563\n",
       " 0.46689166482144195\n",
       " 0.11402229654016105\n",
       " 0.8754769706350316\n",
       " 0.8031998361616595\n",
       " 0.8557907932744273\n",
       " 0.8459911029854051\n",
       " ⋮\n",
       " 0.020590246545046043\n",
       " 0.0405977069487109\n",
       " 0.47708330405569277\n",
       " 0.8902665869299531\n",
       " 0.31174244941389084\n",
       " 0.2976409662217554\n",
       " 0.14067219706472078\n",
       " 0.24459618473026878\n",
       " 0.31252078287293994\n",
       " 0.9019387631045815\n",
       " 0.7787950851394113\n",
       " 0.048182797752087114"
      ]
     },
     "execution_count": 56,
     "metadata": {},
     "output_type": "execute_result"
    }
   ],
   "source": [
    "a = rand(10^7) # 1D vector of random numbers, uniform on [0,1)"
   ]
  },
  {
   "cell_type": "code",
   "execution_count": 57,
   "metadata": {},
   "outputs": [
    {
     "data": {
      "text/plain": [
       "4.9994291501217075e6"
      ]
     },
     "execution_count": 57,
     "metadata": {},
     "output_type": "execute_result"
    }
   ],
   "source": [
    "sum(a)"
   ]
  },
  {
   "cell_type": "markdown",
   "metadata": {},
   "source": [
    "The expected result is 0.5 * 10^7, since the mean of each entry is 0.5"
   ]
  },
  {
   "cell_type": "markdown",
   "metadata": {},
   "source": [
    "# Benchmarking a few ways in a few languages"
   ]
  },
  {
   "cell_type": "code",
   "execution_count": 58,
   "metadata": {},
   "outputs": [
    {
     "name": "stdout",
     "output_type": "stream",
     "text": [
      "  0.006047 seconds (1 allocation: 16 bytes)\n"
     ]
    },
    {
     "data": {
      "text/plain": [
       "4.9994291501217075e6"
      ]
     },
     "execution_count": 58,
     "metadata": {},
     "output_type": "execute_result"
    }
   ],
   "source": [
    "@time sum(a)"
   ]
  },
  {
   "cell_type": "code",
   "execution_count": 59,
   "metadata": {},
   "outputs": [
    {
     "name": "stdout",
     "output_type": "stream",
     "text": [
      "  0.004908 seconds (1 allocation: 16 bytes)\n"
     ]
    },
    {
     "data": {
      "text/plain": [
       "4.9994291501217075e6"
      ]
     },
     "execution_count": 59,
     "metadata": {},
     "output_type": "execute_result"
    }
   ],
   "source": [
    "@time sum(a)"
   ]
  },
  {
   "cell_type": "code",
   "execution_count": 60,
   "metadata": {},
   "outputs": [
    {
     "name": "stdout",
     "output_type": "stream",
     "text": [
      "  0.005617 seconds (1 allocation: 16 bytes)\n"
     ]
    },
    {
     "data": {
      "text/plain": [
       "4.9994291501217075e6"
      ]
     },
     "execution_count": 60,
     "metadata": {},
     "output_type": "execute_result"
    }
   ],
   "source": [
    "@time sum(a)"
   ]
  },
  {
   "cell_type": "markdown",
   "metadata": {},
   "source": [
    "The `@time` macro can yield noisy results, so it's not our best choice for benchmarking!\n",
    "\n",
    "Luckily, Julia has a `BenchmarkTools.jl` package to make benchmarking easy and accurate:"
   ]
  },
  {
   "cell_type": "code",
   "execution_count": 61,
   "metadata": {},
   "outputs": [
    {
     "name": "stderr",
     "output_type": "stream",
     "text": [
      "\u001b[32m\u001b[1m   Resolving\u001b[22m\u001b[39m package versions...\n",
      "\u001b[32m\u001b[1m  No Changes\u001b[22m\u001b[39m to `~/GitHub/Introduction-to-Julia/Project.toml`\n",
      "\u001b[32m\u001b[1m  No Changes\u001b[22m\u001b[39m to `~/GitHub/Introduction-to-Julia/Manifest.toml`\n"
     ]
    }
   ],
   "source": [
    "using Pkg\n",
    "Pkg.add(\"BenchmarkTools\")"
   ]
  },
  {
   "cell_type": "code",
   "execution_count": 62,
   "metadata": {},
   "outputs": [],
   "source": [
    "using BenchmarkTools  "
   ]
  },
  {
   "cell_type": "markdown",
   "metadata": {},
   "source": [
    "#  1. The C language\n",
    "\n",
    "C is often considered the gold standard: difficult on the human, nice for the machine. Getting within a factor of 2 of C is often satisfying. Nonetheless, even within C, there are many kinds of optimizations possible that a naive C writer may or may not get the advantage of.\n",
    "\n",
    "The current author does not speak C, so he does not read the cell below, but is happy to know that you can put C code in a Julia session, compile it, and run it. Note that the `\"\"\"` wrap a multi-line string."
   ]
  },
  {
   "cell_type": "code",
   "execution_count": 63,
   "metadata": {},
   "outputs": [
    {
     "name": "stderr",
     "output_type": "stream",
     "text": [
      "WARNING: redefinition of constant Clib. This may fail, cause incorrect answers, or produce other errors.\n"
     ]
    },
    {
     "data": {
      "text/plain": [
       "c_sum (generic function with 1 method)"
      ]
     },
     "execution_count": 63,
     "metadata": {},
     "output_type": "execute_result"
    }
   ],
   "source": [
    "using Libdl\n",
    "C_code = \"\"\"\n",
    "#include <stddef.h>\n",
    "double c_sum(size_t n, double *X) {\n",
    "    double s = 0.0;\n",
    "    for (size_t i = 0; i < n; ++i) {\n",
    "        s += X[i];\n",
    "    }\n",
    "    return s;\n",
    "}\n",
    "\"\"\"\n",
    "\n",
    "const Clib = tempname()   # make a temporary file\n",
    "\n",
    "\n",
    "# compile to a shared library by piping C_code to gcc\n",
    "# (works only if you have gcc installed):\n",
    "\n",
    "open(`gcc -fPIC -O3 -msse3 -xc -shared -o $(Clib * \".\" * Libdl.dlext) -`, \"w\") do f\n",
    "    print(f, C_code) \n",
    "end\n",
    "\n",
    "# define a Julia function that calls the C function:\n",
    "c_sum(X::Array{Float64}) = ccall((\"c_sum\", Clib), Float64, (Csize_t, Ptr{Float64}), length(X), X)"
   ]
  },
  {
   "cell_type": "code",
   "execution_count": 64,
   "metadata": {},
   "outputs": [
    {
     "data": {
      "text/plain": [
       "4.999429150121625e6"
      ]
     },
     "execution_count": 64,
     "metadata": {},
     "output_type": "execute_result"
    }
   ],
   "source": [
    "c_sum(a)"
   ]
  },
  {
   "cell_type": "code",
   "execution_count": 65,
   "metadata": {},
   "outputs": [
    {
     "data": {
      "text/plain": [
       "true"
      ]
     },
     "execution_count": 65,
     "metadata": {},
     "output_type": "execute_result"
    }
   ],
   "source": [
    "c_sum(a) ≈ sum(a) # type \\approx and then <TAB> to get the ≈ symbolb"
   ]
  },
  {
   "cell_type": "code",
   "execution_count": 66,
   "metadata": {},
   "outputs": [
    {
     "data": {
      "text/plain": [
       "-8.288770914077759e-8"
      ]
     },
     "execution_count": 66,
     "metadata": {},
     "output_type": "execute_result"
    }
   ],
   "source": [
    "c_sum(a) - sum(a)  "
   ]
  },
  {
   "cell_type": "code",
   "execution_count": 67,
   "metadata": {
    "scrolled": true
   },
   "outputs": [
    {
     "data": {
      "text/plain": [
       "isapprox (generic function with 18 methods)"
      ]
     },
     "execution_count": 67,
     "metadata": {},
     "output_type": "execute_result"
    }
   ],
   "source": [
    "≈  # alias for the `isapprox` function"
   ]
  },
  {
   "cell_type": "code",
   "execution_count": 68,
   "metadata": {
    "scrolled": true
   },
   "outputs": [
    {
     "name": "stdout",
     "output_type": "stream",
     "text": [
      "search: \u001b[0m\u001b[1mi\u001b[22m\u001b[0m\u001b[1ms\u001b[22m\u001b[0m\u001b[1ma\u001b[22m\u001b[0m\u001b[1mp\u001b[22m\u001b[0m\u001b[1mp\u001b[22m\u001b[0m\u001b[1mr\u001b[22m\u001b[0m\u001b[1mo\u001b[22m\u001b[0m\u001b[1mx\u001b[22m\n",
      "\n"
     ]
    },
    {
     "data": {
      "text/latex": [
       "\\begin{verbatim}\n",
       "isapprox(x, y; atol::Real=0, rtol::Real=atol>0 ? 0 : √eps, nans::Bool=false[, norm::Function])\n",
       "\\end{verbatim}\n",
       "Inexact equality comparison. Two numbers compare equal if their relative distance \\emph{or} their absolute distance is within tolerance bounds: \\texttt{isapprox} returns \\texttt{true} if \\texttt{norm(x-y) <= max(atol, rtol*max(norm(x), norm(y)))}. The default \\texttt{atol} is zero and the default \\texttt{rtol} depends on the types of \\texttt{x} and \\texttt{y}. The keyword argument \\texttt{nans} determines whether or not NaN values are considered equal (defaults to false).\n",
       "\n",
       "For real or complex floating-point values, if an \\texttt{atol > 0} is not specified, \\texttt{rtol} defaults to the square root of \\href{@ref}{\\texttt{eps}} of the type of \\texttt{x} or \\texttt{y}, whichever is bigger (least precise). This corresponds to requiring equality of about half of the significant digits. Otherwise, e.g. for integer arguments or if an \\texttt{atol > 0} is supplied, \\texttt{rtol} defaults to zero.\n",
       "\n",
       "The \\texttt{norm} keyword defaults to \\texttt{abs} for numeric \\texttt{(x,y)} and to \\texttt{LinearAlgebra.norm} for arrays (where an alternative \\texttt{norm} choice is sometimes useful). When \\texttt{x} and \\texttt{y} are arrays, if \\texttt{norm(x-y)} is not finite (i.e. \\texttt{±Inf} or \\texttt{NaN}), the comparison falls back to checking whether all elements of \\texttt{x} and \\texttt{y} are approximately equal component-wise.\n",
       "\n",
       "The binary operator \\texttt{≈} is equivalent to \\texttt{isapprox} with the default arguments, and \\texttt{x ≉ y} is equivalent to \\texttt{!isapprox(x,y)}.\n",
       "\n",
       "Note that \\texttt{x ≈ 0} (i.e., comparing to zero with the default tolerances) is equivalent to \\texttt{x == 0} since the default \\texttt{atol} is \\texttt{0}.  In such cases, you should either supply an appropriate \\texttt{atol} (or use \\texttt{norm(x) ≤ atol}) or rearrange your code (e.g. use \\texttt{x ≈ y} rather than \\texttt{x - y ≈ 0}).   It is not possible to pick a nonzero \\texttt{atol} automatically because it depends on the overall scaling (the \"units\") of your problem: for example, in \\texttt{x - y ≈ 0}, \\texttt{atol=1e-9} is an absurdly small tolerance if \\texttt{x} is the \\href{https://en.wikipedia.org/wiki/Earth_radius}{radius of the Earth} in meters, but an absurdly large tolerance if \\texttt{x} is the \\href{https://en.wikipedia.org/wiki/Bohr_radius}{radius of a Hydrogen atom} in meters.\n",
       "\n",
       "\\begin{quote}\n",
       "\\textbf{compat}\n",
       "\n",
       "Julia 1.6\n",
       "\n",
       "Passing the \\texttt{norm} keyword argument when comparing numeric (non-array) arguments requires Julia 1.6 or later.\n",
       "\n",
       "\\end{quote}\n",
       "\\section{Examples}\n",
       "\\begin{verbatim}\n",
       "julia> isapprox(0.1, 0.15; atol=0.05)\n",
       "true\n",
       "\n",
       "julia> isapprox(0.1, 0.15; rtol=0.34)\n",
       "true\n",
       "\n",
       "julia> isapprox(0.1, 0.15; rtol=0.33)\n",
       "false\n",
       "\n",
       "julia> 0.1 + 1e-10 ≈ 0.1\n",
       "true\n",
       "\n",
       "julia> 1e-10 ≈ 0\n",
       "false\n",
       "\n",
       "julia> isapprox(1e-10, 0, atol=1e-8)\n",
       "true\n",
       "\n",
       "julia> isapprox([10.0^9, 1.0], [10.0^9, 2.0]) # using `norm`\n",
       "true\n",
       "\\end{verbatim}\n",
       "\\rule{\\textwidth}{1pt}\n",
       "\\begin{verbatim}\n",
       "isapprox(x; kwargs...) / ≈(x; kwargs...)\n",
       "\\end{verbatim}\n",
       "Create a function that compares its argument to \\texttt{x} using \\texttt{≈}, i.e. a function equivalent to \\texttt{y -> y ≈ x}.\n",
       "\n",
       "The keyword arguments supported here are the same as those in the 2-argument \\texttt{isapprox}.\n",
       "\n",
       "\\begin{quote}\n",
       "\\textbf{compat}\n",
       "\n",
       "Julia 1.5\n",
       "\n",
       "This method requires Julia 1.5 or later.\n",
       "\n",
       "\\end{quote}\n",
       "\\rule{\\textwidth}{1pt}\n",
       "\\begin{verbatim}\n",
       "isapprox(x::FixedPoint, y::FixedPoint; rtol=0, atol=max(eps(x), eps(y)))\n",
       "\\end{verbatim}\n",
       "For FixedPoint numbers, the default criterion is that \\texttt{x} and \\texttt{y} differ by no more than \\texttt{eps}, the separation between adjacent fixed-point numbers.\n",
       "\n"
      ],
      "text/markdown": [
       "```\n",
       "isapprox(x, y; atol::Real=0, rtol::Real=atol>0 ? 0 : √eps, nans::Bool=false[, norm::Function])\n",
       "```\n",
       "\n",
       "Inexact equality comparison. Two numbers compare equal if their relative distance *or* their absolute distance is within tolerance bounds: `isapprox` returns `true` if `norm(x-y) <= max(atol, rtol*max(norm(x), norm(y)))`. The default `atol` is zero and the default `rtol` depends on the types of `x` and `y`. The keyword argument `nans` determines whether or not NaN values are considered equal (defaults to false).\n",
       "\n",
       "For real or complex floating-point values, if an `atol > 0` is not specified, `rtol` defaults to the square root of [`eps`](@ref) of the type of `x` or `y`, whichever is bigger (least precise). This corresponds to requiring equality of about half of the significant digits. Otherwise, e.g. for integer arguments or if an `atol > 0` is supplied, `rtol` defaults to zero.\n",
       "\n",
       "The `norm` keyword defaults to `abs` for numeric `(x,y)` and to `LinearAlgebra.norm` for arrays (where an alternative `norm` choice is sometimes useful). When `x` and `y` are arrays, if `norm(x-y)` is not finite (i.e. `±Inf` or `NaN`), the comparison falls back to checking whether all elements of `x` and `y` are approximately equal component-wise.\n",
       "\n",
       "The binary operator `≈` is equivalent to `isapprox` with the default arguments, and `x ≉ y` is equivalent to `!isapprox(x,y)`.\n",
       "\n",
       "Note that `x ≈ 0` (i.e., comparing to zero with the default tolerances) is equivalent to `x == 0` since the default `atol` is `0`.  In such cases, you should either supply an appropriate `atol` (or use `norm(x) ≤ atol`) or rearrange your code (e.g. use `x ≈ y` rather than `x - y ≈ 0`).   It is not possible to pick a nonzero `atol` automatically because it depends on the overall scaling (the \"units\") of your problem: for example, in `x - y ≈ 0`, `atol=1e-9` is an absurdly small tolerance if `x` is the [radius of the Earth](https://en.wikipedia.org/wiki/Earth_radius) in meters, but an absurdly large tolerance if `x` is the [radius of a Hydrogen atom](https://en.wikipedia.org/wiki/Bohr_radius) in meters.\n",
       "\n",
       "!!! compat \"Julia 1.6\"\n",
       "    Passing the `norm` keyword argument when comparing numeric (non-array) arguments requires Julia 1.6 or later.\n",
       "\n",
       "\n",
       "# Examples\n",
       "\n",
       "```jldoctest\n",
       "julia> isapprox(0.1, 0.15; atol=0.05)\n",
       "true\n",
       "\n",
       "julia> isapprox(0.1, 0.15; rtol=0.34)\n",
       "true\n",
       "\n",
       "julia> isapprox(0.1, 0.15; rtol=0.33)\n",
       "false\n",
       "\n",
       "julia> 0.1 + 1e-10 ≈ 0.1\n",
       "true\n",
       "\n",
       "julia> 1e-10 ≈ 0\n",
       "false\n",
       "\n",
       "julia> isapprox(1e-10, 0, atol=1e-8)\n",
       "true\n",
       "\n",
       "julia> isapprox([10.0^9, 1.0], [10.0^9, 2.0]) # using `norm`\n",
       "true\n",
       "```\n",
       "\n",
       "---\n",
       "\n",
       "```\n",
       "isapprox(x; kwargs...) / ≈(x; kwargs...)\n",
       "```\n",
       "\n",
       "Create a function that compares its argument to `x` using `≈`, i.e. a function equivalent to `y -> y ≈ x`.\n",
       "\n",
       "The keyword arguments supported here are the same as those in the 2-argument `isapprox`.\n",
       "\n",
       "!!! compat \"Julia 1.5\"\n",
       "    This method requires Julia 1.5 or later.\n",
       "\n",
       "\n",
       "---\n",
       "\n",
       "```\n",
       "isapprox(x::FixedPoint, y::FixedPoint; rtol=0, atol=max(eps(x), eps(y)))\n",
       "```\n",
       "\n",
       "For FixedPoint numbers, the default criterion is that `x` and `y` differ by no more than `eps`, the separation between adjacent fixed-point numbers.\n"
      ],
      "text/plain": [
       "\u001b[36m  isapprox(x, y; atol::Real=0, rtol::Real=atol>0 ? 0 : √eps, nans::Bool=false[, norm::Function])\u001b[39m\n",
       "\n",
       "  Inexact equality comparison. Two numbers compare equal if their relative\n",
       "  distance \u001b[4mor\u001b[24m their absolute distance is within tolerance bounds: \u001b[36misapprox\u001b[39m\n",
       "  returns \u001b[36mtrue\u001b[39m if \u001b[36mnorm(x-y) <= max(atol, rtol*max(norm(x), norm(y)))\u001b[39m. The\n",
       "  default \u001b[36matol\u001b[39m is zero and the default \u001b[36mrtol\u001b[39m depends on the types of \u001b[36mx\u001b[39m and \u001b[36my\u001b[39m.\n",
       "  The keyword argument \u001b[36mnans\u001b[39m determines whether or not NaN values are\n",
       "  considered equal (defaults to false).\n",
       "\n",
       "  For real or complex floating-point values, if an \u001b[36matol > 0\u001b[39m is not specified,\n",
       "  \u001b[36mrtol\u001b[39m defaults to the square root of \u001b[36meps\u001b[39m of the type of \u001b[36mx\u001b[39m or \u001b[36my\u001b[39m, whichever is\n",
       "  bigger (least precise). This corresponds to requiring equality of about half\n",
       "  of the significant digits. Otherwise, e.g. for integer arguments or if an\n",
       "  \u001b[36matol > 0\u001b[39m is supplied, \u001b[36mrtol\u001b[39m defaults to zero.\n",
       "\n",
       "  The \u001b[36mnorm\u001b[39m keyword defaults to \u001b[36mabs\u001b[39m for numeric \u001b[36m(x,y)\u001b[39m and to \u001b[36mLinearAlgebra.norm\u001b[39m\n",
       "  for arrays (where an alternative \u001b[36mnorm\u001b[39m choice is sometimes useful). When \u001b[36mx\u001b[39m\n",
       "  and \u001b[36my\u001b[39m are arrays, if \u001b[36mnorm(x-y)\u001b[39m is not finite (i.e. \u001b[36m±Inf\u001b[39m or \u001b[36mNaN\u001b[39m), the\n",
       "  comparison falls back to checking whether all elements of \u001b[36mx\u001b[39m and \u001b[36my\u001b[39m are\n",
       "  approximately equal component-wise.\n",
       "\n",
       "  The binary operator \u001b[36m≈\u001b[39m is equivalent to \u001b[36misapprox\u001b[39m with the default arguments,\n",
       "  and \u001b[36mx ≉ y\u001b[39m is equivalent to \u001b[36m!isapprox(x,y)\u001b[39m.\n",
       "\n",
       "  Note that \u001b[36mx ≈ 0\u001b[39m (i.e., comparing to zero with the default tolerances) is\n",
       "  equivalent to \u001b[36mx == 0\u001b[39m since the default \u001b[36matol\u001b[39m is \u001b[36m0\u001b[39m. In such cases, you should\n",
       "  either supply an appropriate \u001b[36matol\u001b[39m (or use \u001b[36mnorm(x) ≤ atol\u001b[39m) or rearrange your\n",
       "  code (e.g. use \u001b[36mx ≈ y\u001b[39m rather than \u001b[36mx - y ≈ 0\u001b[39m). It is not possible to pick a\n",
       "  nonzero \u001b[36matol\u001b[39m automatically because it depends on the overall scaling (the\n",
       "  \"units\") of your problem: for example, in \u001b[36mx - y ≈ 0\u001b[39m, \u001b[36matol=1e-9\u001b[39m is an\n",
       "  absurdly small tolerance if \u001b[36mx\u001b[39m is the radius of the Earth\n",
       "  (https://en.wikipedia.org/wiki/Earth_radius) in meters, but an absurdly\n",
       "  large tolerance if \u001b[36mx\u001b[39m is the radius of a Hydrogen atom\n",
       "  (https://en.wikipedia.org/wiki/Bohr_radius) in meters.\n",
       "\n",
       "\u001b[39m\u001b[1m  │ \u001b[22m\u001b[39m\u001b[1mJulia 1.6\u001b[22m\n",
       "\u001b[39m\u001b[1m  │\u001b[22m\n",
       "\u001b[39m\u001b[1m  │\u001b[22m  Passing the \u001b[36mnorm\u001b[39m keyword argument when comparing numeric\n",
       "\u001b[39m\u001b[1m  │\u001b[22m  (non-array) arguments requires Julia 1.6 or later.\n",
       "\n",
       "\u001b[1m  Examples\u001b[22m\n",
       "\u001b[1m  ≡≡≡≡≡≡≡≡≡≡\u001b[22m\n",
       "\n",
       "\u001b[36m  julia> isapprox(0.1, 0.15; atol=0.05)\u001b[39m\n",
       "\u001b[36m  true\u001b[39m\n",
       "\u001b[36m  \u001b[39m\n",
       "\u001b[36m  julia> isapprox(0.1, 0.15; rtol=0.34)\u001b[39m\n",
       "\u001b[36m  true\u001b[39m\n",
       "\u001b[36m  \u001b[39m\n",
       "\u001b[36m  julia> isapprox(0.1, 0.15; rtol=0.33)\u001b[39m\n",
       "\u001b[36m  false\u001b[39m\n",
       "\u001b[36m  \u001b[39m\n",
       "\u001b[36m  julia> 0.1 + 1e-10 ≈ 0.1\u001b[39m\n",
       "\u001b[36m  true\u001b[39m\n",
       "\u001b[36m  \u001b[39m\n",
       "\u001b[36m  julia> 1e-10 ≈ 0\u001b[39m\n",
       "\u001b[36m  false\u001b[39m\n",
       "\u001b[36m  \u001b[39m\n",
       "\u001b[36m  julia> isapprox(1e-10, 0, atol=1e-8)\u001b[39m\n",
       "\u001b[36m  true\u001b[39m\n",
       "\u001b[36m  \u001b[39m\n",
       "\u001b[36m  julia> isapprox([10.0^9, 1.0], [10.0^9, 2.0]) # using `norm`\u001b[39m\n",
       "\u001b[36m  true\u001b[39m\n",
       "\n",
       "  ────────────────────────────────────────────────────────────────────────────\n",
       "\n",
       "\u001b[36m  isapprox(x; kwargs...) / ≈(x; kwargs...)\u001b[39m\n",
       "\n",
       "  Create a function that compares its argument to \u001b[36mx\u001b[39m using \u001b[36m≈\u001b[39m, i.e. a function\n",
       "  equivalent to \u001b[36my -> y ≈ x\u001b[39m.\n",
       "\n",
       "  The keyword arguments supported here are the same as those in the 2-argument\n",
       "  \u001b[36misapprox\u001b[39m.\n",
       "\n",
       "\u001b[39m\u001b[1m  │ \u001b[22m\u001b[39m\u001b[1mJulia 1.5\u001b[22m\n",
       "\u001b[39m\u001b[1m  │\u001b[22m\n",
       "\u001b[39m\u001b[1m  │\u001b[22m  This method requires Julia 1.5 or later.\n",
       "\n",
       "  ────────────────────────────────────────────────────────────────────────────\n",
       "\n",
       "\u001b[36m  isapprox(x::FixedPoint, y::FixedPoint; rtol=0, atol=max(eps(x), eps(y)))\u001b[39m\n",
       "\n",
       "  For FixedPoint numbers, the default criterion is that \u001b[36mx\u001b[39m and \u001b[36my\u001b[39m differ by no\n",
       "  more than \u001b[36meps\u001b[39m, the separation between adjacent fixed-point numbers."
      ]
     },
     "execution_count": 68,
     "metadata": {},
     "output_type": "execute_result"
    }
   ],
   "source": [
    "?isapprox"
   ]
  },
  {
   "cell_type": "markdown",
   "metadata": {},
   "source": [
    "We can now benchmark the C code directly from Julia:"
   ]
  },
  {
   "cell_type": "code",
   "execution_count": 69,
   "metadata": {},
   "outputs": [
    {
     "data": {
      "text/plain": [
       "BenchmarkTools.Trial: 367 samples with 1 evaluation.\n",
       " Range \u001b[90m(\u001b[39m\u001b[36m\u001b[1mmin\u001b[22m\u001b[39m … \u001b[35mmax\u001b[39m\u001b[90m):  \u001b[39m\u001b[36m\u001b[1m12.740 ms\u001b[22m\u001b[39m … \u001b[35m 16.822 ms\u001b[39m  \u001b[90m┊\u001b[39m GC \u001b[90m(\u001b[39mmin … max\u001b[90m): \u001b[39m0.00% … 0.00%\n",
       " Time  \u001b[90m(\u001b[39m\u001b[34m\u001b[1mmedian\u001b[22m\u001b[39m\u001b[90m):     \u001b[39m\u001b[34m\u001b[1m13.596 ms               \u001b[22m\u001b[39m\u001b[90m┊\u001b[39m GC \u001b[90m(\u001b[39mmedian\u001b[90m):    \u001b[39m0.00%\n",
       " Time  \u001b[90m(\u001b[39m\u001b[32m\u001b[1mmean\u001b[22m\u001b[39m ± \u001b[32mσ\u001b[39m\u001b[90m):   \u001b[39m\u001b[32m\u001b[1m13.612 ms\u001b[22m\u001b[39m ± \u001b[32m512.860 μs\u001b[39m  \u001b[90m┊\u001b[39m GC \u001b[90m(\u001b[39mmean ± σ\u001b[90m):  \u001b[39m0.00% ± 0.00%\n",
       "\n",
       "  \u001b[39m \u001b[39m \u001b[39m \u001b[39m▅\u001b[39m▁\u001b[39m▄\u001b[39m \u001b[39m \u001b[39m \u001b[39m \u001b[39m▁\u001b[39m▄\u001b[39m \u001b[39m▁\u001b[39m▁\u001b[39m▄\u001b[39m▆\u001b[39m▃\u001b[39m▆\u001b[39m \u001b[39m▃\u001b[39m▅\u001b[34m \u001b[39m\u001b[32m▂\u001b[39m\u001b[39m▆\u001b[39m▁\u001b[39m▂\u001b[39m▁\u001b[39m▃\u001b[39m \u001b[39m▆\u001b[39m█\u001b[39m▁\u001b[39m▅\u001b[39m▆\u001b[39m \u001b[39m \u001b[39m \u001b[39m \u001b[39m \u001b[39m \u001b[39m \u001b[39m \u001b[39m \u001b[39m \u001b[39m \u001b[39m \u001b[39m \u001b[39m \u001b[39m \u001b[39m \u001b[39m \u001b[39m \u001b[39m \u001b[39m \u001b[39m \u001b[39m \u001b[39m \u001b[39m \u001b[39m \u001b[39m \u001b[39m \n",
       "  \u001b[39m▄\u001b[39m▇\u001b[39m▆\u001b[39m█\u001b[39m█\u001b[39m█\u001b[39m▅\u001b[39m▄\u001b[39m▃\u001b[39m▅\u001b[39m█\u001b[39m█\u001b[39m█\u001b[39m█\u001b[39m█\u001b[39m█\u001b[39m█\u001b[39m█\u001b[39m█\u001b[39m▅\u001b[39m█\u001b[39m█\u001b[34m▆\u001b[39m\u001b[32m█\u001b[39m\u001b[39m█\u001b[39m█\u001b[39m█\u001b[39m█\u001b[39m█\u001b[39m▇\u001b[39m█\u001b[39m█\u001b[39m█\u001b[39m█\u001b[39m█\u001b[39m▄\u001b[39m▆\u001b[39m▆\u001b[39m▅\u001b[39m█\u001b[39m▄\u001b[39m▄\u001b[39m▁\u001b[39m▃\u001b[39m▃\u001b[39m▃\u001b[39m▃\u001b[39m▃\u001b[39m▃\u001b[39m▃\u001b[39m▁\u001b[39m▁\u001b[39m▁\u001b[39m▁\u001b[39m▁\u001b[39m▃\u001b[39m▁\u001b[39m▁\u001b[39m▁\u001b[39m▄\u001b[39m \u001b[39m▄\n",
       "  12.7 ms\u001b[90m         Histogram: frequency by time\u001b[39m           15 ms \u001b[0m\u001b[1m<\u001b[22m\n",
       "\n",
       " Memory estimate\u001b[90m: \u001b[39m\u001b[33m0 bytes\u001b[39m, allocs estimate\u001b[90m: \u001b[39m\u001b[33m0\u001b[39m."
      ]
     },
     "execution_count": 69,
     "metadata": {},
     "output_type": "execute_result"
    }
   ],
   "source": [
    "c_bench = @benchmark c_sum($a)"
   ]
  },
  {
   "cell_type": "code",
   "execution_count": 70,
   "metadata": {},
   "outputs": [
    {
     "name": "stdout",
     "output_type": "stream",
     "text": [
      "C: Fastest time was 12.740363 msec\n"
     ]
    }
   ],
   "source": [
    "println(\"C: Fastest time was $(minimum(c_bench.times) / 1e6) msec\")"
   ]
  },
  {
   "cell_type": "code",
   "execution_count": 71,
   "metadata": {
    "scrolled": true
   },
   "outputs": [
    {
     "data": {
      "text/plain": [
       "Dict{Any, Any} with 1 entry:\n",
       "  \"C\" => 12.7404"
      ]
     },
     "execution_count": 71,
     "metadata": {},
     "output_type": "execute_result"
    }
   ],
   "source": [
    "d = Dict()  # a \"dictionary\", i.e. an associative array\n",
    "d[\"C\"] = minimum(c_bench.times) / 1e6  # in milliseconds\n",
    "d"
   ]
  },
  {
   "cell_type": "code",
   "execution_count": 72,
   "metadata": {
    "scrolled": true
   },
   "outputs": [
    {
     "data": {
      "text/plain": [
       "Plots.GRBackend()"
      ]
     },
     "execution_count": 72,
     "metadata": {},
     "output_type": "execute_result"
    }
   ],
   "source": [
    "using Plots\n",
    "gr()"
   ]
  },
  {
   "cell_type": "code",
   "execution_count": 73,
   "metadata": {},
   "outputs": [
    {
     "data": {
      "image/svg+xml": "<?xml version=\"1.0\" encoding=\"utf-8\"?>\n<svg xmlns=\"http://www.w3.org/2000/svg\" xmlns:xlink=\"http://www.w3.org/1999/xlink\" width=\"600\" height=\"400\" viewBox=\"0 0 2400 1600\">\n<defs>\n  <clipPath id=\"clip810\">\n    <rect x=\"0\" y=\"0\" width=\"2400\" height=\"1600\"/>\n  </clipPath>\n</defs>\n<path clip-path=\"url(#clip810)\" d=\"M0 1600 L2400 1600 L2400 0 L0 0  Z\" fill=\"#ffffff\" fill-rule=\"evenodd\" fill-opacity=\"1\"/>\n<defs>\n  <clipPath id=\"clip811\">\n    <rect x=\"480\" y=\"0\" width=\"1681\" height=\"1600\"/>\n  </clipPath>\n</defs>\n<path clip-path=\"url(#clip810)\" d=\"M175.445 1423.18 L2352.76 1423.18 L2352.76 47.2441 L175.445 47.2441  Z\" fill=\"#ffffff\" fill-rule=\"evenodd\" fill-opacity=\"1\"/>\n<defs>\n  <clipPath id=\"clip812\">\n    <rect x=\"175\" y=\"47\" width=\"2178\" height=\"1377\"/>\n  </clipPath>\n</defs>\n<polyline clip-path=\"url(#clip812)\" style=\"stroke:#000000; stroke-linecap:round; stroke-linejoin:round; stroke-width:2; stroke-opacity:0.1; fill:none\" points=\"465.43,1423.18 465.43,47.2441 \"/>\n<polyline clip-path=\"url(#clip812)\" style=\"stroke:#000000; stroke-linecap:round; stroke-linejoin:round; stroke-width:2; stroke-opacity:0.1; fill:none\" points=\"881.853,1423.18 881.853,47.2441 \"/>\n<polyline clip-path=\"url(#clip812)\" style=\"stroke:#000000; stroke-linecap:round; stroke-linejoin:round; stroke-width:2; stroke-opacity:0.1; fill:none\" points=\"1298.28,1423.18 1298.28,47.2441 \"/>\n<polyline clip-path=\"url(#clip812)\" style=\"stroke:#000000; stroke-linecap:round; stroke-linejoin:round; stroke-width:2; stroke-opacity:0.1; fill:none\" points=\"1714.7,1423.18 1714.7,47.2441 \"/>\n<polyline clip-path=\"url(#clip812)\" style=\"stroke:#000000; stroke-linecap:round; stroke-linejoin:round; stroke-width:2; stroke-opacity:0.1; fill:none\" points=\"2131.12,1423.18 2131.12,47.2441 \"/>\n<polyline clip-path=\"url(#clip810)\" style=\"stroke:#000000; stroke-linecap:round; stroke-linejoin:round; stroke-width:4; stroke-opacity:1; fill:none\" points=\"175.445,1423.18 2352.76,1423.18 \"/>\n<polyline clip-path=\"url(#clip810)\" style=\"stroke:#000000; stroke-linecap:round; stroke-linejoin:round; stroke-width:4; stroke-opacity:1; fill:none\" points=\"465.43,1423.18 465.43,1404.28 \"/>\n<polyline clip-path=\"url(#clip810)\" style=\"stroke:#000000; stroke-linecap:round; stroke-linejoin:round; stroke-width:4; stroke-opacity:1; fill:none\" points=\"881.853,1423.18 881.853,1404.28 \"/>\n<polyline clip-path=\"url(#clip810)\" style=\"stroke:#000000; stroke-linecap:round; stroke-linejoin:round; stroke-width:4; stroke-opacity:1; fill:none\" points=\"1298.28,1423.18 1298.28,1404.28 \"/>\n<polyline clip-path=\"url(#clip810)\" style=\"stroke:#000000; stroke-linecap:round; stroke-linejoin:round; stroke-width:4; stroke-opacity:1; fill:none\" points=\"1714.7,1423.18 1714.7,1404.28 \"/>\n<polyline clip-path=\"url(#clip810)\" style=\"stroke:#000000; stroke-linecap:round; stroke-linejoin:round; stroke-width:4; stroke-opacity:1; fill:none\" points=\"2131.12,1423.18 2131.12,1404.28 \"/>\n<path clip-path=\"url(#clip810)\" d=\"M417.548 1481.64 L425.187 1481.64 L425.187 1455.28 L416.877 1456.95 L416.877 1452.69 L425.141 1451.02 L429.816 1451.02 L429.816 1481.64 L437.455 1481.64 L437.455 1485.58 L417.548 1485.58 L417.548 1481.64 Z\" fill=\"#000000\" fill-rule=\"evenodd\" fill-opacity=\"1\" /><path clip-path=\"url(#clip810)\" d=\"M450.927 1481.64 L467.247 1481.64 L467.247 1485.58 L445.302 1485.58 L445.302 1481.64 Q447.965 1478.89 452.548 1474.26 Q457.154 1469.61 458.335 1468.27 Q460.58 1465.74 461.46 1464.01 Q462.363 1462.25 462.363 1460.56 Q462.363 1457.8 460.418 1456.07 Q458.497 1454.33 455.395 1454.33 Q453.196 1454.33 450.742 1455.09 Q448.312 1455.86 445.534 1457.41 L445.534 1452.69 Q448.358 1451.55 450.812 1450.97 Q453.265 1450.39 455.302 1450.39 Q460.673 1450.39 463.867 1453.08 Q467.062 1455.77 467.062 1460.26 Q467.062 1462.39 466.251 1464.31 Q465.464 1466.2 463.358 1468.8 Q462.779 1469.47 459.677 1472.69 Q456.576 1475.88 450.927 1481.64 Z\" fill=\"#000000\" fill-rule=\"evenodd\" fill-opacity=\"1\" /><path clip-path=\"url(#clip810)\" d=\"M477.062 1479.7 L481.946 1479.7 L481.946 1485.58 L477.062 1485.58 L477.062 1479.7 Z\" fill=\"#000000\" fill-rule=\"evenodd\" fill-opacity=\"1\" /><path clip-path=\"url(#clip810)\" d=\"M502.131 1469.17 Q498.798 1469.17 496.876 1470.95 Q494.978 1472.73 494.978 1475.86 Q494.978 1478.98 496.876 1480.77 Q498.798 1482.55 502.131 1482.55 Q505.464 1482.55 507.385 1480.77 Q509.307 1478.96 509.307 1475.86 Q509.307 1472.73 507.385 1470.95 Q505.487 1469.17 502.131 1469.17 M497.455 1467.18 Q494.446 1466.44 492.756 1464.38 Q491.089 1462.32 491.089 1459.35 Q491.089 1455.21 494.029 1452.8 Q496.992 1450.39 502.131 1450.39 Q507.293 1450.39 510.233 1452.8 Q513.172 1455.21 513.172 1459.35 Q513.172 1462.32 511.483 1464.38 Q509.816 1466.44 506.83 1467.18 Q510.21 1467.96 512.085 1470.26 Q513.983 1472.55 513.983 1475.86 Q513.983 1480.88 510.904 1483.57 Q507.848 1486.25 502.131 1486.25 Q496.413 1486.25 493.335 1483.57 Q490.279 1480.88 490.279 1475.86 Q490.279 1472.55 492.177 1470.26 Q494.075 1467.96 497.455 1467.18 M495.742 1459.79 Q495.742 1462.48 497.409 1463.98 Q499.098 1465.49 502.131 1465.49 Q505.14 1465.49 506.83 1463.98 Q508.543 1462.48 508.543 1459.79 Q508.543 1457.11 506.83 1455.6 Q505.14 1454.1 502.131 1454.1 Q499.098 1454.1 497.409 1455.6 Q495.742 1457.11 495.742 1459.79 Z\" fill=\"#000000\" fill-rule=\"evenodd\" fill-opacity=\"1\" /><path clip-path=\"url(#clip810)\" d=\"M834.017 1481.64 L841.656 1481.64 L841.656 1455.28 L833.346 1456.95 L833.346 1452.69 L841.61 1451.02 L846.286 1451.02 L846.286 1481.64 L853.925 1481.64 L853.925 1485.58 L834.017 1485.58 L834.017 1481.64 Z\" fill=\"#000000\" fill-rule=\"evenodd\" fill-opacity=\"1\" /><path clip-path=\"url(#clip810)\" d=\"M867.397 1481.64 L883.716 1481.64 L883.716 1485.58 L861.772 1485.58 L861.772 1481.64 Q864.434 1478.89 869.017 1474.26 Q873.624 1469.61 874.804 1468.27 Q877.049 1465.74 877.929 1464.01 Q878.832 1462.25 878.832 1460.56 Q878.832 1457.8 876.887 1456.07 Q874.966 1454.33 871.864 1454.33 Q869.665 1454.33 867.212 1455.09 Q864.781 1455.86 862.003 1457.41 L862.003 1452.69 Q864.827 1451.55 867.281 1450.97 Q869.735 1450.39 871.772 1450.39 Q877.142 1450.39 880.337 1453.08 Q883.531 1455.77 883.531 1460.26 Q883.531 1462.39 882.721 1464.31 Q881.934 1466.2 879.827 1468.8 Q879.249 1469.47 876.147 1472.69 Q873.045 1475.88 867.397 1481.64 Z\" fill=\"#000000\" fill-rule=\"evenodd\" fill-opacity=\"1\" /><path clip-path=\"url(#clip810)\" d=\"M893.531 1479.7 L898.415 1479.7 L898.415 1485.58 L893.531 1485.58 L893.531 1479.7 Z\" fill=\"#000000\" fill-rule=\"evenodd\" fill-opacity=\"1\" /><path clip-path=\"url(#clip810)\" d=\"M908.739 1484.86 L908.739 1480.6 Q910.498 1481.44 912.304 1481.88 Q914.109 1482.32 915.846 1482.32 Q920.475 1482.32 922.906 1479.21 Q925.359 1476.09 925.707 1469.75 Q924.364 1471.74 922.304 1472.8 Q920.244 1473.87 917.744 1473.87 Q912.559 1473.87 909.526 1470.74 Q906.517 1467.59 906.517 1462.15 Q906.517 1456.83 909.665 1453.61 Q912.813 1450.39 918.045 1450.39 Q924.04 1450.39 927.188 1455 Q930.359 1459.58 930.359 1468.33 Q930.359 1476.51 926.471 1481.39 Q922.605 1486.25 916.054 1486.25 Q914.295 1486.25 912.489 1485.9 Q910.684 1485.56 908.739 1484.86 M918.045 1470.21 Q921.193 1470.21 923.021 1468.06 Q924.873 1465.9 924.873 1462.15 Q924.873 1458.43 923.021 1456.27 Q921.193 1454.1 918.045 1454.1 Q914.897 1454.1 913.045 1456.27 Q911.216 1458.43 911.216 1462.15 Q911.216 1465.9 913.045 1468.06 Q914.897 1470.21 918.045 1470.21 Z\" fill=\"#000000\" fill-rule=\"evenodd\" fill-opacity=\"1\" /><path clip-path=\"url(#clip810)\" d=\"M1250.35 1481.64 L1257.99 1481.64 L1257.99 1455.28 L1249.68 1456.95 L1249.68 1452.69 L1257.94 1451.02 L1262.62 1451.02 L1262.62 1481.64 L1270.26 1481.64 L1270.26 1485.58 L1250.35 1485.58 L1250.35 1481.64 Z\" fill=\"#000000\" fill-rule=\"evenodd\" fill-opacity=\"1\" /><path clip-path=\"url(#clip810)\" d=\"M1293.87 1466.95 Q1297.22 1467.66 1299.1 1469.93 Q1301 1472.2 1301 1475.53 Q1301 1480.65 1297.48 1483.45 Q1293.96 1486.25 1287.48 1486.25 Q1285.3 1486.25 1282.99 1485.81 Q1280.69 1485.39 1278.24 1484.54 L1278.24 1480.02 Q1280.19 1481.16 1282.5 1481.74 Q1284.82 1482.32 1287.34 1482.32 Q1291.74 1482.32 1294.03 1480.58 Q1296.34 1478.84 1296.34 1475.53 Q1296.34 1472.48 1294.19 1470.77 Q1292.06 1469.03 1288.24 1469.03 L1284.21 1469.03 L1284.21 1465.19 L1288.43 1465.19 Q1291.88 1465.19 1293.7 1463.82 Q1295.53 1462.43 1295.53 1459.84 Q1295.53 1457.18 1293.63 1455.77 Q1291.76 1454.33 1288.24 1454.33 Q1286.32 1454.33 1284.12 1454.75 Q1281.92 1455.16 1279.28 1456.04 L1279.28 1451.88 Q1281.94 1451.14 1284.26 1450.77 Q1286.6 1450.39 1288.66 1450.39 Q1293.98 1450.39 1297.08 1452.83 Q1300.19 1455.23 1300.19 1459.35 Q1300.19 1462.22 1298.54 1464.21 Q1296.9 1466.18 1293.87 1466.95 Z\" fill=\"#000000\" fill-rule=\"evenodd\" fill-opacity=\"1\" /><path clip-path=\"url(#clip810)\" d=\"M1309.86 1479.7 L1314.75 1479.7 L1314.75 1485.58 L1309.86 1485.58 L1309.86 1479.7 Z\" fill=\"#000000\" fill-rule=\"evenodd\" fill-opacity=\"1\" /><path clip-path=\"url(#clip810)\" d=\"M1334.93 1454.1 Q1331.32 1454.1 1329.49 1457.66 Q1327.69 1461.2 1327.69 1468.33 Q1327.69 1475.44 1329.49 1479.01 Q1331.32 1482.55 1334.93 1482.55 Q1338.56 1482.55 1340.37 1479.01 Q1342.2 1475.44 1342.2 1468.33 Q1342.2 1461.2 1340.37 1457.66 Q1338.56 1454.1 1334.93 1454.1 M1334.93 1450.39 Q1340.74 1450.39 1343.8 1455 Q1346.87 1459.58 1346.87 1468.33 Q1346.87 1477.06 1343.8 1481.67 Q1340.74 1486.25 1334.93 1486.25 Q1329.12 1486.25 1326.04 1481.67 Q1322.99 1477.06 1322.99 1468.33 Q1322.99 1459.58 1326.04 1455 Q1329.12 1450.39 1334.93 1450.39 Z\" fill=\"#000000\" fill-rule=\"evenodd\" fill-opacity=\"1\" /><path clip-path=\"url(#clip810)\" d=\"M1667.38 1481.64 L1675.02 1481.64 L1675.02 1455.28 L1666.71 1456.95 L1666.71 1452.69 L1674.98 1451.02 L1679.65 1451.02 L1679.65 1481.64 L1687.29 1481.64 L1687.29 1485.58 L1667.38 1485.58 L1667.38 1481.64 Z\" fill=\"#000000\" fill-rule=\"evenodd\" fill-opacity=\"1\" /><path clip-path=\"url(#clip810)\" d=\"M1710.9 1466.95 Q1714.26 1467.66 1716.13 1469.93 Q1718.03 1472.2 1718.03 1475.53 Q1718.03 1480.65 1714.51 1483.45 Q1711 1486.25 1704.51 1486.25 Q1702.34 1486.25 1700.02 1485.81 Q1697.73 1485.39 1695.28 1484.54 L1695.28 1480.02 Q1697.22 1481.16 1699.54 1481.74 Q1701.85 1482.32 1704.37 1482.32 Q1708.77 1482.32 1711.06 1480.58 Q1713.38 1478.84 1713.38 1475.53 Q1713.38 1472.48 1711.23 1470.77 Q1709.1 1469.03 1705.28 1469.03 L1701.25 1469.03 L1701.25 1465.19 L1705.46 1465.19 Q1708.91 1465.19 1710.74 1463.82 Q1712.57 1462.43 1712.57 1459.84 Q1712.57 1457.18 1710.67 1455.77 Q1708.8 1454.33 1705.28 1454.33 Q1703.36 1454.33 1701.16 1454.75 Q1698.96 1455.16 1696.32 1456.04 L1696.32 1451.88 Q1698.98 1451.14 1701.3 1450.77 Q1703.63 1450.39 1705.69 1450.39 Q1711.02 1450.39 1714.12 1452.83 Q1717.22 1455.23 1717.22 1459.35 Q1717.22 1462.22 1715.58 1464.21 Q1713.93 1466.18 1710.9 1466.95 Z\" fill=\"#000000\" fill-rule=\"evenodd\" fill-opacity=\"1\" /><path clip-path=\"url(#clip810)\" d=\"M1726.9 1479.7 L1731.78 1479.7 L1731.78 1485.58 L1726.9 1485.58 L1726.9 1479.7 Z\" fill=\"#000000\" fill-rule=\"evenodd\" fill-opacity=\"1\" /><path clip-path=\"url(#clip810)\" d=\"M1742.78 1481.64 L1750.42 1481.64 L1750.42 1455.28 L1742.11 1456.95 L1742.11 1452.69 L1750.37 1451.02 L1755.05 1451.02 L1755.05 1481.64 L1762.68 1481.64 L1762.68 1485.58 L1742.78 1485.58 L1742.78 1481.64 Z\" fill=\"#000000\" fill-rule=\"evenodd\" fill-opacity=\"1\" /><path clip-path=\"url(#clip810)\" d=\"M2083.99 1481.64 L2091.63 1481.64 L2091.63 1455.28 L2083.32 1456.95 L2083.32 1452.69 L2091.58 1451.02 L2096.26 1451.02 L2096.26 1481.64 L2103.9 1481.64 L2103.9 1485.58 L2083.99 1485.58 L2083.99 1481.64 Z\" fill=\"#000000\" fill-rule=\"evenodd\" fill-opacity=\"1\" /><path clip-path=\"url(#clip810)\" d=\"M2127.51 1466.95 Q2130.87 1467.66 2132.74 1469.93 Q2134.64 1472.2 2134.64 1475.53 Q2134.64 1480.65 2131.12 1483.45 Q2127.6 1486.25 2121.12 1486.25 Q2118.95 1486.25 2116.63 1485.81 Q2114.34 1485.39 2111.89 1484.54 L2111.89 1480.02 Q2113.83 1481.16 2116.14 1481.74 Q2118.46 1482.32 2120.98 1482.32 Q2125.38 1482.32 2127.67 1480.58 Q2129.99 1478.84 2129.99 1475.53 Q2129.99 1472.48 2127.83 1470.77 Q2125.71 1469.03 2121.89 1469.03 L2117.86 1469.03 L2117.86 1465.19 L2122.07 1465.19 Q2125.52 1465.19 2127.35 1463.82 Q2129.18 1462.43 2129.18 1459.84 Q2129.18 1457.18 2127.28 1455.77 Q2125.4 1454.33 2121.89 1454.33 Q2119.96 1454.33 2117.77 1454.75 Q2115.57 1455.16 2112.93 1456.04 L2112.93 1451.88 Q2115.59 1451.14 2117.9 1450.77 Q2120.24 1450.39 2122.3 1450.39 Q2127.63 1450.39 2130.73 1452.83 Q2133.83 1455.23 2133.83 1459.35 Q2133.83 1462.22 2132.19 1464.21 Q2130.54 1466.18 2127.51 1466.95 Z\" fill=\"#000000\" fill-rule=\"evenodd\" fill-opacity=\"1\" /><path clip-path=\"url(#clip810)\" d=\"M2143.51 1479.7 L2148.39 1479.7 L2148.39 1485.58 L2143.51 1485.58 L2143.51 1479.7 Z\" fill=\"#000000\" fill-rule=\"evenodd\" fill-opacity=\"1\" /><path clip-path=\"url(#clip810)\" d=\"M2162.6 1481.64 L2178.92 1481.64 L2178.92 1485.58 L2156.98 1485.58 L2156.98 1481.64 Q2159.64 1478.89 2164.22 1474.26 Q2168.83 1469.61 2170.01 1468.27 Q2172.26 1465.74 2173.14 1464.01 Q2174.04 1462.25 2174.04 1460.56 Q2174.04 1457.8 2172.09 1456.07 Q2170.17 1454.33 2167.07 1454.33 Q2164.87 1454.33 2162.42 1455.09 Q2159.99 1455.86 2157.21 1457.41 L2157.21 1452.69 Q2160.03 1451.55 2162.49 1450.97 Q2164.94 1450.39 2166.98 1450.39 Q2172.35 1450.39 2175.54 1453.08 Q2178.74 1455.77 2178.74 1460.26 Q2178.74 1462.39 2177.93 1464.31 Q2177.14 1466.2 2175.03 1468.8 Q2174.45 1469.47 2171.35 1472.69 Q2168.25 1475.88 2162.6 1481.64 Z\" fill=\"#000000\" fill-rule=\"evenodd\" fill-opacity=\"1\" /><path clip-path=\"url(#clip810)\" d=\"M1095.44 1539.24 Q1097.64 1535.29 1100.69 1533.41 Q1103.75 1531.54 1107.89 1531.54 Q1113.46 1531.54 1116.48 1535.45 Q1119.5 1539.33 1119.5 1546.53 L1119.5 1568.04 L1113.62 1568.04 L1113.62 1546.72 Q1113.62 1541.59 1111.8 1539.11 Q1109.99 1536.63 1106.26 1536.63 Q1101.71 1536.63 1099.07 1539.65 Q1096.43 1542.68 1096.43 1547.9 L1096.43 1568.04 L1090.54 1568.04 L1090.54 1546.72 Q1090.54 1541.56 1088.73 1539.11 Q1086.91 1536.63 1083.12 1536.63 Q1078.64 1536.63 1075.99 1539.68 Q1073.35 1542.71 1073.35 1547.9 L1073.35 1568.04 L1067.46 1568.04 L1067.46 1532.4 L1073.35 1532.4 L1073.35 1537.93 Q1075.36 1534.66 1078.16 1533.1 Q1080.96 1531.54 1084.81 1531.54 Q1088.69 1531.54 1091.4 1533.51 Q1094.14 1535.48 1095.44 1539.24 Z\" fill=\"#000000\" fill-rule=\"evenodd\" fill-opacity=\"1\" /><path clip-path=\"url(#clip810)\" d=\"M1131.18 1532.4 L1137.04 1532.4 L1137.04 1568.04 L1131.18 1568.04 L1131.18 1532.4 M1131.18 1518.52 L1137.04 1518.52 L1137.04 1525.93 L1131.18 1525.93 L1131.18 1518.52 Z\" fill=\"#000000\" fill-rule=\"evenodd\" fill-opacity=\"1\" /><path clip-path=\"url(#clip810)\" d=\"M1149.3 1518.52 L1155.15 1518.52 L1155.15 1568.04 L1149.3 1568.04 L1149.3 1518.52 Z\" fill=\"#000000\" fill-rule=\"evenodd\" fill-opacity=\"1\" /><path clip-path=\"url(#clip810)\" d=\"M1167.41 1518.52 L1173.26 1518.52 L1173.26 1568.04 L1167.41 1568.04 L1167.41 1518.52 Z\" fill=\"#000000\" fill-rule=\"evenodd\" fill-opacity=\"1\" /><path clip-path=\"url(#clip810)\" d=\"M1185.52 1532.4 L1191.37 1532.4 L1191.37 1568.04 L1185.52 1568.04 L1185.52 1532.4 M1185.52 1518.52 L1191.37 1518.52 L1191.37 1525.93 L1185.52 1525.93 L1185.52 1518.52 Z\" fill=\"#000000\" fill-rule=\"evenodd\" fill-opacity=\"1\" /><path clip-path=\"url(#clip810)\" d=\"M1226.35 1533.45 L1226.35 1538.98 Q1223.87 1537.71 1221.2 1537.07 Q1218.52 1536.44 1215.66 1536.44 Q1211.3 1536.44 1209.1 1537.77 Q1206.94 1539.11 1206.94 1541.79 Q1206.94 1543.82 1208.5 1545 Q1210.06 1546.15 1214.77 1547.2 L1216.77 1547.64 Q1223.01 1548.98 1225.62 1551.43 Q1228.26 1553.85 1228.26 1558.21 Q1228.26 1563.17 1224.31 1566.07 Q1220.4 1568.97 1213.53 1568.97 Q1210.66 1568.97 1207.54 1568.39 Q1204.45 1567.85 1201.02 1566.74 L1201.02 1560.69 Q1204.26 1562.38 1207.41 1563.24 Q1210.56 1564.07 1213.65 1564.07 Q1217.79 1564.07 1220.02 1562.66 Q1222.25 1561.23 1222.25 1558.65 Q1222.25 1556.27 1220.62 1554.99 Q1219.03 1553.72 1213.59 1552.54 L1211.55 1552.07 Q1206.11 1550.92 1203.69 1548.56 Q1201.27 1546.18 1201.27 1542.04 Q1201.27 1537.01 1204.84 1534.27 Q1208.4 1531.54 1214.96 1531.54 Q1218.2 1531.54 1221.07 1532.01 Q1223.93 1532.49 1226.35 1533.45 Z\" fill=\"#000000\" fill-rule=\"evenodd\" fill-opacity=\"1\" /><path clip-path=\"url(#clip810)\" d=\"M1268.08 1548.76 L1268.08 1551.62 L1241.15 1551.62 Q1241.53 1557.67 1244.78 1560.85 Q1248.06 1564 1253.88 1564 Q1257.26 1564 1260.41 1563.17 Q1263.59 1562.35 1266.71 1560.69 L1266.71 1566.23 Q1263.56 1567.57 1260.25 1568.27 Q1256.94 1568.97 1253.53 1568.97 Q1245 1568.97 1240.01 1564 Q1235.04 1559.04 1235.04 1550.57 Q1235.04 1541.82 1239.75 1536.69 Q1244.49 1531.54 1252.51 1531.54 Q1259.71 1531.54 1263.88 1536.18 Q1268.08 1540.8 1268.08 1548.76 M1262.22 1547.04 Q1262.16 1542.23 1259.52 1539.37 Q1256.91 1536.5 1252.58 1536.5 Q1247.68 1536.5 1244.72 1539.27 Q1241.79 1542.04 1241.34 1547.07 L1262.22 1547.04 Z\" fill=\"#000000\" fill-rule=\"evenodd\" fill-opacity=\"1\" /><path clip-path=\"url(#clip810)\" d=\"M1303.35 1533.76 L1303.35 1539.24 Q1300.86 1537.87 1298.35 1537.2 Q1295.87 1536.5 1293.32 1536.5 Q1287.62 1536.5 1284.47 1540.13 Q1281.32 1543.73 1281.32 1550.25 Q1281.32 1556.78 1284.47 1560.4 Q1287.62 1564 1293.32 1564 Q1295.87 1564 1298.35 1563.33 Q1300.86 1562.63 1303.35 1561.26 L1303.35 1566.68 Q1300.89 1567.82 1298.25 1568.39 Q1295.64 1568.97 1292.68 1568.97 Q1284.63 1568.97 1279.89 1563.91 Q1275.15 1558.85 1275.15 1550.25 Q1275.15 1541.53 1279.92 1536.53 Q1284.73 1531.54 1293.06 1531.54 Q1295.77 1531.54 1298.35 1532.11 Q1300.93 1532.65 1303.35 1533.76 Z\" fill=\"#000000\" fill-rule=\"evenodd\" fill-opacity=\"1\" /><path clip-path=\"url(#clip810)\" d=\"M1327.34 1536.5 Q1322.63 1536.5 1319.9 1540.19 Q1317.16 1543.85 1317.16 1550.25 Q1317.16 1556.65 1319.86 1560.34 Q1322.6 1564 1327.34 1564 Q1332.02 1564 1334.76 1560.31 Q1337.5 1556.62 1337.5 1550.25 Q1337.5 1543.92 1334.76 1540.23 Q1332.02 1536.5 1327.34 1536.5 M1327.34 1531.54 Q1334.98 1531.54 1339.34 1536.5 Q1343.7 1541.47 1343.7 1550.25 Q1343.7 1559 1339.34 1564 Q1334.98 1568.97 1327.34 1568.97 Q1319.67 1568.97 1315.31 1564 Q1310.98 1559 1310.98 1550.25 Q1310.98 1541.47 1315.31 1536.5 Q1319.67 1531.54 1327.34 1531.54 Z\" fill=\"#000000\" fill-rule=\"evenodd\" fill-opacity=\"1\" /><path clip-path=\"url(#clip810)\" d=\"M1383.04 1546.53 L1383.04 1568.04 L1377.19 1568.04 L1377.19 1546.72 Q1377.19 1541.66 1375.21 1539.14 Q1373.24 1536.63 1369.29 1536.63 Q1364.55 1536.63 1361.81 1539.65 Q1359.08 1542.68 1359.08 1547.9 L1359.08 1568.04 L1353.19 1568.04 L1353.19 1532.4 L1359.08 1532.4 L1359.08 1537.93 Q1361.18 1534.72 1364.01 1533.13 Q1366.87 1531.54 1370.6 1531.54 Q1376.74 1531.54 1379.89 1535.36 Q1383.04 1539.14 1383.04 1546.53 Z\" fill=\"#000000\" fill-rule=\"evenodd\" fill-opacity=\"1\" /><path clip-path=\"url(#clip810)\" d=\"M1418.18 1537.81 L1418.18 1518.52 L1424.04 1518.52 L1424.04 1568.04 L1418.18 1568.04 L1418.18 1562.7 Q1416.34 1565.88 1413.5 1567.44 Q1410.7 1568.97 1406.76 1568.97 Q1400.29 1568.97 1396.22 1563.81 Q1392.18 1558.65 1392.18 1550.25 Q1392.18 1541.85 1396.22 1536.69 Q1400.29 1531.54 1406.76 1531.54 Q1410.7 1531.54 1413.5 1533.1 Q1416.34 1534.62 1418.18 1537.81 M1398.23 1550.25 Q1398.23 1556.71 1400.87 1560.4 Q1403.54 1564.07 1408.19 1564.07 Q1412.84 1564.07 1415.51 1560.4 Q1418.18 1556.71 1418.18 1550.25 Q1418.18 1543.79 1415.51 1540.13 Q1412.84 1536.44 1408.19 1536.44 Q1403.54 1536.44 1400.87 1540.13 Q1398.23 1543.79 1398.23 1550.25 Z\" fill=\"#000000\" fill-rule=\"evenodd\" fill-opacity=\"1\" /><path clip-path=\"url(#clip810)\" d=\"M1458.83 1533.45 L1458.83 1538.98 Q1456.34 1537.71 1453.67 1537.07 Q1451 1536.44 1448.13 1536.44 Q1443.77 1536.44 1441.58 1537.77 Q1439.41 1539.11 1439.41 1541.79 Q1439.41 1543.82 1440.97 1545 Q1442.53 1546.15 1447.24 1547.2 L1449.25 1547.64 Q1455.49 1548.98 1458.1 1551.43 Q1460.74 1553.85 1460.74 1558.21 Q1460.74 1563.17 1456.79 1566.07 Q1452.88 1568.97 1446 1568.97 Q1443.14 1568.97 1440.02 1568.39 Q1436.93 1567.85 1433.49 1566.74 L1433.49 1560.69 Q1436.74 1562.38 1439.89 1563.24 Q1443.04 1564.07 1446.13 1564.07 Q1450.27 1564.07 1452.49 1562.66 Q1454.72 1561.23 1454.72 1558.65 Q1454.72 1556.27 1453.1 1554.99 Q1451.51 1553.72 1446.06 1552.54 L1444.03 1552.07 Q1438.58 1550.92 1436.17 1548.56 Q1433.75 1546.18 1433.75 1542.04 Q1433.75 1537.01 1437.31 1534.27 Q1440.88 1531.54 1447.43 1531.54 Q1450.68 1531.54 1453.54 1532.01 Q1456.41 1532.49 1458.83 1533.45 Z\" fill=\"#000000\" fill-rule=\"evenodd\" fill-opacity=\"1\" /><polyline clip-path=\"url(#clip812)\" style=\"stroke:#000000; stroke-linecap:round; stroke-linejoin:round; stroke-width:2; stroke-opacity:0.1; fill:none\" points=\"175.445,1384.24 2352.76,1384.24 \"/>\n<polyline clip-path=\"url(#clip812)\" style=\"stroke:#000000; stroke-linecap:round; stroke-linejoin:round; stroke-width:2; stroke-opacity:0.1; fill:none\" points=\"175.445,1167.9 2352.76,1167.9 \"/>\n<polyline clip-path=\"url(#clip812)\" style=\"stroke:#000000; stroke-linecap:round; stroke-linejoin:round; stroke-width:2; stroke-opacity:0.1; fill:none\" points=\"175.445,951.554 2352.76,951.554 \"/>\n<polyline clip-path=\"url(#clip812)\" style=\"stroke:#000000; stroke-linecap:round; stroke-linejoin:round; stroke-width:2; stroke-opacity:0.1; fill:none\" points=\"175.445,735.212 2352.76,735.212 \"/>\n<polyline clip-path=\"url(#clip812)\" style=\"stroke:#000000; stroke-linecap:round; stroke-linejoin:round; stroke-width:2; stroke-opacity:0.1; fill:none\" points=\"175.445,518.87 2352.76,518.87 \"/>\n<polyline clip-path=\"url(#clip812)\" style=\"stroke:#000000; stroke-linecap:round; stroke-linejoin:round; stroke-width:2; stroke-opacity:0.1; fill:none\" points=\"175.445,302.528 2352.76,302.528 \"/>\n<polyline clip-path=\"url(#clip812)\" style=\"stroke:#000000; stroke-linecap:round; stroke-linejoin:round; stroke-width:2; stroke-opacity:0.1; fill:none\" points=\"175.445,86.1857 2352.76,86.1857 \"/>\n<polyline clip-path=\"url(#clip810)\" style=\"stroke:#000000; stroke-linecap:round; stroke-linejoin:round; stroke-width:4; stroke-opacity:1; fill:none\" points=\"175.445,1423.18 175.445,47.2441 \"/>\n<polyline clip-path=\"url(#clip810)\" style=\"stroke:#000000; stroke-linecap:round; stroke-linejoin:round; stroke-width:4; stroke-opacity:1; fill:none\" points=\"175.445,1384.24 194.343,1384.24 \"/>\n<polyline clip-path=\"url(#clip810)\" style=\"stroke:#000000; stroke-linecap:round; stroke-linejoin:round; stroke-width:4; stroke-opacity:1; fill:none\" points=\"175.445,1167.9 194.343,1167.9 \"/>\n<polyline clip-path=\"url(#clip810)\" style=\"stroke:#000000; stroke-linecap:round; stroke-linejoin:round; stroke-width:4; stroke-opacity:1; fill:none\" points=\"175.445,951.554 194.343,951.554 \"/>\n<polyline clip-path=\"url(#clip810)\" style=\"stroke:#000000; stroke-linecap:round; stroke-linejoin:round; stroke-width:4; stroke-opacity:1; fill:none\" points=\"175.445,735.212 194.343,735.212 \"/>\n<polyline clip-path=\"url(#clip810)\" style=\"stroke:#000000; stroke-linecap:round; stroke-linejoin:round; stroke-width:4; stroke-opacity:1; fill:none\" points=\"175.445,518.87 194.343,518.87 \"/>\n<polyline clip-path=\"url(#clip810)\" style=\"stroke:#000000; stroke-linecap:round; stroke-linejoin:round; stroke-width:4; stroke-opacity:1; fill:none\" points=\"175.445,302.528 194.343,302.528 \"/>\n<polyline clip-path=\"url(#clip810)\" style=\"stroke:#000000; stroke-linecap:round; stroke-linejoin:round; stroke-width:4; stroke-opacity:1; fill:none\" points=\"175.445,86.1857 194.343,86.1857 \"/>\n<path clip-path=\"url(#clip810)\" d=\"M127.501 1370.04 Q123.89 1370.04 122.061 1373.6 Q120.255 1377.14 120.255 1384.27 Q120.255 1391.38 122.061 1394.94 Q123.89 1398.49 127.501 1398.49 Q131.135 1398.49 132.941 1394.94 Q134.769 1391.38 134.769 1384.27 Q134.769 1377.14 132.941 1373.6 Q131.135 1370.04 127.501 1370.04 M127.501 1366.33 Q133.311 1366.33 136.367 1370.94 Q139.445 1375.52 139.445 1384.27 Q139.445 1393 136.367 1397.61 Q133.311 1402.19 127.501 1402.19 Q121.691 1402.19 118.612 1397.61 Q115.556 1393 115.556 1384.27 Q115.556 1375.52 118.612 1370.94 Q121.691 1366.33 127.501 1366.33 Z\" fill=\"#000000\" fill-rule=\"evenodd\" fill-opacity=\"1\" /><path clip-path=\"url(#clip810)\" d=\"M119.538 1181.24 L127.177 1181.24 L127.177 1154.88 L118.867 1156.54 L118.867 1152.28 L127.13 1150.62 L131.806 1150.62 L131.806 1181.24 L139.445 1181.24 L139.445 1185.18 L119.538 1185.18 L119.538 1181.24 Z\" fill=\"#000000\" fill-rule=\"evenodd\" fill-opacity=\"1\" /><path clip-path=\"url(#clip810)\" d=\"M123.126 964.899 L139.445 964.899 L139.445 968.834 L117.501 968.834 L117.501 964.899 Q120.163 962.144 124.746 957.515 Q129.353 952.862 130.533 951.519 Q132.779 948.996 133.658 947.26 Q134.561 945.501 134.561 943.811 Q134.561 941.056 132.617 939.32 Q130.695 937.584 127.593 937.584 Q125.394 937.584 122.941 938.348 Q120.51 939.112 117.732 940.663 L117.732 935.941 Q120.556 934.806 123.01 934.228 Q125.464 933.649 127.501 933.649 Q132.871 933.649 136.066 936.334 Q139.26 939.019 139.26 943.51 Q139.26 945.64 138.45 947.561 Q137.663 949.459 135.556 952.052 Q134.978 952.723 131.876 955.941 Q128.774 959.135 123.126 964.899 Z\" fill=\"#000000\" fill-rule=\"evenodd\" fill-opacity=\"1\" /><path clip-path=\"url(#clip810)\" d=\"M132.316 733.858 Q135.672 734.575 137.547 736.844 Q139.445 739.112 139.445 742.446 Q139.445 747.561 135.927 750.362 Q132.408 753.163 125.927 753.163 Q123.751 753.163 121.436 752.723 Q119.144 752.307 116.691 751.45 L116.691 746.936 Q118.635 748.071 120.95 748.649 Q123.265 749.228 125.788 749.228 Q130.186 749.228 132.478 747.492 Q134.792 745.756 134.792 742.446 Q134.792 739.39 132.64 737.677 Q130.51 735.941 126.691 735.941 L122.663 735.941 L122.663 732.099 L126.876 732.099 Q130.325 732.099 132.154 730.733 Q133.982 729.344 133.982 726.751 Q133.982 724.089 132.084 722.677 Q130.209 721.242 126.691 721.242 Q124.769 721.242 122.57 721.659 Q120.371 722.075 117.732 722.955 L117.732 718.788 Q120.394 718.048 122.709 717.677 Q125.047 717.307 127.107 717.307 Q132.431 717.307 135.533 719.738 Q138.635 722.145 138.635 726.265 Q138.635 729.136 136.992 731.126 Q135.348 733.094 132.316 733.858 Z\" fill=\"#000000\" fill-rule=\"evenodd\" fill-opacity=\"1\" /><path clip-path=\"url(#clip810)\" d=\"M129.862 505.664 L118.056 524.113 L129.862 524.113 L129.862 505.664 M128.635 501.59 L134.515 501.59 L134.515 524.113 L139.445 524.113 L139.445 528.002 L134.515 528.002 L134.515 536.15 L129.862 536.15 L129.862 528.002 L114.26 528.002 L114.26 523.488 L128.635 501.59 Z\" fill=\"#000000\" fill-rule=\"evenodd\" fill-opacity=\"1\" /><path clip-path=\"url(#clip810)\" d=\"M118.543 285.248 L136.899 285.248 L136.899 289.183 L122.825 289.183 L122.825 297.655 Q123.843 297.308 124.862 297.146 Q125.88 296.961 126.899 296.961 Q132.686 296.961 136.066 300.132 Q139.445 303.303 139.445 308.72 Q139.445 314.299 135.973 317.4 Q132.501 320.479 126.181 320.479 Q124.005 320.479 121.737 320.109 Q119.492 319.738 117.084 318.998 L117.084 314.299 Q119.168 315.433 121.39 315.988 Q123.612 316.544 126.089 316.544 Q130.093 316.544 132.431 314.437 Q134.769 312.331 134.769 308.72 Q134.769 305.109 132.431 303.002 Q130.093 300.896 126.089 300.896 Q124.214 300.896 122.339 301.312 Q120.487 301.729 118.543 302.609 L118.543 285.248 Z\" fill=\"#000000\" fill-rule=\"evenodd\" fill-opacity=\"1\" /><path clip-path=\"url(#clip810)\" d=\"M127.917 84.3223 Q124.769 84.3223 122.918 86.475 Q121.089 88.6278 121.089 92.3778 Q121.089 96.1046 122.918 98.2805 Q124.769 100.433 127.917 100.433 Q131.066 100.433 132.894 98.2805 Q134.746 96.1046 134.746 92.3778 Q134.746 88.6278 132.894 86.475 Q131.066 84.3223 127.917 84.3223 M137.2 69.6696 L137.2 73.9288 Q135.441 73.0955 133.635 72.6557 Q131.853 72.2158 130.093 72.2158 Q125.464 72.2158 123.01 75.3408 Q120.58 78.4658 120.232 84.7852 Q121.598 82.7713 123.658 81.7065 Q125.718 80.6186 128.195 80.6186 Q133.404 80.6186 136.413 83.7899 Q139.445 86.938 139.445 92.3778 Q139.445 97.7018 136.297 100.919 Q133.149 104.137 127.917 104.137 Q121.922 104.137 118.751 99.5537 Q115.58 94.9472 115.58 86.2204 Q115.58 78.026 119.468 73.1649 Q123.357 68.2807 129.908 68.2807 Q131.667 68.2807 133.45 68.6279 Q135.255 68.9751 137.2 69.6696 Z\" fill=\"#000000\" fill-rule=\"evenodd\" fill-opacity=\"1\" /><path clip-path=\"url(#clip810)\" d=\"M29.7248 796.386 L35.1993 796.386 Q33.8307 798.869 33.1623 801.383 Q32.4621 803.866 32.4621 806.412 Q32.4621 812.11 36.0905 815.261 Q39.6872 818.412 46.212 818.412 Q52.7369 818.412 56.3653 815.261 Q59.9619 812.11 59.9619 806.412 Q59.9619 803.866 59.2935 801.383 Q58.5933 798.869 57.2247 796.386 L62.6355 796.386 Q63.7814 798.837 64.3543 801.479 Q64.9272 804.089 64.9272 807.049 Q64.9272 815.102 59.8664 819.844 Q54.8057 824.586 46.212 824.586 Q37.491 824.586 32.4939 819.812 Q27.4968 815.006 27.4968 806.667 Q27.4968 803.962 28.0697 801.383 Q28.6108 798.805 29.7248 796.386 Z\" fill=\"#000000\" fill-rule=\"evenodd\" fill-opacity=\"1\" /><path clip-path=\"url(#clip810)\" d=\"M32.4621 772.388 Q32.4621 777.098 36.1542 779.836 Q39.8145 782.573 46.212 782.573 Q52.6095 782.573 56.3017 779.867 Q59.9619 777.13 59.9619 772.388 Q59.9619 767.709 56.2698 764.972 Q52.5777 762.234 46.212 762.234 Q39.8781 762.234 36.186 764.972 Q32.4621 767.709 32.4621 772.388 M27.4968 772.388 Q27.4968 764.749 32.4621 760.388 Q37.4273 756.028 46.212 756.028 Q54.9649 756.028 59.9619 760.388 Q64.9272 764.749 64.9272 772.388 Q64.9272 780.058 59.9619 784.419 Q54.9649 788.748 46.212 788.748 Q37.4273 788.748 32.4621 784.419 Q27.4968 780.058 27.4968 772.388 Z\" fill=\"#000000\" fill-rule=\"evenodd\" fill-opacity=\"1\" /><path clip-path=\"url(#clip810)\" d=\"M49.9359 746.925 L28.3562 746.925 L28.3562 741.068 L49.7131 741.068 Q54.7739 741.068 57.3202 739.095 Q59.8346 737.122 59.8346 733.175 Q59.8346 728.432 56.8109 725.695 Q53.7872 722.926 48.5673 722.926 L28.3562 722.926 L28.3562 717.07 L64.0042 717.07 L64.0042 722.926 L58.5296 722.926 Q61.7762 725.059 63.3676 727.891 Q64.9272 730.692 64.9272 734.416 Q64.9272 740.559 61.1078 743.742 Q57.2883 746.925 49.9359 746.925 M27.4968 732.188 L27.4968 732.188 Z\" fill=\"#000000\" fill-rule=\"evenodd\" fill-opacity=\"1\" /><path clip-path=\"url(#clip810)\" d=\"M42.4881 675.374 L64.0042 675.374 L64.0042 681.231 L42.679 681.231 Q37.6183 681.231 35.1038 683.204 Q32.5894 685.178 32.5894 689.124 Q32.5894 693.867 35.6131 696.604 Q38.6368 699.341 43.8567 699.341 L64.0042 699.341 L64.0042 705.229 L28.3562 705.229 L28.3562 699.341 L33.8944 699.341 Q30.6797 697.241 29.0883 694.408 Q27.4968 691.543 27.4968 687.819 Q27.4968 681.676 31.3163 678.525 Q35.1038 675.374 42.4881 675.374 Z\" fill=\"#000000\" fill-rule=\"evenodd\" fill-opacity=\"1\" /><path clip-path=\"url(#clip810)\" d=\"M18.2347 657.9 L28.3562 657.9 L28.3562 645.837 L32.9077 645.837 L32.9077 657.9 L52.2594 657.9 Q56.6199 657.9 57.8613 656.723 Q59.1026 655.513 59.1026 651.853 L59.1026 645.837 L64.0042 645.837 L64.0042 651.853 Q64.0042 658.633 61.4897 661.211 Q58.9434 663.789 52.2594 663.789 L32.9077 663.789 L32.9077 668.086 L28.3562 668.086 L28.3562 663.789 L18.2347 663.789 L18.2347 657.9 Z\" fill=\"#000000\" fill-rule=\"evenodd\" fill-opacity=\"1\" /><path clip-path=\"url(#clip812)\" d=\"M215.576 951.554 L215.576 1384.24 L257.218 1384.24 L257.218 951.554 L215.576 951.554 L215.576 951.554  Z\" fill=\"#009af9\" fill-rule=\"evenodd\" fill-opacity=\"1\"/>\n<polyline clip-path=\"url(#clip812)\" style=\"stroke:#000000; stroke-linecap:round; stroke-linejoin:round; stroke-width:4; stroke-opacity:1; fill:none\" points=\"215.576,951.554 215.576,1384.24 257.218,1384.24 257.218,951.554 215.576,951.554 \"/>\n<path clip-path=\"url(#clip812)\" d=\"M257.218 1384.24 L257.218 1384.24 L298.86 1384.24 L298.86 1384.24 L257.218 1384.24 L257.218 1384.24  Z\" fill=\"#009af9\" fill-rule=\"evenodd\" fill-opacity=\"1\"/>\n<polyline clip-path=\"url(#clip812)\" style=\"stroke:#000000; stroke-linecap:round; stroke-linejoin:round; stroke-width:4; stroke-opacity:1; fill:none\" points=\"257.218,1384.24 257.218,1384.24 298.86,1384.24 257.218,1384.24 \"/>\n<path clip-path=\"url(#clip812)\" d=\"M298.86 1167.9 L298.86 1384.24 L340.503 1384.24 L340.503 1167.9 L298.86 1167.9 L298.86 1167.9  Z\" fill=\"#009af9\" fill-rule=\"evenodd\" fill-opacity=\"1\"/>\n<polyline clip-path=\"url(#clip812)\" style=\"stroke:#000000; stroke-linecap:round; stroke-linejoin:round; stroke-width:4; stroke-opacity:1; fill:none\" points=\"298.86,1167.9 298.86,1384.24 340.503,1384.24 340.503,1167.9 298.86,1167.9 \"/>\n<path clip-path=\"url(#clip812)\" d=\"M340.503 1384.24 L340.503 1384.24 L382.145 1384.24 L382.145 1384.24 L340.503 1384.24 L340.503 1384.24  Z\" fill=\"#009af9\" fill-rule=\"evenodd\" fill-opacity=\"1\"/>\n<polyline clip-path=\"url(#clip812)\" style=\"stroke:#000000; stroke-linecap:round; stroke-linejoin:round; stroke-width:4; stroke-opacity:1; fill:none\" points=\"340.503,1384.24 340.503,1384.24 382.145,1384.24 340.503,1384.24 \"/>\n<path clip-path=\"url(#clip812)\" d=\"M382.145 1167.9 L382.145 1384.24 L423.787 1384.24 L423.787 1167.9 L382.145 1167.9 L382.145 1167.9  Z\" fill=\"#009af9\" fill-rule=\"evenodd\" fill-opacity=\"1\"/>\n<polyline clip-path=\"url(#clip812)\" style=\"stroke:#000000; stroke-linecap:round; stroke-linejoin:round; stroke-width:4; stroke-opacity:1; fill:none\" points=\"382.145,1167.9 382.145,1384.24 423.787,1384.24 423.787,1167.9 382.145,1167.9 \"/>\n<path clip-path=\"url(#clip812)\" d=\"M423.787 518.87 L423.787 1384.24 L465.43 1384.24 L465.43 518.87 L423.787 518.87 L423.787 518.87  Z\" fill=\"#009af9\" fill-rule=\"evenodd\" fill-opacity=\"1\"/>\n<polyline clip-path=\"url(#clip812)\" style=\"stroke:#000000; stroke-linecap:round; stroke-linejoin:round; stroke-width:4; stroke-opacity:1; fill:none\" points=\"423.787,518.87 423.787,1384.24 465.43,1384.24 465.43,518.87 423.787,518.87 \"/>\n<path clip-path=\"url(#clip812)\" d=\"M465.43 1167.9 L465.43 1384.24 L507.072 1384.24 L507.072 1167.9 L465.43 1167.9 L465.43 1167.9  Z\" fill=\"#009af9\" fill-rule=\"evenodd\" fill-opacity=\"1\"/>\n<polyline clip-path=\"url(#clip812)\" style=\"stroke:#000000; stroke-linecap:round; stroke-linejoin:round; stroke-width:4; stroke-opacity:1; fill:none\" points=\"465.43,1167.9 465.43,1384.24 507.072,1384.24 507.072,1167.9 465.43,1167.9 \"/>\n<path clip-path=\"url(#clip812)\" d=\"M507.072 1384.24 L507.072 1384.24 L548.714 1384.24 L548.714 1384.24 L507.072 1384.24 L507.072 1384.24  Z\" fill=\"#009af9\" fill-rule=\"evenodd\" fill-opacity=\"1\"/>\n<polyline clip-path=\"url(#clip812)\" style=\"stroke:#000000; stroke-linecap:round; stroke-linejoin:round; stroke-width:4; stroke-opacity:1; fill:none\" points=\"507.072,1384.24 507.072,1384.24 548.714,1384.24 507.072,1384.24 \"/>\n<path clip-path=\"url(#clip812)\" d=\"M548.714 735.212 L548.714 1384.24 L590.357 1384.24 L590.357 735.212 L548.714 735.212 L548.714 735.212  Z\" fill=\"#009af9\" fill-rule=\"evenodd\" fill-opacity=\"1\"/>\n<polyline clip-path=\"url(#clip812)\" style=\"stroke:#000000; stroke-linecap:round; stroke-linejoin:round; stroke-width:4; stroke-opacity:1; fill:none\" points=\"548.714,735.212 548.714,1384.24 590.357,1384.24 590.357,735.212 548.714,735.212 \"/>\n<path clip-path=\"url(#clip812)\" d=\"M590.357 1384.24 L590.357 1384.24 L631.999 1384.24 L631.999 1384.24 L590.357 1384.24 L590.357 1384.24  Z\" fill=\"#009af9\" fill-rule=\"evenodd\" fill-opacity=\"1\"/>\n<polyline clip-path=\"url(#clip812)\" style=\"stroke:#000000; stroke-linecap:round; stroke-linejoin:round; stroke-width:4; stroke-opacity:1; fill:none\" points=\"590.357,1384.24 590.357,1384.24 631.999,1384.24 590.357,1384.24 \"/>\n<path clip-path=\"url(#clip812)\" d=\"M631.999 1167.9 L631.999 1384.24 L673.641 1384.24 L673.641 1167.9 L631.999 1167.9 L631.999 1167.9  Z\" fill=\"#009af9\" fill-rule=\"evenodd\" fill-opacity=\"1\"/>\n<polyline clip-path=\"url(#clip812)\" style=\"stroke:#000000; stroke-linecap:round; stroke-linejoin:round; stroke-width:4; stroke-opacity:1; fill:none\" points=\"631.999,1167.9 631.999,1384.24 673.641,1384.24 673.641,1167.9 631.999,1167.9 \"/>\n<path clip-path=\"url(#clip812)\" d=\"M673.641 951.554 L673.641 1384.24 L715.284 1384.24 L715.284 951.554 L673.641 951.554 L673.641 951.554  Z\" fill=\"#009af9\" fill-rule=\"evenodd\" fill-opacity=\"1\"/>\n<polyline clip-path=\"url(#clip812)\" style=\"stroke:#000000; stroke-linecap:round; stroke-linejoin:round; stroke-width:4; stroke-opacity:1; fill:none\" points=\"673.641,951.554 673.641,1384.24 715.284,1384.24 715.284,951.554 673.641,951.554 \"/>\n<path clip-path=\"url(#clip812)\" d=\"M715.284 86.1857 L715.284 1384.24 L756.926 1384.24 L756.926 86.1857 L715.284 86.1857 L715.284 86.1857  Z\" fill=\"#009af9\" fill-rule=\"evenodd\" fill-opacity=\"1\"/>\n<polyline clip-path=\"url(#clip812)\" style=\"stroke:#000000; stroke-linecap:round; stroke-linejoin:round; stroke-width:4; stroke-opacity:1; fill:none\" points=\"715.284,86.1857 715.284,1384.24 756.926,1384.24 756.926,86.1857 715.284,86.1857 \"/>\n<path clip-path=\"url(#clip812)\" d=\"M756.926 951.554 L756.926 1384.24 L798.568 1384.24 L798.568 951.554 L756.926 951.554 L756.926 951.554  Z\" fill=\"#009af9\" fill-rule=\"evenodd\" fill-opacity=\"1\"/>\n<polyline clip-path=\"url(#clip812)\" style=\"stroke:#000000; stroke-linecap:round; stroke-linejoin:round; stroke-width:4; stroke-opacity:1; fill:none\" points=\"756.926,951.554 756.926,1384.24 798.568,1384.24 798.568,951.554 756.926,951.554 \"/>\n<path clip-path=\"url(#clip812)\" d=\"M798.568 518.87 L798.568 1384.24 L840.21 1384.24 L840.21 518.87 L798.568 518.87 L798.568 518.87  Z\" fill=\"#009af9\" fill-rule=\"evenodd\" fill-opacity=\"1\"/>\n<polyline clip-path=\"url(#clip812)\" style=\"stroke:#000000; stroke-linecap:round; stroke-linejoin:round; stroke-width:4; stroke-opacity:1; fill:none\" points=\"798.568,518.87 798.568,1384.24 840.21,1384.24 840.21,518.87 798.568,518.87 \"/>\n<path clip-path=\"url(#clip812)\" d=\"M840.21 1167.9 L840.21 1384.24 L881.853 1384.24 L881.853 1167.9 L840.21 1167.9 L840.21 1167.9  Z\" fill=\"#009af9\" fill-rule=\"evenodd\" fill-opacity=\"1\"/>\n<polyline clip-path=\"url(#clip812)\" style=\"stroke:#000000; stroke-linecap:round; stroke-linejoin:round; stroke-width:4; stroke-opacity:1; fill:none\" points=\"840.21,1167.9 840.21,1384.24 881.853,1384.24 881.853,1167.9 840.21,1167.9 \"/>\n<path clip-path=\"url(#clip812)\" d=\"M881.853 735.212 L881.853 1384.24 L923.495 1384.24 L923.495 735.212 L881.853 735.212 L881.853 735.212  Z\" fill=\"#009af9\" fill-rule=\"evenodd\" fill-opacity=\"1\"/>\n<polyline clip-path=\"url(#clip812)\" style=\"stroke:#000000; stroke-linecap:round; stroke-linejoin:round; stroke-width:4; stroke-opacity:1; fill:none\" points=\"881.853,735.212 881.853,1384.24 923.495,1384.24 923.495,735.212 881.853,735.212 \"/>\n<path clip-path=\"url(#clip812)\" d=\"M923.495 1167.9 L923.495 1384.24 L965.137 1384.24 L965.137 1167.9 L923.495 1167.9 L923.495 1167.9  Z\" fill=\"#009af9\" fill-rule=\"evenodd\" fill-opacity=\"1\"/>\n<polyline clip-path=\"url(#clip812)\" style=\"stroke:#000000; stroke-linecap:round; stroke-linejoin:round; stroke-width:4; stroke-opacity:1; fill:none\" points=\"923.495,1167.9 923.495,1384.24 965.137,1384.24 965.137,1167.9 923.495,1167.9 \"/>\n<path clip-path=\"url(#clip812)\" d=\"M965.137 735.212 L965.137 1384.24 L1006.78 1384.24 L1006.78 735.212 L965.137 735.212 L965.137 735.212  Z\" fill=\"#009af9\" fill-rule=\"evenodd\" fill-opacity=\"1\"/>\n<polyline clip-path=\"url(#clip812)\" style=\"stroke:#000000; stroke-linecap:round; stroke-linejoin:round; stroke-width:4; stroke-opacity:1; fill:none\" points=\"965.137,735.212 965.137,1384.24 1006.78,1384.24 1006.78,735.212 965.137,735.212 \"/>\n<path clip-path=\"url(#clip812)\" d=\"M1006.78 735.212 L1006.78 1384.24 L1048.42 1384.24 L1048.42 735.212 L1006.78 735.212 L1006.78 735.212  Z\" fill=\"#009af9\" fill-rule=\"evenodd\" fill-opacity=\"1\"/>\n<polyline clip-path=\"url(#clip812)\" style=\"stroke:#000000; stroke-linecap:round; stroke-linejoin:round; stroke-width:4; stroke-opacity:1; fill:none\" points=\"1006.78,735.212 1006.78,1384.24 1048.42,1384.24 1048.42,735.212 1006.78,735.212 \"/>\n<path clip-path=\"url(#clip812)\" d=\"M1048.42 735.212 L1048.42 1384.24 L1090.06 1384.24 L1090.06 735.212 L1048.42 735.212 L1048.42 735.212  Z\" fill=\"#009af9\" fill-rule=\"evenodd\" fill-opacity=\"1\"/>\n<polyline clip-path=\"url(#clip812)\" style=\"stroke:#000000; stroke-linecap:round; stroke-linejoin:round; stroke-width:4; stroke-opacity:1; fill:none\" points=\"1048.42,735.212 1048.42,1384.24 1090.06,1384.24 1090.06,735.212 1048.42,735.212 \"/>\n<path clip-path=\"url(#clip812)\" d=\"M1090.06 951.554 L1090.06 1384.24 L1131.71 1384.24 L1131.71 951.554 L1090.06 951.554 L1090.06 951.554  Z\" fill=\"#009af9\" fill-rule=\"evenodd\" fill-opacity=\"1\"/>\n<polyline clip-path=\"url(#clip812)\" style=\"stroke:#000000; stroke-linecap:round; stroke-linejoin:round; stroke-width:4; stroke-opacity:1; fill:none\" points=\"1090.06,951.554 1090.06,1384.24 1131.71,1384.24 1131.71,951.554 1090.06,951.554 \"/>\n<path clip-path=\"url(#clip812)\" d=\"M1131.71 735.212 L1131.71 1384.24 L1173.35 1384.24 L1173.35 735.212 L1131.71 735.212 L1131.71 735.212  Z\" fill=\"#009af9\" fill-rule=\"evenodd\" fill-opacity=\"1\"/>\n<polyline clip-path=\"url(#clip812)\" style=\"stroke:#000000; stroke-linecap:round; stroke-linejoin:round; stroke-width:4; stroke-opacity:1; fill:none\" points=\"1131.71,735.212 1131.71,1384.24 1173.35,1384.24 1173.35,735.212 1131.71,735.212 \"/>\n<path clip-path=\"url(#clip812)\" d=\"M1173.35 951.554 L1173.35 1384.24 L1214.99 1384.24 L1214.99 951.554 L1173.35 951.554 L1173.35 951.554  Z\" fill=\"#009af9\" fill-rule=\"evenodd\" fill-opacity=\"1\"/>\n<polyline clip-path=\"url(#clip812)\" style=\"stroke:#000000; stroke-linecap:round; stroke-linejoin:round; stroke-width:4; stroke-opacity:1; fill:none\" points=\"1173.35,951.554 1173.35,1384.24 1214.99,1384.24 1214.99,951.554 1173.35,951.554 \"/>\n<path clip-path=\"url(#clip812)\" d=\"M1214.99 1384.24 L1214.99 1384.24 L1256.63 1384.24 L1256.63 1384.24 L1214.99 1384.24 L1214.99 1384.24  Z\" fill=\"#009af9\" fill-rule=\"evenodd\" fill-opacity=\"1\"/>\n<polyline clip-path=\"url(#clip812)\" style=\"stroke:#000000; stroke-linecap:round; stroke-linejoin:round; stroke-width:4; stroke-opacity:1; fill:none\" points=\"1214.99,1384.24 1214.99,1384.24 1256.63,1384.24 1214.99,1384.24 \"/>\n<path clip-path=\"url(#clip812)\" d=\"M1256.63 1384.24 L1256.63 1384.24 L1298.28 1384.24 L1298.28 1384.24 L1256.63 1384.24 L1256.63 1384.24  Z\" fill=\"#009af9\" fill-rule=\"evenodd\" fill-opacity=\"1\"/>\n<polyline clip-path=\"url(#clip812)\" style=\"stroke:#000000; stroke-linecap:round; stroke-linejoin:round; stroke-width:4; stroke-opacity:1; fill:none\" points=\"1256.63,1384.24 1256.63,1384.24 1298.28,1384.24 1256.63,1384.24 \"/>\n<path clip-path=\"url(#clip812)\" d=\"M1298.28 735.212 L1298.28 1384.24 L1339.92 1384.24 L1339.92 735.212 L1298.28 735.212 L1298.28 735.212  Z\" fill=\"#009af9\" fill-rule=\"evenodd\" fill-opacity=\"1\"/>\n<polyline clip-path=\"url(#clip812)\" style=\"stroke:#000000; stroke-linecap:round; stroke-linejoin:round; stroke-width:4; stroke-opacity:1; fill:none\" points=\"1298.28,735.212 1298.28,1384.24 1339.92,1384.24 1339.92,735.212 1298.28,735.212 \"/>\n<path clip-path=\"url(#clip812)\" d=\"M1339.92 1384.24 L1339.92 1384.24 L1381.56 1384.24 L1381.56 1384.24 L1339.92 1384.24 L1339.92 1384.24  Z\" fill=\"#009af9\" fill-rule=\"evenodd\" fill-opacity=\"1\"/>\n<polyline clip-path=\"url(#clip812)\" style=\"stroke:#000000; stroke-linecap:round; stroke-linejoin:round; stroke-width:4; stroke-opacity:1; fill:none\" points=\"1339.92,1384.24 1339.92,1384.24 1381.56,1384.24 1339.92,1384.24 \"/>\n<path clip-path=\"url(#clip812)\" d=\"M1381.56 951.554 L1381.56 1384.24 L1423.2 1384.24 L1423.2 951.554 L1381.56 951.554 L1381.56 951.554  Z\" fill=\"#009af9\" fill-rule=\"evenodd\" fill-opacity=\"1\"/>\n<polyline clip-path=\"url(#clip812)\" style=\"stroke:#000000; stroke-linecap:round; stroke-linejoin:round; stroke-width:4; stroke-opacity:1; fill:none\" points=\"1381.56,951.554 1381.56,1384.24 1423.2,1384.24 1423.2,951.554 1381.56,951.554 \"/>\n<path clip-path=\"url(#clip812)\" d=\"M1423.2 1384.24 L1423.2 1384.24 L1464.84 1384.24 L1464.84 1384.24 L1423.2 1384.24 L1423.2 1384.24  Z\" fill=\"#009af9\" fill-rule=\"evenodd\" fill-opacity=\"1\"/>\n<polyline clip-path=\"url(#clip812)\" style=\"stroke:#000000; stroke-linecap:round; stroke-linejoin:round; stroke-width:4; stroke-opacity:1; fill:none\" points=\"1423.2,1384.24 1423.2,1384.24 1464.84,1384.24 1423.2,1384.24 \"/>\n<path clip-path=\"url(#clip812)\" d=\"M1464.84 1167.9 L1464.84 1384.24 L1506.49 1384.24 L1506.49 1167.9 L1464.84 1167.9 L1464.84 1167.9  Z\" fill=\"#009af9\" fill-rule=\"evenodd\" fill-opacity=\"1\"/>\n<polyline clip-path=\"url(#clip812)\" style=\"stroke:#000000; stroke-linecap:round; stroke-linejoin:round; stroke-width:4; stroke-opacity:1; fill:none\" points=\"1464.84,1167.9 1464.84,1384.24 1506.49,1384.24 1506.49,1167.9 1464.84,1167.9 \"/>\n<path clip-path=\"url(#clip812)\" d=\"M1506.49 1167.9 L1506.49 1384.24 L1548.13 1384.24 L1548.13 1167.9 L1506.49 1167.9 L1506.49 1167.9  Z\" fill=\"#009af9\" fill-rule=\"evenodd\" fill-opacity=\"1\"/>\n<polyline clip-path=\"url(#clip812)\" style=\"stroke:#000000; stroke-linecap:round; stroke-linejoin:round; stroke-width:4; stroke-opacity:1; fill:none\" points=\"1506.49,1167.9 1506.49,1384.24 1548.13,1384.24 1548.13,1167.9 1506.49,1167.9 \"/>\n<path clip-path=\"url(#clip812)\" d=\"M1548.13 1384.24 L1548.13 1384.24 L1589.77 1384.24 L1589.77 1384.24 L1548.13 1384.24 L1548.13 1384.24  Z\" fill=\"#009af9\" fill-rule=\"evenodd\" fill-opacity=\"1\"/>\n<polyline clip-path=\"url(#clip812)\" style=\"stroke:#000000; stroke-linecap:round; stroke-linejoin:round; stroke-width:4; stroke-opacity:1; fill:none\" points=\"1548.13,1384.24 1548.13,1384.24 1589.77,1384.24 1548.13,1384.24 \"/>\n<path clip-path=\"url(#clip812)\" d=\"M1589.77 1384.24 L1589.77 1384.24 L1631.41 1384.24 L1631.41 1384.24 L1589.77 1384.24 L1589.77 1384.24  Z\" fill=\"#009af9\" fill-rule=\"evenodd\" fill-opacity=\"1\"/>\n<polyline clip-path=\"url(#clip812)\" style=\"stroke:#000000; stroke-linecap:round; stroke-linejoin:round; stroke-width:4; stroke-opacity:1; fill:none\" points=\"1589.77,1384.24 1589.77,1384.24 1631.41,1384.24 1589.77,1384.24 \"/>\n<path clip-path=\"url(#clip812)\" d=\"M1631.41 1384.24 L1631.41 1384.24 L1673.06 1384.24 L1673.06 1384.24 L1631.41 1384.24 L1631.41 1384.24  Z\" fill=\"#009af9\" fill-rule=\"evenodd\" fill-opacity=\"1\"/>\n<polyline clip-path=\"url(#clip812)\" style=\"stroke:#000000; stroke-linecap:round; stroke-linejoin:round; stroke-width:4; stroke-opacity:1; fill:none\" points=\"1631.41,1384.24 1631.41,1384.24 1673.06,1384.24 1631.41,1384.24 \"/>\n<path clip-path=\"url(#clip812)\" d=\"M1673.06 1384.24 L1673.06 1384.24 L1714.7 1384.24 L1714.7 1384.24 L1673.06 1384.24 L1673.06 1384.24  Z\" fill=\"#009af9\" fill-rule=\"evenodd\" fill-opacity=\"1\"/>\n<polyline clip-path=\"url(#clip812)\" style=\"stroke:#000000; stroke-linecap:round; stroke-linejoin:round; stroke-width:4; stroke-opacity:1; fill:none\" points=\"1673.06,1384.24 1673.06,1384.24 1714.7,1384.24 1673.06,1384.24 \"/>\n<path clip-path=\"url(#clip812)\" d=\"M1714.7 951.554 L1714.7 1384.24 L1756.34 1384.24 L1756.34 951.554 L1714.7 951.554 L1714.7 951.554  Z\" fill=\"#009af9\" fill-rule=\"evenodd\" fill-opacity=\"1\"/>\n<polyline clip-path=\"url(#clip812)\" style=\"stroke:#000000; stroke-linecap:round; stroke-linejoin:round; stroke-width:4; stroke-opacity:1; fill:none\" points=\"1714.7,951.554 1714.7,1384.24 1756.34,1384.24 1756.34,951.554 1714.7,951.554 \"/>\n<path clip-path=\"url(#clip812)\" d=\"M1756.34 951.554 L1756.34 1384.24 L1797.98 1384.24 L1797.98 951.554 L1756.34 951.554 L1756.34 951.554  Z\" fill=\"#009af9\" fill-rule=\"evenodd\" fill-opacity=\"1\"/>\n<polyline clip-path=\"url(#clip812)\" style=\"stroke:#000000; stroke-linecap:round; stroke-linejoin:round; stroke-width:4; stroke-opacity:1; fill:none\" points=\"1756.34,951.554 1756.34,1384.24 1797.98,1384.24 1797.98,951.554 1756.34,951.554 \"/>\n<path clip-path=\"url(#clip812)\" d=\"M1797.98 1167.9 L1797.98 1384.24 L1839.63 1384.24 L1839.63 1167.9 L1797.98 1167.9 L1797.98 1167.9  Z\" fill=\"#009af9\" fill-rule=\"evenodd\" fill-opacity=\"1\"/>\n<polyline clip-path=\"url(#clip812)\" style=\"stroke:#000000; stroke-linecap:round; stroke-linejoin:round; stroke-width:4; stroke-opacity:1; fill:none\" points=\"1797.98,1167.9 1797.98,1384.24 1839.63,1384.24 1839.63,1167.9 1797.98,1167.9 \"/>\n<path clip-path=\"url(#clip812)\" d=\"M1839.63 518.87 L1839.63 1384.24 L1881.27 1384.24 L1881.27 518.87 L1839.63 518.87 L1839.63 518.87  Z\" fill=\"#009af9\" fill-rule=\"evenodd\" fill-opacity=\"1\"/>\n<polyline clip-path=\"url(#clip812)\" style=\"stroke:#000000; stroke-linecap:round; stroke-linejoin:round; stroke-width:4; stroke-opacity:1; fill:none\" points=\"1839.63,518.87 1839.63,1384.24 1881.27,1384.24 1881.27,518.87 1839.63,518.87 \"/>\n<path clip-path=\"url(#clip812)\" d=\"M1881.27 951.554 L1881.27 1384.24 L1922.91 1384.24 L1922.91 951.554 L1881.27 951.554 L1881.27 951.554  Z\" fill=\"#009af9\" fill-rule=\"evenodd\" fill-opacity=\"1\"/>\n<polyline clip-path=\"url(#clip812)\" style=\"stroke:#000000; stroke-linecap:round; stroke-linejoin:round; stroke-width:4; stroke-opacity:1; fill:none\" points=\"1881.27,951.554 1881.27,1384.24 1922.91,1384.24 1922.91,951.554 1881.27,951.554 \"/>\n<path clip-path=\"url(#clip812)\" d=\"M1922.91 951.554 L1922.91 1384.24 L1964.55 1384.24 L1964.55 951.554 L1922.91 951.554 L1922.91 951.554  Z\" fill=\"#009af9\" fill-rule=\"evenodd\" fill-opacity=\"1\"/>\n<polyline clip-path=\"url(#clip812)\" style=\"stroke:#000000; stroke-linecap:round; stroke-linejoin:round; stroke-width:4; stroke-opacity:1; fill:none\" points=\"1922.91,951.554 1922.91,1384.24 1964.55,1384.24 1964.55,951.554 1922.91,951.554 \"/>\n<path clip-path=\"url(#clip812)\" d=\"M1964.55 1167.9 L1964.55 1384.24 L2006.19 1384.24 L2006.19 1167.9 L1964.55 1167.9 L1964.55 1167.9  Z\" fill=\"#009af9\" fill-rule=\"evenodd\" fill-opacity=\"1\"/>\n<polyline clip-path=\"url(#clip812)\" style=\"stroke:#000000; stroke-linecap:round; stroke-linejoin:round; stroke-width:4; stroke-opacity:1; fill:none\" points=\"1964.55,1167.9 1964.55,1384.24 2006.19,1384.24 2006.19,1167.9 1964.55,1167.9 \"/>\n<path clip-path=\"url(#clip812)\" d=\"M2006.19 86.1857 L2006.19 1384.24 L2047.84 1384.24 L2047.84 86.1857 L2006.19 86.1857 L2006.19 86.1857  Z\" fill=\"#009af9\" fill-rule=\"evenodd\" fill-opacity=\"1\"/>\n<polyline clip-path=\"url(#clip812)\" style=\"stroke:#000000; stroke-linecap:round; stroke-linejoin:round; stroke-width:4; stroke-opacity:1; fill:none\" points=\"2006.19,86.1857 2006.19,1384.24 2047.84,1384.24 2047.84,86.1857 2006.19,86.1857 \"/>\n<path clip-path=\"url(#clip812)\" d=\"M2047.84 735.212 L2047.84 1384.24 L2089.48 1384.24 L2089.48 735.212 L2047.84 735.212 L2047.84 735.212  Z\" fill=\"#009af9\" fill-rule=\"evenodd\" fill-opacity=\"1\"/>\n<polyline clip-path=\"url(#clip812)\" style=\"stroke:#000000; stroke-linecap:round; stroke-linejoin:round; stroke-width:4; stroke-opacity:1; fill:none\" points=\"2047.84,735.212 2047.84,1384.24 2089.48,1384.24 2089.48,735.212 2047.84,735.212 \"/>\n<path clip-path=\"url(#clip812)\" d=\"M2089.48 951.554 L2089.48 1384.24 L2131.12 1384.24 L2131.12 951.554 L2089.48 951.554 L2089.48 951.554  Z\" fill=\"#009af9\" fill-rule=\"evenodd\" fill-opacity=\"1\"/>\n<polyline clip-path=\"url(#clip812)\" style=\"stroke:#000000; stroke-linecap:round; stroke-linejoin:round; stroke-width:4; stroke-opacity:1; fill:none\" points=\"2089.48,951.554 2089.48,1384.24 2131.12,1384.24 2131.12,951.554 2089.48,951.554 \"/>\n<path clip-path=\"url(#clip812)\" d=\"M2131.12 1384.24 L2131.12 1384.24 L2172.76 1384.24 L2172.76 1384.24 L2131.12 1384.24 L2131.12 1384.24  Z\" fill=\"#009af9\" fill-rule=\"evenodd\" fill-opacity=\"1\"/>\n<polyline clip-path=\"url(#clip812)\" style=\"stroke:#000000; stroke-linecap:round; stroke-linejoin:round; stroke-width:4; stroke-opacity:1; fill:none\" points=\"2131.12,1384.24 2131.12,1384.24 2172.76,1384.24 2131.12,1384.24 \"/>\n<path clip-path=\"url(#clip812)\" d=\"M2172.76 1167.9 L2172.76 1384.24 L2214.41 1384.24 L2214.41 1167.9 L2172.76 1167.9 L2172.76 1167.9  Z\" fill=\"#009af9\" fill-rule=\"evenodd\" fill-opacity=\"1\"/>\n<polyline clip-path=\"url(#clip812)\" style=\"stroke:#000000; stroke-linecap:round; stroke-linejoin:round; stroke-width:4; stroke-opacity:1; fill:none\" points=\"2172.76,1167.9 2172.76,1384.24 2214.41,1384.24 2214.41,1167.9 2172.76,1167.9 \"/>\n<path clip-path=\"url(#clip812)\" d=\"M2214.41 951.554 L2214.41 1384.24 L2256.05 1384.24 L2256.05 951.554 L2214.41 951.554 L2214.41 951.554  Z\" fill=\"#009af9\" fill-rule=\"evenodd\" fill-opacity=\"1\"/>\n<polyline clip-path=\"url(#clip812)\" style=\"stroke:#000000; stroke-linecap:round; stroke-linejoin:round; stroke-width:4; stroke-opacity:1; fill:none\" points=\"2214.41,951.554 2214.41,1384.24 2256.05,1384.24 2256.05,951.554 2214.41,951.554 \"/>\n<path clip-path=\"url(#clip812)\" d=\"M2256.05 518.87 L2256.05 1384.24 L2297.69 1384.24 L2297.69 518.87 L2256.05 518.87 L2256.05 518.87  Z\" fill=\"#009af9\" fill-rule=\"evenodd\" fill-opacity=\"1\"/>\n<polyline clip-path=\"url(#clip812)\" style=\"stroke:#000000; stroke-linecap:round; stroke-linejoin:round; stroke-width:4; stroke-opacity:1; fill:none\" points=\"2256.05,518.87 2256.05,1384.24 2297.69,1384.24 2297.69,518.87 2256.05,518.87 \"/>\n<path clip-path=\"url(#clip812)\" d=\"M2297.69 951.554 L2297.69 1384.24 L2339.33 1384.24 L2339.33 951.554 L2297.69 951.554 L2297.69 951.554  Z\" fill=\"#009af9\" fill-rule=\"evenodd\" fill-opacity=\"1\"/>\n<polyline clip-path=\"url(#clip812)\" style=\"stroke:#000000; stroke-linecap:round; stroke-linejoin:round; stroke-width:4; stroke-opacity:1; fill:none\" points=\"2297.69,951.554 2297.69,1384.24 2339.33,1384.24 2339.33,951.554 2297.69,951.554 \"/>\n<path clip-path=\"url(#clip812)\" d=\"M2339.33 951.554 L2339.33 1384.24 L2380.98 1384.24 L2380.98 951.554 L2339.33 951.554 L2339.33 951.554  Z\" fill=\"#009af9\" fill-rule=\"evenodd\" fill-opacity=\"1\"/>\n<polyline clip-path=\"url(#clip812)\" style=\"stroke:#000000; stroke-linecap:round; stroke-linejoin:round; stroke-width:4; stroke-opacity:1; fill:none\" points=\"2339.33,951.554 2339.33,1384.24 2380.98,1384.24 2380.98,951.554 2339.33,951.554 \"/>\n<path clip-path=\"url(#clip812)\" d=\"M2380.98 518.87 L2380.98 1384.24 L2422.62 1384.24 L2422.62 518.87 L2380.98 518.87 L2380.98 518.87  Z\" fill=\"#009af9\" fill-rule=\"evenodd\" fill-opacity=\"1\"/>\n<polyline clip-path=\"url(#clip812)\" style=\"stroke:#000000; stroke-linecap:round; stroke-linejoin:round; stroke-width:4; stroke-opacity:1; fill:none\" points=\"2380.98,518.87 2380.98,1384.24 2422.62,1384.24 2422.62,518.87 2380.98,518.87 \"/>\n<path clip-path=\"url(#clip812)\" d=\"M2422.62 1384.24 L2422.62 1384.24 L2464.26 1384.24 L2464.26 1384.24 L2422.62 1384.24 L2422.62 1384.24  Z\" fill=\"#009af9\" fill-rule=\"evenodd\" fill-opacity=\"1\"/>\n<polyline clip-path=\"url(#clip812)\" style=\"stroke:#000000; stroke-linecap:round; stroke-linejoin:round; stroke-width:4; stroke-opacity:1; fill:none\" points=\"2422.62,1384.24 2422.62,1384.24 2464.26,1384.24 2422.62,1384.24 \"/>\n<path clip-path=\"url(#clip812)\" d=\"M2464.26 1167.9 L2464.26 1384.24 L2505.9 1384.24 L2505.9 1167.9 L2464.26 1167.9 L2464.26 1167.9  Z\" fill=\"#009af9\" fill-rule=\"evenodd\" fill-opacity=\"1\"/>\n<polyline clip-path=\"url(#clip812)\" style=\"stroke:#000000; stroke-linecap:round; stroke-linejoin:round; stroke-width:4; stroke-opacity:1; fill:none\" points=\"2464.26,1167.9 2464.26,1384.24 2505.9,1384.24 2505.9,1167.9 2464.26,1167.9 \"/>\n<path clip-path=\"url(#clip812)\" d=\"M2505.9 951.554 L2505.9 1384.24 L2547.54 1384.24 L2547.54 951.554 L2505.9 951.554 L2505.9 951.554  Z\" fill=\"#009af9\" fill-rule=\"evenodd\" fill-opacity=\"1\"/>\n<polyline clip-path=\"url(#clip812)\" style=\"stroke:#000000; stroke-linecap:round; stroke-linejoin:round; stroke-width:4; stroke-opacity:1; fill:none\" points=\"2505.9,951.554 2505.9,1384.24 2547.54,1384.24 2547.54,951.554 2505.9,951.554 \"/>\n<path clip-path=\"url(#clip812)\" d=\"M2547.54 518.87 L2547.54 1384.24 L2589.19 1384.24 L2589.19 518.87 L2547.54 518.87 L2547.54 518.87  Z\" fill=\"#009af9\" fill-rule=\"evenodd\" fill-opacity=\"1\"/>\n<polyline clip-path=\"url(#clip812)\" style=\"stroke:#000000; stroke-linecap:round; stroke-linejoin:round; stroke-width:4; stroke-opacity:1; fill:none\" points=\"2547.54,518.87 2547.54,1384.24 2589.19,1384.24 2589.19,518.87 2547.54,518.87 \"/>\n<path clip-path=\"url(#clip812)\" d=\"M2589.19 1167.9 L2589.19 1384.24 L2630.83 1384.24 L2630.83 1167.9 L2589.19 1167.9 L2589.19 1167.9  Z\" fill=\"#009af9\" fill-rule=\"evenodd\" fill-opacity=\"1\"/>\n<polyline clip-path=\"url(#clip812)\" style=\"stroke:#000000; stroke-linecap:round; stroke-linejoin:round; stroke-width:4; stroke-opacity:1; fill:none\" points=\"2589.19,1167.9 2589.19,1384.24 2630.83,1384.24 2630.83,1167.9 2589.19,1167.9 \"/>\n<path clip-path=\"url(#clip812)\" d=\"M2630.83 735.212 L2630.83 1384.24 L2672.47 1384.24 L2672.47 735.212 L2630.83 735.212 L2630.83 735.212  Z\" fill=\"#009af9\" fill-rule=\"evenodd\" fill-opacity=\"1\"/>\n<polyline clip-path=\"url(#clip812)\" style=\"stroke:#000000; stroke-linecap:round; stroke-linejoin:round; stroke-width:4; stroke-opacity:1; fill:none\" points=\"2630.83,735.212 2630.83,1384.24 2672.47,1384.24 2672.47,735.212 2630.83,735.212 \"/>\n<path clip-path=\"url(#clip812)\" d=\"M2672.47 951.554 L2672.47 1384.24 L2714.11 1384.24 L2714.11 951.554 L2672.47 951.554 L2672.47 951.554  Z\" fill=\"#009af9\" fill-rule=\"evenodd\" fill-opacity=\"1\"/>\n<polyline clip-path=\"url(#clip812)\" style=\"stroke:#000000; stroke-linecap:round; stroke-linejoin:round; stroke-width:4; stroke-opacity:1; fill:none\" points=\"2672.47,951.554 2672.47,1384.24 2714.11,1384.24 2714.11,951.554 2672.47,951.554 \"/>\n<path clip-path=\"url(#clip812)\" d=\"M2714.11 518.87 L2714.11 1384.24 L2755.76 1384.24 L2755.76 518.87 L2714.11 518.87 L2714.11 518.87  Z\" fill=\"#009af9\" fill-rule=\"evenodd\" fill-opacity=\"1\"/>\n<polyline clip-path=\"url(#clip812)\" style=\"stroke:#000000; stroke-linecap:round; stroke-linejoin:round; stroke-width:4; stroke-opacity:1; fill:none\" points=\"2714.11,518.87 2714.11,1384.24 2755.76,1384.24 2755.76,518.87 2714.11,518.87 \"/>\n<path clip-path=\"url(#clip812)\" d=\"M2755.76 302.528 L2755.76 1384.24 L2797.4 1384.24 L2797.4 302.528 L2755.76 302.528 L2755.76 302.528  Z\" fill=\"#009af9\" fill-rule=\"evenodd\" fill-opacity=\"1\"/>\n<polyline clip-path=\"url(#clip812)\" style=\"stroke:#000000; stroke-linecap:round; stroke-linejoin:round; stroke-width:4; stroke-opacity:1; fill:none\" points=\"2755.76,302.528 2755.76,1384.24 2797.4,1384.24 2797.4,302.528 2755.76,302.528 \"/>\n<path clip-path=\"url(#clip812)\" d=\"M2797.4 518.87 L2797.4 1384.24 L2839.04 1384.24 L2839.04 518.87 L2797.4 518.87 L2797.4 518.87  Z\" fill=\"#009af9\" fill-rule=\"evenodd\" fill-opacity=\"1\"/>\n<polyline clip-path=\"url(#clip812)\" style=\"stroke:#000000; stroke-linecap:round; stroke-linejoin:round; stroke-width:4; stroke-opacity:1; fill:none\" points=\"2797.4,518.87 2797.4,1384.24 2839.04,1384.24 2839.04,518.87 2797.4,518.87 \"/>\n<path clip-path=\"url(#clip812)\" d=\"M2839.04 1167.9 L2839.04 1384.24 L2880.68 1384.24 L2880.68 1167.9 L2839.04 1167.9 L2839.04 1167.9  Z\" fill=\"#009af9\" fill-rule=\"evenodd\" fill-opacity=\"1\"/>\n<polyline clip-path=\"url(#clip812)\" style=\"stroke:#000000; stroke-linecap:round; stroke-linejoin:round; stroke-width:4; stroke-opacity:1; fill:none\" points=\"2839.04,1167.9 2839.04,1384.24 2880.68,1384.24 2880.68,1167.9 2839.04,1167.9 \"/>\n<path clip-path=\"url(#clip812)\" d=\"M2880.68 86.1857 L2880.68 1384.24 L2922.33 1384.24 L2922.33 86.1857 L2880.68 86.1857 L2880.68 86.1857  Z\" fill=\"#009af9\" fill-rule=\"evenodd\" fill-opacity=\"1\"/>\n<polyline clip-path=\"url(#clip812)\" style=\"stroke:#000000; stroke-linecap:round; stroke-linejoin:round; stroke-width:4; stroke-opacity:1; fill:none\" points=\"2880.68,86.1857 2880.68,1384.24 2922.33,1384.24 2922.33,86.1857 2880.68,86.1857 \"/>\n<path clip-path=\"url(#clip812)\" d=\"M2922.33 302.528 L2922.33 1384.24 L2963.97 1384.24 L2963.97 302.528 L2922.33 302.528 L2922.33 302.528  Z\" fill=\"#009af9\" fill-rule=\"evenodd\" fill-opacity=\"1\"/>\n<polyline clip-path=\"url(#clip812)\" style=\"stroke:#000000; stroke-linecap:round; stroke-linejoin:round; stroke-width:4; stroke-opacity:1; fill:none\" points=\"2922.33,302.528 2922.33,1384.24 2963.97,1384.24 2963.97,302.528 2922.33,302.528 \"/>\n<path clip-path=\"url(#clip812)\" d=\"M2963.97 735.212 L2963.97 1384.24 L3005.61 1384.24 L3005.61 735.212 L2963.97 735.212 L2963.97 735.212  Z\" fill=\"#009af9\" fill-rule=\"evenodd\" fill-opacity=\"1\"/>\n<polyline clip-path=\"url(#clip812)\" style=\"stroke:#000000; stroke-linecap:round; stroke-linejoin:round; stroke-width:4; stroke-opacity:1; fill:none\" points=\"2963.97,735.212 2963.97,1384.24 3005.61,1384.24 3005.61,735.212 2963.97,735.212 \"/>\n<path clip-path=\"url(#clip812)\" d=\"M3005.61 1167.9 L3005.61 1384.24 L3047.25 1384.24 L3047.25 1167.9 L3005.61 1167.9 L3005.61 1167.9  Z\" fill=\"#009af9\" fill-rule=\"evenodd\" fill-opacity=\"1\"/>\n<polyline clip-path=\"url(#clip812)\" style=\"stroke:#000000; stroke-linecap:round; stroke-linejoin:round; stroke-width:4; stroke-opacity:1; fill:none\" points=\"3005.61,1167.9 3005.61,1384.24 3047.25,1384.24 3047.25,1167.9 3005.61,1167.9 \"/>\n<path clip-path=\"url(#clip812)\" d=\"M3047.25 518.87 L3047.25 1384.24 L3088.89 1384.24 L3088.89 518.87 L3047.25 518.87 L3047.25 518.87  Z\" fill=\"#009af9\" fill-rule=\"evenodd\" fill-opacity=\"1\"/>\n<polyline clip-path=\"url(#clip812)\" style=\"stroke:#000000; stroke-linecap:round; stroke-linejoin:round; stroke-width:4; stroke-opacity:1; fill:none\" points=\"3047.25,518.87 3047.25,1384.24 3088.89,1384.24 3088.89,518.87 3047.25,518.87 \"/>\n<path clip-path=\"url(#clip812)\" d=\"M3088.89 86.1857 L3088.89 1384.24 L3130.54 1384.24 L3130.54 86.1857 L3088.89 86.1857 L3088.89 86.1857  Z\" fill=\"#009af9\" fill-rule=\"evenodd\" fill-opacity=\"1\"/>\n<polyline clip-path=\"url(#clip812)\" style=\"stroke:#000000; stroke-linecap:round; stroke-linejoin:round; stroke-width:4; stroke-opacity:1; fill:none\" points=\"3088.89,86.1857 3088.89,1384.24 3130.54,1384.24 3130.54,86.1857 3088.89,86.1857 \"/>\n<path clip-path=\"url(#clip812)\" d=\"M3130.54 951.554 L3130.54 1384.24 L3172.18 1384.24 L3172.18 951.554 L3130.54 951.554 L3130.54 951.554  Z\" fill=\"#009af9\" fill-rule=\"evenodd\" fill-opacity=\"1\"/>\n<polyline clip-path=\"url(#clip812)\" style=\"stroke:#000000; stroke-linecap:round; stroke-linejoin:round; stroke-width:4; stroke-opacity:1; fill:none\" points=\"3130.54,951.554 3130.54,1384.24 3172.18,1384.24 3172.18,951.554 3130.54,951.554 \"/>\n<path clip-path=\"url(#clip812)\" d=\"M3172.18 1167.9 L3172.18 1384.24 L3213.82 1384.24 L3213.82 1167.9 L3172.18 1167.9 L3172.18 1167.9  Z\" fill=\"#009af9\" fill-rule=\"evenodd\" fill-opacity=\"1\"/>\n<polyline clip-path=\"url(#clip812)\" style=\"stroke:#000000; stroke-linecap:round; stroke-linejoin:round; stroke-width:4; stroke-opacity:1; fill:none\" points=\"3172.18,1167.9 3172.18,1384.24 3213.82,1384.24 3213.82,1167.9 3172.18,1167.9 \"/>\n<path clip-path=\"url(#clip812)\" d=\"M3213.82 735.212 L3213.82 1384.24 L3255.46 1384.24 L3255.46 735.212 L3213.82 735.212 L3213.82 735.212  Z\" fill=\"#009af9\" fill-rule=\"evenodd\" fill-opacity=\"1\"/>\n<polyline clip-path=\"url(#clip812)\" style=\"stroke:#000000; stroke-linecap:round; stroke-linejoin:round; stroke-width:4; stroke-opacity:1; fill:none\" points=\"3213.82,735.212 3213.82,1384.24 3255.46,1384.24 3255.46,735.212 3213.82,735.212 \"/>\n<path clip-path=\"url(#clip812)\" d=\"M3255.46 735.212 L3255.46 1384.24 L3297.11 1384.24 L3297.11 735.212 L3255.46 735.212 L3255.46 735.212  Z\" fill=\"#009af9\" fill-rule=\"evenodd\" fill-opacity=\"1\"/>\n<polyline clip-path=\"url(#clip812)\" style=\"stroke:#000000; stroke-linecap:round; stroke-linejoin:round; stroke-width:4; stroke-opacity:1; fill:none\" points=\"3255.46,735.212 3255.46,1384.24 3297.11,1384.24 3297.11,735.212 3255.46,735.212 \"/>\n<path clip-path=\"url(#clip812)\" d=\"M3297.11 951.554 L3297.11 1384.24 L3338.75 1384.24 L3338.75 951.554 L3297.11 951.554 L3297.11 951.554  Z\" fill=\"#009af9\" fill-rule=\"evenodd\" fill-opacity=\"1\"/>\n<polyline clip-path=\"url(#clip812)\" style=\"stroke:#000000; stroke-linecap:round; stroke-linejoin:round; stroke-width:4; stroke-opacity:1; fill:none\" points=\"3297.11,951.554 3297.11,1384.24 3338.75,1384.24 3338.75,951.554 3297.11,951.554 \"/>\n<path clip-path=\"url(#clip812)\" d=\"M3338.75 1384.24 L3338.75 1384.24 L3380.39 1384.24 L3380.39 1384.24 L3338.75 1384.24 L3338.75 1384.24  Z\" fill=\"#009af9\" fill-rule=\"evenodd\" fill-opacity=\"1\"/>\n<polyline clip-path=\"url(#clip812)\" style=\"stroke:#000000; stroke-linecap:round; stroke-linejoin:round; stroke-width:4; stroke-opacity:1; fill:none\" points=\"3338.75,1384.24 3338.75,1384.24 3380.39,1384.24 3338.75,1384.24 \"/>\n<path clip-path=\"url(#clip812)\" d=\"M3380.39 1167.9 L3380.39 1384.24 L3422.03 1384.24 L3422.03 1167.9 L3380.39 1167.9 L3380.39 1167.9  Z\" fill=\"#009af9\" fill-rule=\"evenodd\" fill-opacity=\"1\"/>\n<polyline clip-path=\"url(#clip812)\" style=\"stroke:#000000; stroke-linecap:round; stroke-linejoin:round; stroke-width:4; stroke-opacity:1; fill:none\" points=\"3380.39,1167.9 3380.39,1384.24 3422.03,1384.24 3422.03,1167.9 3380.39,1167.9 \"/>\n<path clip-path=\"url(#clip812)\" d=\"M3422.03 951.554 L3422.03 1384.24 L3463.68 1384.24 L3463.68 951.554 L3422.03 951.554 L3422.03 951.554  Z\" fill=\"#009af9\" fill-rule=\"evenodd\" fill-opacity=\"1\"/>\n<polyline clip-path=\"url(#clip812)\" style=\"stroke:#000000; stroke-linecap:round; stroke-linejoin:round; stroke-width:4; stroke-opacity:1; fill:none\" points=\"3422.03,951.554 3422.03,1384.24 3463.68,1384.24 3463.68,951.554 3422.03,951.554 \"/>\n<path clip-path=\"url(#clip812)\" d=\"M3463.68 735.212 L3463.68 1384.24 L3505.32 1384.24 L3505.32 735.212 L3463.68 735.212 L3463.68 735.212  Z\" fill=\"#009af9\" fill-rule=\"evenodd\" fill-opacity=\"1\"/>\n<polyline clip-path=\"url(#clip812)\" style=\"stroke:#000000; stroke-linecap:round; stroke-linejoin:round; stroke-width:4; stroke-opacity:1; fill:none\" points=\"3463.68,735.212 3463.68,1384.24 3505.32,1384.24 3505.32,735.212 3463.68,735.212 \"/>\n<path clip-path=\"url(#clip812)\" d=\"M3505.32 518.87 L3505.32 1384.24 L3546.96 1384.24 L3546.96 518.87 L3505.32 518.87 L3505.32 518.87  Z\" fill=\"#009af9\" fill-rule=\"evenodd\" fill-opacity=\"1\"/>\n<polyline clip-path=\"url(#clip812)\" style=\"stroke:#000000; stroke-linecap:round; stroke-linejoin:round; stroke-width:4; stroke-opacity:1; fill:none\" points=\"3505.32,518.87 3505.32,1384.24 3546.96,1384.24 3546.96,518.87 3505.32,518.87 \"/>\n<path clip-path=\"url(#clip812)\" d=\"M3546.96 735.212 L3546.96 1384.24 L3588.6 1384.24 L3588.6 735.212 L3546.96 735.212 L3546.96 735.212  Z\" fill=\"#009af9\" fill-rule=\"evenodd\" fill-opacity=\"1\"/>\n<polyline clip-path=\"url(#clip812)\" style=\"stroke:#000000; stroke-linecap:round; stroke-linejoin:round; stroke-width:4; stroke-opacity:1; fill:none\" points=\"3546.96,735.212 3546.96,1384.24 3588.6,1384.24 3588.6,735.212 3546.96,735.212 \"/>\n<path clip-path=\"url(#clip812)\" d=\"M3588.6 735.212 L3588.6 1384.24 L3630.24 1384.24 L3630.24 735.212 L3588.6 735.212 L3588.6 735.212  Z\" fill=\"#009af9\" fill-rule=\"evenodd\" fill-opacity=\"1\"/>\n<polyline clip-path=\"url(#clip812)\" style=\"stroke:#000000; stroke-linecap:round; stroke-linejoin:round; stroke-width:4; stroke-opacity:1; fill:none\" points=\"3588.6,735.212 3588.6,1384.24 3630.24,1384.24 3630.24,735.212 3588.6,735.212 \"/>\n<path clip-path=\"url(#clip812)\" d=\"M3630.24 302.528 L3630.24 1384.24 L3671.89 1384.24 L3671.89 302.528 L3630.24 302.528 L3630.24 302.528  Z\" fill=\"#009af9\" fill-rule=\"evenodd\" fill-opacity=\"1\"/>\n<polyline clip-path=\"url(#clip812)\" style=\"stroke:#000000; stroke-linecap:round; stroke-linejoin:round; stroke-width:4; stroke-opacity:1; fill:none\" points=\"3630.24,302.528 3630.24,1384.24 3671.89,1384.24 3671.89,302.528 3630.24,302.528 \"/>\n<path clip-path=\"url(#clip812)\" d=\"M3671.89 951.554 L3671.89 1384.24 L3713.53 1384.24 L3713.53 951.554 L3671.89 951.554 L3671.89 951.554  Z\" fill=\"#009af9\" fill-rule=\"evenodd\" fill-opacity=\"1\"/>\n<polyline clip-path=\"url(#clip812)\" style=\"stroke:#000000; stroke-linecap:round; stroke-linejoin:round; stroke-width:4; stroke-opacity:1; fill:none\" points=\"3671.89,951.554 3671.89,1384.24 3713.53,1384.24 3713.53,951.554 3671.89,951.554 \"/>\n<path clip-path=\"url(#clip812)\" d=\"M3713.53 951.554 L3713.53 1384.24 L3755.17 1384.24 L3755.17 951.554 L3713.53 951.554 L3713.53 951.554  Z\" fill=\"#009af9\" fill-rule=\"evenodd\" fill-opacity=\"1\"/>\n<polyline clip-path=\"url(#clip812)\" style=\"stroke:#000000; stroke-linecap:round; stroke-linejoin:round; stroke-width:4; stroke-opacity:1; fill:none\" points=\"3713.53,951.554 3713.53,1384.24 3755.17,1384.24 3755.17,951.554 3713.53,951.554 \"/>\n<path clip-path=\"url(#clip812)\" d=\"M3755.17 1167.9 L3755.17 1384.24 L3796.81 1384.24 L3796.81 1167.9 L3755.17 1167.9 L3755.17 1167.9  Z\" fill=\"#009af9\" fill-rule=\"evenodd\" fill-opacity=\"1\"/>\n<polyline clip-path=\"url(#clip812)\" style=\"stroke:#000000; stroke-linecap:round; stroke-linejoin:round; stroke-width:4; stroke-opacity:1; fill:none\" points=\"3755.17,1167.9 3755.17,1384.24 3796.81,1384.24 3796.81,1167.9 3755.17,1167.9 \"/>\n<path clip-path=\"url(#clip812)\" d=\"M3796.81 1167.9 L3796.81 1384.24 L3838.46 1384.24 L3838.46 1167.9 L3796.81 1167.9 L3796.81 1167.9  Z\" fill=\"#009af9\" fill-rule=\"evenodd\" fill-opacity=\"1\"/>\n<polyline clip-path=\"url(#clip812)\" style=\"stroke:#000000; stroke-linecap:round; stroke-linejoin:round; stroke-width:4; stroke-opacity:1; fill:none\" points=\"3796.81,1167.9 3796.81,1384.24 3838.46,1384.24 3838.46,1167.9 3796.81,1167.9 \"/>\n<path clip-path=\"url(#clip812)\" d=\"M3838.46 735.212 L3838.46 1384.24 L3880.1 1384.24 L3880.1 735.212 L3838.46 735.212 L3838.46 735.212  Z\" fill=\"#009af9\" fill-rule=\"evenodd\" fill-opacity=\"1\"/>\n<polyline clip-path=\"url(#clip812)\" style=\"stroke:#000000; stroke-linecap:round; stroke-linejoin:round; stroke-width:4; stroke-opacity:1; fill:none\" points=\"3838.46,735.212 3838.46,1384.24 3880.1,1384.24 3880.1,735.212 3838.46,735.212 \"/>\n<path clip-path=\"url(#clip812)\" d=\"M3880.1 1167.9 L3880.1 1384.24 L3921.74 1384.24 L3921.74 1167.9 L3880.1 1167.9 L3880.1 1167.9  Z\" fill=\"#009af9\" fill-rule=\"evenodd\" fill-opacity=\"1\"/>\n<polyline clip-path=\"url(#clip812)\" style=\"stroke:#000000; stroke-linecap:round; stroke-linejoin:round; stroke-width:4; stroke-opacity:1; fill:none\" points=\"3880.1,1167.9 3880.1,1384.24 3921.74,1384.24 3921.74,1167.9 3880.1,1167.9 \"/>\n<path clip-path=\"url(#clip812)\" d=\"M3921.74 518.87 L3921.74 1384.24 L3963.38 1384.24 L3963.38 518.87 L3921.74 518.87 L3921.74 518.87  Z\" fill=\"#009af9\" fill-rule=\"evenodd\" fill-opacity=\"1\"/>\n<polyline clip-path=\"url(#clip812)\" style=\"stroke:#000000; stroke-linecap:round; stroke-linejoin:round; stroke-width:4; stroke-opacity:1; fill:none\" points=\"3921.74,518.87 3921.74,1384.24 3963.38,1384.24 3963.38,518.87 3921.74,518.87 \"/>\n<path clip-path=\"url(#clip812)\" d=\"M3963.38 1167.9 L3963.38 1384.24 L4005.03 1384.24 L4005.03 1167.9 L3963.38 1167.9 L3963.38 1167.9  Z\" fill=\"#009af9\" fill-rule=\"evenodd\" fill-opacity=\"1\"/>\n<polyline clip-path=\"url(#clip812)\" style=\"stroke:#000000; stroke-linecap:round; stroke-linejoin:round; stroke-width:4; stroke-opacity:1; fill:none\" points=\"3963.38,1167.9 3963.38,1384.24 4005.03,1384.24 4005.03,1167.9 3963.38,1167.9 \"/>\n<path clip-path=\"url(#clip812)\" d=\"M4005.03 735.212 L4005.03 1384.24 L4046.67 1384.24 L4046.67 735.212 L4005.03 735.212 L4005.03 735.212  Z\" fill=\"#009af9\" fill-rule=\"evenodd\" fill-opacity=\"1\"/>\n<polyline clip-path=\"url(#clip812)\" style=\"stroke:#000000; stroke-linecap:round; stroke-linejoin:round; stroke-width:4; stroke-opacity:1; fill:none\" points=\"4005.03,735.212 4005.03,1384.24 4046.67,1384.24 4046.67,735.212 4005.03,735.212 \"/>\n<path clip-path=\"url(#clip812)\" d=\"M4046.67 735.212 L4046.67 1384.24 L4088.31 1384.24 L4088.31 735.212 L4046.67 735.212 L4046.67 735.212  Z\" fill=\"#009af9\" fill-rule=\"evenodd\" fill-opacity=\"1\"/>\n<polyline clip-path=\"url(#clip812)\" style=\"stroke:#000000; stroke-linecap:round; stroke-linejoin:round; stroke-width:4; stroke-opacity:1; fill:none\" points=\"4046.67,735.212 4046.67,1384.24 4088.31,1384.24 4088.31,735.212 4046.67,735.212 \"/>\n<path clip-path=\"url(#clip812)\" d=\"M4088.31 302.528 L4088.31 1384.24 L4129.95 1384.24 L4129.95 302.528 L4088.31 302.528 L4088.31 302.528  Z\" fill=\"#009af9\" fill-rule=\"evenodd\" fill-opacity=\"1\"/>\n<polyline clip-path=\"url(#clip812)\" style=\"stroke:#000000; stroke-linecap:round; stroke-linejoin:round; stroke-width:4; stroke-opacity:1; fill:none\" points=\"4088.31,302.528 4088.31,1384.24 4129.95,1384.24 4129.95,302.528 4088.31,302.528 \"/>\n<path clip-path=\"url(#clip812)\" d=\"M4129.95 951.554 L4129.95 1384.24 L4171.59 1384.24 L4171.59 951.554 L4129.95 951.554 L4129.95 951.554  Z\" fill=\"#009af9\" fill-rule=\"evenodd\" fill-opacity=\"1\"/>\n<polyline clip-path=\"url(#clip812)\" style=\"stroke:#000000; stroke-linecap:round; stroke-linejoin:round; stroke-width:4; stroke-opacity:1; fill:none\" points=\"4129.95,951.554 4129.95,1384.24 4171.59,1384.24 4171.59,951.554 4129.95,951.554 \"/>\n<path clip-path=\"url(#clip812)\" d=\"M4171.59 518.87 L4171.59 1384.24 L4213.24 1384.24 L4213.24 518.87 L4171.59 518.87 L4171.59 518.87  Z\" fill=\"#009af9\" fill-rule=\"evenodd\" fill-opacity=\"1\"/>\n<polyline clip-path=\"url(#clip812)\" style=\"stroke:#000000; stroke-linecap:round; stroke-linejoin:round; stroke-width:4; stroke-opacity:1; fill:none\" points=\"4171.59,518.87 4171.59,1384.24 4213.24,1384.24 4213.24,518.87 4171.59,518.87 \"/>\n<path clip-path=\"url(#clip812)\" d=\"M4213.24 735.212 L4213.24 1384.24 L4254.88 1384.24 L4254.88 735.212 L4213.24 735.212 L4213.24 735.212  Z\" fill=\"#009af9\" fill-rule=\"evenodd\" fill-opacity=\"1\"/>\n<polyline clip-path=\"url(#clip812)\" style=\"stroke:#000000; stroke-linecap:round; stroke-linejoin:round; stroke-width:4; stroke-opacity:1; fill:none\" points=\"4213.24,735.212 4213.24,1384.24 4254.88,1384.24 4254.88,735.212 4213.24,735.212 \"/>\n<path clip-path=\"url(#clip812)\" d=\"M4254.88 518.87 L4254.88 1384.24 L4296.52 1384.24 L4296.52 518.87 L4254.88 518.87 L4254.88 518.87  Z\" fill=\"#009af9\" fill-rule=\"evenodd\" fill-opacity=\"1\"/>\n<polyline clip-path=\"url(#clip812)\" style=\"stroke:#000000; stroke-linecap:round; stroke-linejoin:round; stroke-width:4; stroke-opacity:1; fill:none\" points=\"4254.88,518.87 4254.88,1384.24 4296.52,1384.24 4296.52,518.87 4254.88,518.87 \"/>\n<path clip-path=\"url(#clip812)\" d=\"M4296.52 951.554 L4296.52 1384.24 L4338.16 1384.24 L4338.16 951.554 L4296.52 951.554 L4296.52 951.554  Z\" fill=\"#009af9\" fill-rule=\"evenodd\" fill-opacity=\"1\"/>\n<polyline clip-path=\"url(#clip812)\" style=\"stroke:#000000; stroke-linecap:round; stroke-linejoin:round; stroke-width:4; stroke-opacity:1; fill:none\" points=\"4296.52,951.554 4296.52,1384.24 4338.16,1384.24 4338.16,951.554 4296.52,951.554 \"/>\n<path clip-path=\"url(#clip812)\" d=\"M4338.16 1167.9 L4338.16 1384.24 L4379.81 1384.24 L4379.81 1167.9 L4338.16 1167.9 L4338.16 1167.9  Z\" fill=\"#009af9\" fill-rule=\"evenodd\" fill-opacity=\"1\"/>\n<polyline clip-path=\"url(#clip812)\" style=\"stroke:#000000; stroke-linecap:round; stroke-linejoin:round; stroke-width:4; stroke-opacity:1; fill:none\" points=\"4338.16,1167.9 4338.16,1384.24 4379.81,1384.24 4379.81,1167.9 4338.16,1167.9 \"/>\n<path clip-path=\"url(#clip812)\" d=\"M4379.81 951.554 L4379.81 1384.24 L4421.45 1384.24 L4421.45 951.554 L4379.81 951.554 L4379.81 951.554  Z\" fill=\"#009af9\" fill-rule=\"evenodd\" fill-opacity=\"1\"/>\n<polyline clip-path=\"url(#clip812)\" style=\"stroke:#000000; stroke-linecap:round; stroke-linejoin:round; stroke-width:4; stroke-opacity:1; fill:none\" points=\"4379.81,951.554 4379.81,1384.24 4421.45,1384.24 4421.45,951.554 4379.81,951.554 \"/>\n<path clip-path=\"url(#clip812)\" d=\"M4421.45 518.87 L4421.45 1384.24 L4463.09 1384.24 L4463.09 518.87 L4421.45 518.87 L4421.45 518.87  Z\" fill=\"#009af9\" fill-rule=\"evenodd\" fill-opacity=\"1\"/>\n<polyline clip-path=\"url(#clip812)\" style=\"stroke:#000000; stroke-linecap:round; stroke-linejoin:round; stroke-width:4; stroke-opacity:1; fill:none\" points=\"4421.45,518.87 4421.45,1384.24 4463.09,1384.24 4463.09,518.87 4421.45,518.87 \"/>\n<path clip-path=\"url(#clip812)\" d=\"M4463.09 735.212 L4463.09 1384.24 L4504.73 1384.24 L4504.73 735.212 L4463.09 735.212 L4463.09 735.212  Z\" fill=\"#009af9\" fill-rule=\"evenodd\" fill-opacity=\"1\"/>\n<polyline clip-path=\"url(#clip812)\" style=\"stroke:#000000; stroke-linecap:round; stroke-linejoin:round; stroke-width:4; stroke-opacity:1; fill:none\" points=\"4463.09,735.212 4463.09,1384.24 4504.73,1384.24 4504.73,735.212 4463.09,735.212 \"/>\n<path clip-path=\"url(#clip812)\" d=\"M4504.73 1167.9 L4504.73 1384.24 L4546.38 1384.24 L4546.38 1167.9 L4504.73 1167.9 L4504.73 1167.9  Z\" fill=\"#009af9\" fill-rule=\"evenodd\" fill-opacity=\"1\"/>\n<polyline clip-path=\"url(#clip812)\" style=\"stroke:#000000; stroke-linecap:round; stroke-linejoin:round; stroke-width:4; stroke-opacity:1; fill:none\" points=\"4504.73,1167.9 4504.73,1384.24 4546.38,1384.24 4546.38,1167.9 4504.73,1167.9 \"/>\n<path clip-path=\"url(#clip812)\" d=\"M4546.38 1167.9 L4546.38 1384.24 L4588.02 1384.24 L4588.02 1167.9 L4546.38 1167.9 L4546.38 1167.9  Z\" fill=\"#009af9\" fill-rule=\"evenodd\" fill-opacity=\"1\"/>\n<polyline clip-path=\"url(#clip812)\" style=\"stroke:#000000; stroke-linecap:round; stroke-linejoin:round; stroke-width:4; stroke-opacity:1; fill:none\" points=\"4546.38,1167.9 4546.38,1384.24 4588.02,1384.24 4588.02,1167.9 4546.38,1167.9 \"/>\n<path clip-path=\"url(#clip812)\" d=\"M4588.02 1167.9 L4588.02 1384.24 L4629.66 1384.24 L4629.66 1167.9 L4588.02 1167.9 L4588.02 1167.9  Z\" fill=\"#009af9\" fill-rule=\"evenodd\" fill-opacity=\"1\"/>\n<polyline clip-path=\"url(#clip812)\" style=\"stroke:#000000; stroke-linecap:round; stroke-linejoin:round; stroke-width:4; stroke-opacity:1; fill:none\" points=\"4588.02,1167.9 4588.02,1384.24 4629.66,1384.24 4629.66,1167.9 4588.02,1167.9 \"/>\n<path clip-path=\"url(#clip812)\" d=\"M4629.66 518.87 L4629.66 1384.24 L4671.3 1384.24 L4671.3 518.87 L4629.66 518.87 L4629.66 518.87  Z\" fill=\"#009af9\" fill-rule=\"evenodd\" fill-opacity=\"1\"/>\n<polyline clip-path=\"url(#clip812)\" style=\"stroke:#000000; stroke-linecap:round; stroke-linejoin:round; stroke-width:4; stroke-opacity:1; fill:none\" points=\"4629.66,518.87 4629.66,1384.24 4671.3,1384.24 4671.3,518.87 4629.66,518.87 \"/>\n<path clip-path=\"url(#clip812)\" d=\"M4671.3 735.212 L4671.3 1384.24 L4712.94 1384.24 L4712.94 735.212 L4671.3 735.212 L4671.3 735.212  Z\" fill=\"#009af9\" fill-rule=\"evenodd\" fill-opacity=\"1\"/>\n<polyline clip-path=\"url(#clip812)\" style=\"stroke:#000000; stroke-linecap:round; stroke-linejoin:round; stroke-width:4; stroke-opacity:1; fill:none\" points=\"4671.3,735.212 4671.3,1384.24 4712.94,1384.24 4712.94,735.212 4671.3,735.212 \"/>\n<path clip-path=\"url(#clip812)\" d=\"M4712.94 735.212 L4712.94 1384.24 L4754.59 1384.24 L4754.59 735.212 L4712.94 735.212 L4712.94 735.212  Z\" fill=\"#009af9\" fill-rule=\"evenodd\" fill-opacity=\"1\"/>\n<polyline clip-path=\"url(#clip812)\" style=\"stroke:#000000; stroke-linecap:round; stroke-linejoin:round; stroke-width:4; stroke-opacity:1; fill:none\" points=\"4712.94,735.212 4712.94,1384.24 4754.59,1384.24 4754.59,735.212 4712.94,735.212 \"/>\n<path clip-path=\"url(#clip812)\" d=\"M4754.59 735.212 L4754.59 1384.24 L4796.23 1384.24 L4796.23 735.212 L4754.59 735.212 L4754.59 735.212  Z\" fill=\"#009af9\" fill-rule=\"evenodd\" fill-opacity=\"1\"/>\n<polyline clip-path=\"url(#clip812)\" style=\"stroke:#000000; stroke-linecap:round; stroke-linejoin:round; stroke-width:4; stroke-opacity:1; fill:none\" points=\"4754.59,735.212 4754.59,1384.24 4796.23,1384.24 4796.23,735.212 4754.59,735.212 \"/>\n<path clip-path=\"url(#clip812)\" d=\"M4796.23 951.554 L4796.23 1384.24 L4837.87 1384.24 L4837.87 951.554 L4796.23 951.554 L4796.23 951.554  Z\" fill=\"#009af9\" fill-rule=\"evenodd\" fill-opacity=\"1\"/>\n<polyline clip-path=\"url(#clip812)\" style=\"stroke:#000000; stroke-linecap:round; stroke-linejoin:round; stroke-width:4; stroke-opacity:1; fill:none\" points=\"4796.23,951.554 4796.23,1384.24 4837.87,1384.24 4837.87,951.554 4796.23,951.554 \"/>\n<path clip-path=\"url(#clip812)\" d=\"M4837.87 735.212 L4837.87 1384.24 L4879.51 1384.24 L4879.51 735.212 L4837.87 735.212 L4837.87 735.212  Z\" fill=\"#009af9\" fill-rule=\"evenodd\" fill-opacity=\"1\"/>\n<polyline clip-path=\"url(#clip812)\" style=\"stroke:#000000; stroke-linecap:round; stroke-linejoin:round; stroke-width:4; stroke-opacity:1; fill:none\" points=\"4837.87,735.212 4837.87,1384.24 4879.51,1384.24 4879.51,735.212 4837.87,735.212 \"/>\n<path clip-path=\"url(#clip812)\" d=\"M4879.51 1384.24 L4879.51 1384.24 L4921.16 1384.24 L4921.16 1384.24 L4879.51 1384.24 L4879.51 1384.24  Z\" fill=\"#009af9\" fill-rule=\"evenodd\" fill-opacity=\"1\"/>\n<polyline clip-path=\"url(#clip812)\" style=\"stroke:#000000; stroke-linecap:round; stroke-linejoin:round; stroke-width:4; stroke-opacity:1; fill:none\" points=\"4879.51,1384.24 4879.51,1384.24 4921.16,1384.24 4879.51,1384.24 \"/>\n<path clip-path=\"url(#clip812)\" d=\"M4921.16 1167.9 L4921.16 1384.24 L4962.8 1384.24 L4962.8 1167.9 L4921.16 1167.9 L4921.16 1167.9  Z\" fill=\"#009af9\" fill-rule=\"evenodd\" fill-opacity=\"1\"/>\n<polyline clip-path=\"url(#clip812)\" style=\"stroke:#000000; stroke-linecap:round; stroke-linejoin:round; stroke-width:4; stroke-opacity:1; fill:none\" points=\"4921.16,1167.9 4921.16,1384.24 4962.8,1384.24 4962.8,1167.9 4921.16,1167.9 \"/>\n<path clip-path=\"url(#clip812)\" d=\"M4962.8 735.212 L4962.8 1384.24 L5004.44 1384.24 L5004.44 735.212 L4962.8 735.212 L4962.8 735.212  Z\" fill=\"#009af9\" fill-rule=\"evenodd\" fill-opacity=\"1\"/>\n<polyline clip-path=\"url(#clip812)\" style=\"stroke:#000000; stroke-linecap:round; stroke-linejoin:round; stroke-width:4; stroke-opacity:1; fill:none\" points=\"4962.8,735.212 4962.8,1384.24 5004.44,1384.24 5004.44,735.212 4962.8,735.212 \"/>\n<path clip-path=\"url(#clip812)\" d=\"M5004.44 518.87 L5004.44 1384.24 L5046.08 1384.24 L5046.08 518.87 L5004.44 518.87 L5004.44 518.87  Z\" fill=\"#009af9\" fill-rule=\"evenodd\" fill-opacity=\"1\"/>\n<polyline clip-path=\"url(#clip812)\" style=\"stroke:#000000; stroke-linecap:round; stroke-linejoin:round; stroke-width:4; stroke-opacity:1; fill:none\" points=\"5004.44,518.87 5004.44,1384.24 5046.08,1384.24 5046.08,518.87 5004.44,518.87 \"/>\n<path clip-path=\"url(#clip812)\" d=\"M5046.08 735.212 L5046.08 1384.24 L5087.73 1384.24 L5087.73 735.212 L5046.08 735.212 L5046.08 735.212  Z\" fill=\"#009af9\" fill-rule=\"evenodd\" fill-opacity=\"1\"/>\n<polyline clip-path=\"url(#clip812)\" style=\"stroke:#000000; stroke-linecap:round; stroke-linejoin:round; stroke-width:4; stroke-opacity:1; fill:none\" points=\"5046.08,735.212 5046.08,1384.24 5087.73,1384.24 5087.73,735.212 5046.08,735.212 \"/>\n<path clip-path=\"url(#clip812)\" d=\"M5087.73 518.87 L5087.73 1384.24 L5129.37 1384.24 L5129.37 518.87 L5087.73 518.87 L5087.73 518.87  Z\" fill=\"#009af9\" fill-rule=\"evenodd\" fill-opacity=\"1\"/>\n<polyline clip-path=\"url(#clip812)\" style=\"stroke:#000000; stroke-linecap:round; stroke-linejoin:round; stroke-width:4; stroke-opacity:1; fill:none\" points=\"5087.73,518.87 5087.73,1384.24 5129.37,1384.24 5129.37,518.87 5087.73,518.87 \"/>\n<path clip-path=\"url(#clip812)\" d=\"M5129.37 518.87 L5129.37 1384.24 L5171.01 1384.24 L5171.01 518.87 L5129.37 518.87 L5129.37 518.87  Z\" fill=\"#009af9\" fill-rule=\"evenodd\" fill-opacity=\"1\"/>\n<polyline clip-path=\"url(#clip812)\" style=\"stroke:#000000; stroke-linecap:round; stroke-linejoin:round; stroke-width:4; stroke-opacity:1; fill:none\" points=\"5129.37,518.87 5129.37,1384.24 5171.01,1384.24 5171.01,518.87 5129.37,518.87 \"/>\n<path clip-path=\"url(#clip812)\" d=\"M5171.01 302.528 L5171.01 1384.24 L5212.65 1384.24 L5212.65 302.528 L5171.01 302.528 L5171.01 302.528  Z\" fill=\"#009af9\" fill-rule=\"evenodd\" fill-opacity=\"1\"/>\n<polyline clip-path=\"url(#clip812)\" style=\"stroke:#000000; stroke-linecap:round; stroke-linejoin:round; stroke-width:4; stroke-opacity:1; fill:none\" points=\"5171.01,302.528 5171.01,1384.24 5212.65,1384.24 5212.65,302.528 5171.01,302.528 \"/>\n<path clip-path=\"url(#clip812)\" d=\"M5212.65 86.1857 L5212.65 1384.24 L5254.29 1384.24 L5254.29 86.1857 L5212.65 86.1857 L5212.65 86.1857  Z\" fill=\"#009af9\" fill-rule=\"evenodd\" fill-opacity=\"1\"/>\n<polyline clip-path=\"url(#clip812)\" style=\"stroke:#000000; stroke-linecap:round; stroke-linejoin:round; stroke-width:4; stroke-opacity:1; fill:none\" points=\"5212.65,86.1857 5212.65,1384.24 5254.29,1384.24 5254.29,86.1857 5212.65,86.1857 \"/>\n<path clip-path=\"url(#clip812)\" d=\"M5254.29 518.87 L5254.29 1384.24 L5295.94 1384.24 L5295.94 518.87 L5254.29 518.87 L5254.29 518.87  Z\" fill=\"#009af9\" fill-rule=\"evenodd\" fill-opacity=\"1\"/>\n<polyline clip-path=\"url(#clip812)\" style=\"stroke:#000000; stroke-linecap:round; stroke-linejoin:round; stroke-width:4; stroke-opacity:1; fill:none\" points=\"5254.29,518.87 5254.29,1384.24 5295.94,1384.24 5295.94,518.87 5254.29,518.87 \"/>\n<path clip-path=\"url(#clip812)\" d=\"M5295.94 735.212 L5295.94 1384.24 L5337.58 1384.24 L5337.58 735.212 L5295.94 735.212 L5295.94 735.212  Z\" fill=\"#009af9\" fill-rule=\"evenodd\" fill-opacity=\"1\"/>\n<polyline clip-path=\"url(#clip812)\" style=\"stroke:#000000; stroke-linecap:round; stroke-linejoin:round; stroke-width:4; stroke-opacity:1; fill:none\" points=\"5295.94,735.212 5295.94,1384.24 5337.58,1384.24 5337.58,735.212 5295.94,735.212 \"/>\n<path clip-path=\"url(#clip812)\" d=\"M5337.58 518.87 L5337.58 1384.24 L5379.22 1384.24 L5379.22 518.87 L5337.58 518.87 L5337.58 518.87  Z\" fill=\"#009af9\" fill-rule=\"evenodd\" fill-opacity=\"1\"/>\n<polyline clip-path=\"url(#clip812)\" style=\"stroke:#000000; stroke-linecap:round; stroke-linejoin:round; stroke-width:4; stroke-opacity:1; fill:none\" points=\"5337.58,518.87 5337.58,1384.24 5379.22,1384.24 5379.22,518.87 5337.58,518.87 \"/>\n<path clip-path=\"url(#clip812)\" d=\"M5379.22 951.554 L5379.22 1384.24 L5420.86 1384.24 L5420.86 951.554 L5379.22 951.554 L5379.22 951.554  Z\" fill=\"#009af9\" fill-rule=\"evenodd\" fill-opacity=\"1\"/>\n<polyline clip-path=\"url(#clip812)\" style=\"stroke:#000000; stroke-linecap:round; stroke-linejoin:round; stroke-width:4; stroke-opacity:1; fill:none\" points=\"5379.22,951.554 5379.22,1384.24 5420.86,1384.24 5420.86,951.554 5379.22,951.554 \"/>\n<path clip-path=\"url(#clip812)\" d=\"M5420.86 951.554 L5420.86 1384.24 L5462.51 1384.24 L5462.51 951.554 L5420.86 951.554 L5420.86 951.554  Z\" fill=\"#009af9\" fill-rule=\"evenodd\" fill-opacity=\"1\"/>\n<polyline clip-path=\"url(#clip812)\" style=\"stroke:#000000; stroke-linecap:round; stroke-linejoin:round; stroke-width:4; stroke-opacity:1; fill:none\" points=\"5420.86,951.554 5420.86,1384.24 5462.51,1384.24 5462.51,951.554 5420.86,951.554 \"/>\n<path clip-path=\"url(#clip812)\" d=\"M5462.51 1167.9 L5462.51 1384.24 L5504.15 1384.24 L5504.15 1167.9 L5462.51 1167.9 L5462.51 1167.9  Z\" fill=\"#009af9\" fill-rule=\"evenodd\" fill-opacity=\"1\"/>\n<polyline clip-path=\"url(#clip812)\" style=\"stroke:#000000; stroke-linecap:round; stroke-linejoin:round; stroke-width:4; stroke-opacity:1; fill:none\" points=\"5462.51,1167.9 5462.51,1384.24 5504.15,1384.24 5504.15,1167.9 5462.51,1167.9 \"/>\n<path clip-path=\"url(#clip812)\" d=\"M5504.15 518.87 L5504.15 1384.24 L5545.79 1384.24 L5545.79 518.87 L5504.15 518.87 L5504.15 518.87  Z\" fill=\"#009af9\" fill-rule=\"evenodd\" fill-opacity=\"1\"/>\n<polyline clip-path=\"url(#clip812)\" style=\"stroke:#000000; stroke-linecap:round; stroke-linejoin:round; stroke-width:4; stroke-opacity:1; fill:none\" points=\"5504.15,518.87 5504.15,1384.24 5545.79,1384.24 5545.79,518.87 5504.15,518.87 \"/>\n<path clip-path=\"url(#clip812)\" d=\"M5545.79 518.87 L5545.79 1384.24 L5587.43 1384.24 L5587.43 518.87 L5545.79 518.87 L5545.79 518.87  Z\" fill=\"#009af9\" fill-rule=\"evenodd\" fill-opacity=\"1\"/>\n<polyline clip-path=\"url(#clip812)\" style=\"stroke:#000000; stroke-linecap:round; stroke-linejoin:round; stroke-width:4; stroke-opacity:1; fill:none\" points=\"5545.79,518.87 5545.79,1384.24 5587.43,1384.24 5587.43,518.87 5545.79,518.87 \"/>\n<path clip-path=\"url(#clip812)\" d=\"M5587.43 518.87 L5587.43 1384.24 L5629.07 1384.24 L5629.07 518.87 L5587.43 518.87 L5587.43 518.87  Z\" fill=\"#009af9\" fill-rule=\"evenodd\" fill-opacity=\"1\"/>\n<polyline clip-path=\"url(#clip812)\" style=\"stroke:#000000; stroke-linecap:round; stroke-linejoin:round; stroke-width:4; stroke-opacity:1; fill:none\" points=\"5587.43,518.87 5587.43,1384.24 5629.07,1384.24 5629.07,518.87 5587.43,518.87 \"/>\n<path clip-path=\"url(#clip812)\" d=\"M5629.07 1167.9 L5629.07 1384.24 L5670.72 1384.24 L5670.72 1167.9 L5629.07 1167.9 L5629.07 1167.9  Z\" fill=\"#009af9\" fill-rule=\"evenodd\" fill-opacity=\"1\"/>\n<polyline clip-path=\"url(#clip812)\" style=\"stroke:#000000; stroke-linecap:round; stroke-linejoin:round; stroke-width:4; stroke-opacity:1; fill:none\" points=\"5629.07,1167.9 5629.07,1384.24 5670.72,1384.24 5670.72,1167.9 5629.07,1167.9 \"/>\n<path clip-path=\"url(#clip812)\" d=\"M5670.72 518.87 L5670.72 1384.24 L5712.36 1384.24 L5712.36 518.87 L5670.72 518.87 L5670.72 518.87  Z\" fill=\"#009af9\" fill-rule=\"evenodd\" fill-opacity=\"1\"/>\n<polyline clip-path=\"url(#clip812)\" style=\"stroke:#000000; stroke-linecap:round; stroke-linejoin:round; stroke-width:4; stroke-opacity:1; fill:none\" points=\"5670.72,518.87 5670.72,1384.24 5712.36,1384.24 5712.36,518.87 5670.72,518.87 \"/>\n<path clip-path=\"url(#clip812)\" d=\"M5712.36 518.87 L5712.36 1384.24 L5754 1384.24 L5754 518.87 L5712.36 518.87 L5712.36 518.87  Z\" fill=\"#009af9\" fill-rule=\"evenodd\" fill-opacity=\"1\"/>\n<polyline clip-path=\"url(#clip812)\" style=\"stroke:#000000; stroke-linecap:round; stroke-linejoin:round; stroke-width:4; stroke-opacity:1; fill:none\" points=\"5712.36,518.87 5712.36,1384.24 5754,1384.24 5754,518.87 5712.36,518.87 \"/>\n<path clip-path=\"url(#clip812)\" d=\"M5754 735.212 L5754 1384.24 L5795.64 1384.24 L5795.64 735.212 L5754 735.212 L5754 735.212  Z\" fill=\"#009af9\" fill-rule=\"evenodd\" fill-opacity=\"1\"/>\n<polyline clip-path=\"url(#clip812)\" style=\"stroke:#000000; stroke-linecap:round; stroke-linejoin:round; stroke-width:4; stroke-opacity:1; fill:none\" points=\"5754,735.212 5754,1384.24 5795.64,1384.24 5795.64,735.212 5754,735.212 \"/>\n<path clip-path=\"url(#clip812)\" d=\"M5795.64 735.212 L5795.64 1384.24 L5837.29 1384.24 L5837.29 735.212 L5795.64 735.212 L5795.64 735.212  Z\" fill=\"#009af9\" fill-rule=\"evenodd\" fill-opacity=\"1\"/>\n<polyline clip-path=\"url(#clip812)\" style=\"stroke:#000000; stroke-linecap:round; stroke-linejoin:round; stroke-width:4; stroke-opacity:1; fill:none\" points=\"5795.64,735.212 5795.64,1384.24 5837.29,1384.24 5837.29,735.212 5795.64,735.212 \"/>\n<path clip-path=\"url(#clip812)\" d=\"M5837.29 1167.9 L5837.29 1384.24 L5878.93 1384.24 L5878.93 1167.9 L5837.29 1167.9 L5837.29 1167.9  Z\" fill=\"#009af9\" fill-rule=\"evenodd\" fill-opacity=\"1\"/>\n<polyline clip-path=\"url(#clip812)\" style=\"stroke:#000000; stroke-linecap:round; stroke-linejoin:round; stroke-width:4; stroke-opacity:1; fill:none\" points=\"5837.29,1167.9 5837.29,1384.24 5878.93,1384.24 5878.93,1167.9 5837.29,1167.9 \"/>\n<path clip-path=\"url(#clip812)\" d=\"M5878.93 1167.9 L5878.93 1384.24 L5920.57 1384.24 L5920.57 1167.9 L5878.93 1167.9 L5878.93 1167.9  Z\" fill=\"#009af9\" fill-rule=\"evenodd\" fill-opacity=\"1\"/>\n<polyline clip-path=\"url(#clip812)\" style=\"stroke:#000000; stroke-linecap:round; stroke-linejoin:round; stroke-width:4; stroke-opacity:1; fill:none\" points=\"5878.93,1167.9 5878.93,1384.24 5920.57,1384.24 5920.57,1167.9 5878.93,1167.9 \"/>\n<path clip-path=\"url(#clip812)\" d=\"M5920.57 1384.24 L5920.57 1384.24 L5962.21 1384.24 L5962.21 1384.24 L5920.57 1384.24 L5920.57 1384.24  Z\" fill=\"#009af9\" fill-rule=\"evenodd\" fill-opacity=\"1\"/>\n<polyline clip-path=\"url(#clip812)\" style=\"stroke:#000000; stroke-linecap:round; stroke-linejoin:round; stroke-width:4; stroke-opacity:1; fill:none\" points=\"5920.57,1384.24 5920.57,1384.24 5962.21,1384.24 5920.57,1384.24 \"/>\n<path clip-path=\"url(#clip812)\" d=\"M5962.21 735.212 L5962.21 1384.24 L6003.86 1384.24 L6003.86 735.212 L5962.21 735.212 L5962.21 735.212  Z\" fill=\"#009af9\" fill-rule=\"evenodd\" fill-opacity=\"1\"/>\n<polyline clip-path=\"url(#clip812)\" style=\"stroke:#000000; stroke-linecap:round; stroke-linejoin:round; stroke-width:4; stroke-opacity:1; fill:none\" points=\"5962.21,735.212 5962.21,1384.24 6003.86,1384.24 6003.86,735.212 5962.21,735.212 \"/>\n<path clip-path=\"url(#clip812)\" d=\"M6003.86 951.554 L6003.86 1384.24 L6045.5 1384.24 L6045.5 951.554 L6003.86 951.554 L6003.86 951.554  Z\" fill=\"#009af9\" fill-rule=\"evenodd\" fill-opacity=\"1\"/>\n<polyline clip-path=\"url(#clip812)\" style=\"stroke:#000000; stroke-linecap:round; stroke-linejoin:round; stroke-width:4; stroke-opacity:1; fill:none\" points=\"6003.86,951.554 6003.86,1384.24 6045.5,1384.24 6045.5,951.554 6003.86,951.554 \"/>\n<path clip-path=\"url(#clip812)\" d=\"M6045.5 1167.9 L6045.5 1384.24 L6087.14 1384.24 L6087.14 1167.9 L6045.5 1167.9 L6045.5 1167.9  Z\" fill=\"#009af9\" fill-rule=\"evenodd\" fill-opacity=\"1\"/>\n<polyline clip-path=\"url(#clip812)\" style=\"stroke:#000000; stroke-linecap:round; stroke-linejoin:round; stroke-width:4; stroke-opacity:1; fill:none\" points=\"6045.5,1167.9 6045.5,1384.24 6087.14,1384.24 6087.14,1167.9 6045.5,1167.9 \"/>\n<path clip-path=\"url(#clip812)\" d=\"M6087.14 1384.24 L6087.14 1384.24 L6128.78 1384.24 L6128.78 1384.24 L6087.14 1384.24 L6087.14 1384.24  Z\" fill=\"#009af9\" fill-rule=\"evenodd\" fill-opacity=\"1\"/>\n<polyline clip-path=\"url(#clip812)\" style=\"stroke:#000000; stroke-linecap:round; stroke-linejoin:round; stroke-width:4; stroke-opacity:1; fill:none\" points=\"6087.14,1384.24 6087.14,1384.24 6128.78,1384.24 6087.14,1384.24 \"/>\n<path clip-path=\"url(#clip812)\" d=\"M6128.78 1384.24 L6128.78 1384.24 L6170.42 1384.24 L6170.42 1384.24 L6128.78 1384.24 L6128.78 1384.24  Z\" fill=\"#009af9\" fill-rule=\"evenodd\" fill-opacity=\"1\"/>\n<polyline clip-path=\"url(#clip812)\" style=\"stroke:#000000; stroke-linecap:round; stroke-linejoin:round; stroke-width:4; stroke-opacity:1; fill:none\" points=\"6128.78,1384.24 6128.78,1384.24 6170.42,1384.24 6128.78,1384.24 \"/>\n<path clip-path=\"url(#clip812)\" d=\"M6170.42 1167.9 L6170.42 1384.24 L6212.07 1384.24 L6212.07 1167.9 L6170.42 1167.9 L6170.42 1167.9  Z\" fill=\"#009af9\" fill-rule=\"evenodd\" fill-opacity=\"1\"/>\n<polyline clip-path=\"url(#clip812)\" style=\"stroke:#000000; stroke-linecap:round; stroke-linejoin:round; stroke-width:4; stroke-opacity:1; fill:none\" points=\"6170.42,1167.9 6170.42,1384.24 6212.07,1384.24 6212.07,1167.9 6170.42,1167.9 \"/>\n<path clip-path=\"url(#clip812)\" d=\"M6212.07 951.554 L6212.07 1384.24 L6253.71 1384.24 L6253.71 951.554 L6212.07 951.554 L6212.07 951.554  Z\" fill=\"#009af9\" fill-rule=\"evenodd\" fill-opacity=\"1\"/>\n<polyline clip-path=\"url(#clip812)\" style=\"stroke:#000000; stroke-linecap:round; stroke-linejoin:round; stroke-width:4; stroke-opacity:1; fill:none\" points=\"6212.07,951.554 6212.07,1384.24 6253.71,1384.24 6253.71,951.554 6212.07,951.554 \"/>\n<path clip-path=\"url(#clip812)\" d=\"M6253.71 951.554 L6253.71 1384.24 L6295.35 1384.24 L6295.35 951.554 L6253.71 951.554 L6253.71 951.554  Z\" fill=\"#009af9\" fill-rule=\"evenodd\" fill-opacity=\"1\"/>\n<polyline clip-path=\"url(#clip812)\" style=\"stroke:#000000; stroke-linecap:round; stroke-linejoin:round; stroke-width:4; stroke-opacity:1; fill:none\" points=\"6253.71,951.554 6253.71,1384.24 6295.35,1384.24 6295.35,951.554 6253.71,951.554 \"/>\n<path clip-path=\"url(#clip812)\" d=\"M6295.35 1384.24 L6295.35 1384.24 L6336.99 1384.24 L6336.99 1384.24 L6295.35 1384.24 L6295.35 1384.24  Z\" fill=\"#009af9\" fill-rule=\"evenodd\" fill-opacity=\"1\"/>\n<polyline clip-path=\"url(#clip812)\" style=\"stroke:#000000; stroke-linecap:round; stroke-linejoin:round; stroke-width:4; stroke-opacity:1; fill:none\" points=\"6295.35,1384.24 6295.35,1384.24 6336.99,1384.24 6295.35,1384.24 \"/>\n<path clip-path=\"url(#clip812)\" d=\"M6336.99 951.554 L6336.99 1384.24 L6378.64 1384.24 L6378.64 951.554 L6336.99 951.554 L6336.99 951.554  Z\" fill=\"#009af9\" fill-rule=\"evenodd\" fill-opacity=\"1\"/>\n<polyline clip-path=\"url(#clip812)\" style=\"stroke:#000000; stroke-linecap:round; stroke-linejoin:round; stroke-width:4; stroke-opacity:1; fill:none\" points=\"6336.99,951.554 6336.99,1384.24 6378.64,1384.24 6378.64,951.554 6336.99,951.554 \"/>\n<path clip-path=\"url(#clip812)\" d=\"M6378.64 1384.24 L6378.64 1384.24 L6420.28 1384.24 L6420.28 1384.24 L6378.64 1384.24 L6378.64 1384.24  Z\" fill=\"#009af9\" fill-rule=\"evenodd\" fill-opacity=\"1\"/>\n<polyline clip-path=\"url(#clip812)\" style=\"stroke:#000000; stroke-linecap:round; stroke-linejoin:round; stroke-width:4; stroke-opacity:1; fill:none\" points=\"6378.64,1384.24 6378.64,1384.24 6420.28,1384.24 6378.64,1384.24 \"/>\n<path clip-path=\"url(#clip812)\" d=\"M6420.28 951.554 L6420.28 1384.24 L6461.92 1384.24 L6461.92 951.554 L6420.28 951.554 L6420.28 951.554  Z\" fill=\"#009af9\" fill-rule=\"evenodd\" fill-opacity=\"1\"/>\n<polyline clip-path=\"url(#clip812)\" style=\"stroke:#000000; stroke-linecap:round; stroke-linejoin:round; stroke-width:4; stroke-opacity:1; fill:none\" points=\"6420.28,951.554 6420.28,1384.24 6461.92,1384.24 6461.92,951.554 6420.28,951.554 \"/>\n<path clip-path=\"url(#clip812)\" d=\"M6461.92 518.87 L6461.92 1384.24 L6503.56 1384.24 L6503.56 518.87 L6461.92 518.87 L6461.92 518.87  Z\" fill=\"#009af9\" fill-rule=\"evenodd\" fill-opacity=\"1\"/>\n<polyline clip-path=\"url(#clip812)\" style=\"stroke:#000000; stroke-linecap:round; stroke-linejoin:round; stroke-width:4; stroke-opacity:1; fill:none\" points=\"6461.92,518.87 6461.92,1384.24 6503.56,1384.24 6503.56,518.87 6461.92,518.87 \"/>\n<path clip-path=\"url(#clip812)\" d=\"M6503.56 1384.24 L6503.56 1384.24 L6545.21 1384.24 L6545.21 1384.24 L6503.56 1384.24 L6503.56 1384.24  Z\" fill=\"#009af9\" fill-rule=\"evenodd\" fill-opacity=\"1\"/>\n<polyline clip-path=\"url(#clip812)\" style=\"stroke:#000000; stroke-linecap:round; stroke-linejoin:round; stroke-width:4; stroke-opacity:1; fill:none\" points=\"6503.56,1384.24 6503.56,1384.24 6545.21,1384.24 6503.56,1384.24 \"/>\n<path clip-path=\"url(#clip812)\" d=\"M6545.21 1167.9 L6545.21 1384.24 L6586.85 1384.24 L6586.85 1167.9 L6545.21 1167.9 L6545.21 1167.9  Z\" fill=\"#009af9\" fill-rule=\"evenodd\" fill-opacity=\"1\"/>\n<polyline clip-path=\"url(#clip812)\" style=\"stroke:#000000; stroke-linecap:round; stroke-linejoin:round; stroke-width:4; stroke-opacity:1; fill:none\" points=\"6545.21,1167.9 6545.21,1384.24 6586.85,1384.24 6586.85,1167.9 6545.21,1167.9 \"/>\n<path clip-path=\"url(#clip812)\" d=\"M6586.85 735.212 L6586.85 1384.24 L6628.49 1384.24 L6628.49 735.212 L6586.85 735.212 L6586.85 735.212  Z\" fill=\"#009af9\" fill-rule=\"evenodd\" fill-opacity=\"1\"/>\n<polyline clip-path=\"url(#clip812)\" style=\"stroke:#000000; stroke-linecap:round; stroke-linejoin:round; stroke-width:4; stroke-opacity:1; fill:none\" points=\"6586.85,735.212 6586.85,1384.24 6628.49,1384.24 6628.49,735.212 6586.85,735.212 \"/>\n<path clip-path=\"url(#clip812)\" d=\"M6628.49 1384.24 L6628.49 1384.24 L6670.13 1384.24 L6670.13 1384.24 L6628.49 1384.24 L6628.49 1384.24  Z\" fill=\"#009af9\" fill-rule=\"evenodd\" fill-opacity=\"1\"/>\n<polyline clip-path=\"url(#clip812)\" style=\"stroke:#000000; stroke-linecap:round; stroke-linejoin:round; stroke-width:4; stroke-opacity:1; fill:none\" points=\"6628.49,1384.24 6628.49,1384.24 6670.13,1384.24 6628.49,1384.24 \"/>\n<path clip-path=\"url(#clip812)\" d=\"M6670.13 951.554 L6670.13 1384.24 L6711.77 1384.24 L6711.77 951.554 L6670.13 951.554 L6670.13 951.554  Z\" fill=\"#009af9\" fill-rule=\"evenodd\" fill-opacity=\"1\"/>\n<polyline clip-path=\"url(#clip812)\" style=\"stroke:#000000; stroke-linecap:round; stroke-linejoin:round; stroke-width:4; stroke-opacity:1; fill:none\" points=\"6670.13,951.554 6670.13,1384.24 6711.77,1384.24 6711.77,951.554 6670.13,951.554 \"/>\n<path clip-path=\"url(#clip812)\" d=\"M6711.77 1384.24 L6711.77 1384.24 L6753.42 1384.24 L6753.42 1384.24 L6711.77 1384.24 L6711.77 1384.24  Z\" fill=\"#009af9\" fill-rule=\"evenodd\" fill-opacity=\"1\"/>\n<polyline clip-path=\"url(#clip812)\" style=\"stroke:#000000; stroke-linecap:round; stroke-linejoin:round; stroke-width:4; stroke-opacity:1; fill:none\" points=\"6711.77,1384.24 6711.77,1384.24 6753.42,1384.24 6711.77,1384.24 \"/>\n<path clip-path=\"url(#clip812)\" d=\"M6753.42 1167.9 L6753.42 1384.24 L6795.06 1384.24 L6795.06 1167.9 L6753.42 1167.9 L6753.42 1167.9  Z\" fill=\"#009af9\" fill-rule=\"evenodd\" fill-opacity=\"1\"/>\n<polyline clip-path=\"url(#clip812)\" style=\"stroke:#000000; stroke-linecap:round; stroke-linejoin:round; stroke-width:4; stroke-opacity:1; fill:none\" points=\"6753.42,1167.9 6753.42,1384.24 6795.06,1384.24 6795.06,1167.9 6753.42,1167.9 \"/>\n<path clip-path=\"url(#clip812)\" d=\"M6795.06 1167.9 L6795.06 1384.24 L6836.7 1384.24 L6836.7 1167.9 L6795.06 1167.9 L6795.06 1167.9  Z\" fill=\"#009af9\" fill-rule=\"evenodd\" fill-opacity=\"1\"/>\n<polyline clip-path=\"url(#clip812)\" style=\"stroke:#000000; stroke-linecap:round; stroke-linejoin:round; stroke-width:4; stroke-opacity:1; fill:none\" points=\"6795.06,1167.9 6795.06,1384.24 6836.7,1384.24 6836.7,1167.9 6795.06,1167.9 \"/>\n<path clip-path=\"url(#clip812)\" d=\"M6836.7 1384.24 L6836.7 1384.24 L6878.34 1384.24 L6878.34 1384.24 L6836.7 1384.24 L6836.7 1384.24  Z\" fill=\"#009af9\" fill-rule=\"evenodd\" fill-opacity=\"1\"/>\n<polyline clip-path=\"url(#clip812)\" style=\"stroke:#000000; stroke-linecap:round; stroke-linejoin:round; stroke-width:4; stroke-opacity:1; fill:none\" points=\"6836.7,1384.24 6836.7,1384.24 6878.34,1384.24 6836.7,1384.24 \"/>\n<path clip-path=\"url(#clip812)\" d=\"M6878.34 1384.24 L6878.34 1384.24 L6919.99 1384.24 L6919.99 1384.24 L6878.34 1384.24 L6878.34 1384.24  Z\" fill=\"#009af9\" fill-rule=\"evenodd\" fill-opacity=\"1\"/>\n<polyline clip-path=\"url(#clip812)\" style=\"stroke:#000000; stroke-linecap:round; stroke-linejoin:round; stroke-width:4; stroke-opacity:1; fill:none\" points=\"6878.34,1384.24 6878.34,1384.24 6919.99,1384.24 6878.34,1384.24 \"/>\n<path clip-path=\"url(#clip812)\" d=\"M6919.99 1384.24 L6919.99 1384.24 L6961.63 1384.24 L6961.63 1384.24 L6919.99 1384.24 L6919.99 1384.24  Z\" fill=\"#009af9\" fill-rule=\"evenodd\" fill-opacity=\"1\"/>\n<polyline clip-path=\"url(#clip812)\" style=\"stroke:#000000; stroke-linecap:round; stroke-linejoin:round; stroke-width:4; stroke-opacity:1; fill:none\" points=\"6919.99,1384.24 6919.99,1384.24 6961.63,1384.24 6919.99,1384.24 \"/>\n<path clip-path=\"url(#clip812)\" d=\"M6961.63 1384.24 L6961.63 1384.24 L7003.27 1384.24 L7003.27 1384.24 L6961.63 1384.24 L6961.63 1384.24  Z\" fill=\"#009af9\" fill-rule=\"evenodd\" fill-opacity=\"1\"/>\n<polyline clip-path=\"url(#clip812)\" style=\"stroke:#000000; stroke-linecap:round; stroke-linejoin:round; stroke-width:4; stroke-opacity:1; fill:none\" points=\"6961.63,1384.24 6961.63,1384.24 7003.27,1384.24 6961.63,1384.24 \"/>\n<path clip-path=\"url(#clip812)\" d=\"M7003.27 1384.24 L7003.27 1384.24 L7044.91 1384.24 L7044.91 1384.24 L7003.27 1384.24 L7003.27 1384.24  Z\" fill=\"#009af9\" fill-rule=\"evenodd\" fill-opacity=\"1\"/>\n<polyline clip-path=\"url(#clip812)\" style=\"stroke:#000000; stroke-linecap:round; stroke-linejoin:round; stroke-width:4; stroke-opacity:1; fill:none\" points=\"7003.27,1384.24 7003.27,1384.24 7044.91,1384.24 7003.27,1384.24 \"/>\n<path clip-path=\"url(#clip812)\" d=\"M7044.91 1384.24 L7044.91 1384.24 L7086.56 1384.24 L7086.56 1384.24 L7044.91 1384.24 L7044.91 1384.24  Z\" fill=\"#009af9\" fill-rule=\"evenodd\" fill-opacity=\"1\"/>\n<polyline clip-path=\"url(#clip812)\" style=\"stroke:#000000; stroke-linecap:round; stroke-linejoin:round; stroke-width:4; stroke-opacity:1; fill:none\" points=\"7044.91,1384.24 7044.91,1384.24 7086.56,1384.24 7044.91,1384.24 \"/>\n<path clip-path=\"url(#clip812)\" d=\"M7086.56 1384.24 L7086.56 1384.24 L7128.2 1384.24 L7128.2 1384.24 L7086.56 1384.24 L7086.56 1384.24  Z\" fill=\"#009af9\" fill-rule=\"evenodd\" fill-opacity=\"1\"/>\n<polyline clip-path=\"url(#clip812)\" style=\"stroke:#000000; stroke-linecap:round; stroke-linejoin:round; stroke-width:4; stroke-opacity:1; fill:none\" points=\"7086.56,1384.24 7086.56,1384.24 7128.2,1384.24 7086.56,1384.24 \"/>\n<path clip-path=\"url(#clip812)\" d=\"M7128.2 1384.24 L7128.2 1384.24 L7169.84 1384.24 L7169.84 1384.24 L7128.2 1384.24 L7128.2 1384.24  Z\" fill=\"#009af9\" fill-rule=\"evenodd\" fill-opacity=\"1\"/>\n<polyline clip-path=\"url(#clip812)\" style=\"stroke:#000000; stroke-linecap:round; stroke-linejoin:round; stroke-width:4; stroke-opacity:1; fill:none\" points=\"7128.2,1384.24 7128.2,1384.24 7169.84,1384.24 7128.2,1384.24 \"/>\n<path clip-path=\"url(#clip812)\" d=\"M7169.84 1167.9 L7169.84 1384.24 L7211.48 1384.24 L7211.48 1167.9 L7169.84 1167.9 L7169.84 1167.9  Z\" fill=\"#009af9\" fill-rule=\"evenodd\" fill-opacity=\"1\"/>\n<polyline clip-path=\"url(#clip812)\" style=\"stroke:#000000; stroke-linecap:round; stroke-linejoin:round; stroke-width:4; stroke-opacity:1; fill:none\" points=\"7169.84,1167.9 7169.84,1384.24 7211.48,1384.24 7211.48,1167.9 7169.84,1167.9 \"/>\n<path clip-path=\"url(#clip812)\" d=\"M7211.48 1384.24 L7211.48 1384.24 L7253.12 1384.24 L7253.12 1384.24 L7211.48 1384.24 L7211.48 1384.24  Z\" fill=\"#009af9\" fill-rule=\"evenodd\" fill-opacity=\"1\"/>\n<polyline clip-path=\"url(#clip812)\" style=\"stroke:#000000; stroke-linecap:round; stroke-linejoin:round; stroke-width:4; stroke-opacity:1; fill:none\" points=\"7211.48,1384.24 7211.48,1384.24 7253.12,1384.24 7211.48,1384.24 \"/>\n<path clip-path=\"url(#clip812)\" d=\"M7253.12 1384.24 L7253.12 1384.24 L7294.77 1384.24 L7294.77 1384.24 L7253.12 1384.24 L7253.12 1384.24  Z\" fill=\"#009af9\" fill-rule=\"evenodd\" fill-opacity=\"1\"/>\n<polyline clip-path=\"url(#clip812)\" style=\"stroke:#000000; stroke-linecap:round; stroke-linejoin:round; stroke-width:4; stroke-opacity:1; fill:none\" points=\"7253.12,1384.24 7253.12,1384.24 7294.77,1384.24 7253.12,1384.24 \"/>\n<path clip-path=\"url(#clip812)\" d=\"M7294.77 1384.24 L7294.77 1384.24 L7336.41 1384.24 L7336.41 1384.24 L7294.77 1384.24 L7294.77 1384.24  Z\" fill=\"#009af9\" fill-rule=\"evenodd\" fill-opacity=\"1\"/>\n<polyline clip-path=\"url(#clip812)\" style=\"stroke:#000000; stroke-linecap:round; stroke-linejoin:round; stroke-width:4; stroke-opacity:1; fill:none\" points=\"7294.77,1384.24 7294.77,1384.24 7336.41,1384.24 7294.77,1384.24 \"/>\n<path clip-path=\"url(#clip812)\" d=\"M7336.41 1167.9 L7336.41 1384.24 L7378.05 1384.24 L7378.05 1167.9 L7336.41 1167.9 L7336.41 1167.9  Z\" fill=\"#009af9\" fill-rule=\"evenodd\" fill-opacity=\"1\"/>\n<polyline clip-path=\"url(#clip812)\" style=\"stroke:#000000; stroke-linecap:round; stroke-linejoin:round; stroke-width:4; stroke-opacity:1; fill:none\" points=\"7336.41,1167.9 7336.41,1384.24 7378.05,1384.24 7378.05,1167.9 7336.41,1167.9 \"/>\n<path clip-path=\"url(#clip812)\" d=\"M7378.05 1384.24 L7378.05 1384.24 L7419.69 1384.24 L7419.69 1384.24 L7378.05 1384.24 L7378.05 1384.24  Z\" fill=\"#009af9\" fill-rule=\"evenodd\" fill-opacity=\"1\"/>\n<polyline clip-path=\"url(#clip812)\" style=\"stroke:#000000; stroke-linecap:round; stroke-linejoin:round; stroke-width:4; stroke-opacity:1; fill:none\" points=\"7378.05,1384.24 7378.05,1384.24 7419.69,1384.24 7378.05,1384.24 \"/>\n<path clip-path=\"url(#clip812)\" d=\"M7419.69 1167.9 L7419.69 1384.24 L7461.34 1384.24 L7461.34 1167.9 L7419.69 1167.9 L7419.69 1167.9  Z\" fill=\"#009af9\" fill-rule=\"evenodd\" fill-opacity=\"1\"/>\n<polyline clip-path=\"url(#clip812)\" style=\"stroke:#000000; stroke-linecap:round; stroke-linejoin:round; stroke-width:4; stroke-opacity:1; fill:none\" points=\"7419.69,1167.9 7419.69,1384.24 7461.34,1384.24 7461.34,1167.9 7419.69,1167.9 \"/>\n<path clip-path=\"url(#clip812)\" d=\"M7461.34 1384.24 L7461.34 1384.24 L7502.98 1384.24 L7502.98 1384.24 L7461.34 1384.24 L7461.34 1384.24  Z\" fill=\"#009af9\" fill-rule=\"evenodd\" fill-opacity=\"1\"/>\n<polyline clip-path=\"url(#clip812)\" style=\"stroke:#000000; stroke-linecap:round; stroke-linejoin:round; stroke-width:4; stroke-opacity:1; fill:none\" points=\"7461.34,1384.24 7461.34,1384.24 7502.98,1384.24 7461.34,1384.24 \"/>\n<path clip-path=\"url(#clip812)\" d=\"M7502.98 1384.24 L7502.98 1384.24 L7544.62 1384.24 L7544.62 1384.24 L7502.98 1384.24 L7502.98 1384.24  Z\" fill=\"#009af9\" fill-rule=\"evenodd\" fill-opacity=\"1\"/>\n<polyline clip-path=\"url(#clip812)\" style=\"stroke:#000000; stroke-linecap:round; stroke-linejoin:round; stroke-width:4; stroke-opacity:1; fill:none\" points=\"7502.98,1384.24 7502.98,1384.24 7544.62,1384.24 7502.98,1384.24 \"/>\n<path clip-path=\"url(#clip812)\" d=\"M7544.62 1384.24 L7544.62 1384.24 L7586.26 1384.24 L7586.26 1384.24 L7544.62 1384.24 L7544.62 1384.24  Z\" fill=\"#009af9\" fill-rule=\"evenodd\" fill-opacity=\"1\"/>\n<polyline clip-path=\"url(#clip812)\" style=\"stroke:#000000; stroke-linecap:round; stroke-linejoin:round; stroke-width:4; stroke-opacity:1; fill:none\" points=\"7544.62,1384.24 7544.62,1384.24 7586.26,1384.24 7544.62,1384.24 \"/>\n<path clip-path=\"url(#clip812)\" d=\"M7586.26 1167.9 L7586.26 1384.24 L7627.91 1384.24 L7627.91 1167.9 L7586.26 1167.9 L7586.26 1167.9  Z\" fill=\"#009af9\" fill-rule=\"evenodd\" fill-opacity=\"1\"/>\n<polyline clip-path=\"url(#clip812)\" style=\"stroke:#000000; stroke-linecap:round; stroke-linejoin:round; stroke-width:4; stroke-opacity:1; fill:none\" points=\"7586.26,1167.9 7586.26,1384.24 7627.91,1384.24 7627.91,1167.9 7586.26,1167.9 \"/>\n<path clip-path=\"url(#clip812)\" d=\"M7627.91 1384.24 L7627.91 1384.24 L7669.55 1384.24 L7669.55 1384.24 L7627.91 1384.24 L7627.91 1384.24  Z\" fill=\"#009af9\" fill-rule=\"evenodd\" fill-opacity=\"1\"/>\n<polyline clip-path=\"url(#clip812)\" style=\"stroke:#000000; stroke-linecap:round; stroke-linejoin:round; stroke-width:4; stroke-opacity:1; fill:none\" points=\"7627.91,1384.24 7627.91,1384.24 7669.55,1384.24 7627.91,1384.24 \"/>\n<path clip-path=\"url(#clip812)\" d=\"M7669.55 1384.24 L7669.55 1384.24 L7711.19 1384.24 L7711.19 1384.24 L7669.55 1384.24 L7669.55 1384.24  Z\" fill=\"#009af9\" fill-rule=\"evenodd\" fill-opacity=\"1\"/>\n<polyline clip-path=\"url(#clip812)\" style=\"stroke:#000000; stroke-linecap:round; stroke-linejoin:round; stroke-width:4; stroke-opacity:1; fill:none\" points=\"7669.55,1384.24 7669.55,1384.24 7711.19,1384.24 7669.55,1384.24 \"/>\n<path clip-path=\"url(#clip812)\" d=\"M7711.19 1384.24 L7711.19 1384.24 L7752.83 1384.24 L7752.83 1384.24 L7711.19 1384.24 L7711.19 1384.24  Z\" fill=\"#009af9\" fill-rule=\"evenodd\" fill-opacity=\"1\"/>\n<polyline clip-path=\"url(#clip812)\" style=\"stroke:#000000; stroke-linecap:round; stroke-linejoin:round; stroke-width:4; stroke-opacity:1; fill:none\" points=\"7711.19,1384.24 7711.19,1384.24 7752.83,1384.24 7711.19,1384.24 \"/>\n<path clip-path=\"url(#clip812)\" d=\"M7752.83 1384.24 L7752.83 1384.24 L7794.47 1384.24 L7794.47 1384.24 L7752.83 1384.24 L7752.83 1384.24  Z\" fill=\"#009af9\" fill-rule=\"evenodd\" fill-opacity=\"1\"/>\n<polyline clip-path=\"url(#clip812)\" style=\"stroke:#000000; stroke-linecap:round; stroke-linejoin:round; stroke-width:4; stroke-opacity:1; fill:none\" points=\"7752.83,1384.24 7752.83,1384.24 7794.47,1384.24 7752.83,1384.24 \"/>\n<path clip-path=\"url(#clip812)\" d=\"M7794.47 1167.9 L7794.47 1384.24 L7836.12 1384.24 L7836.12 1167.9 L7794.47 1167.9 L7794.47 1167.9  Z\" fill=\"#009af9\" fill-rule=\"evenodd\" fill-opacity=\"1\"/>\n<polyline clip-path=\"url(#clip812)\" style=\"stroke:#000000; stroke-linecap:round; stroke-linejoin:round; stroke-width:4; stroke-opacity:1; fill:none\" points=\"7794.47,1167.9 7794.47,1384.24 7836.12,1384.24 7836.12,1167.9 7794.47,1167.9 \"/>\n<path clip-path=\"url(#clip812)\" d=\"M7836.12 1384.24 L7836.12 1384.24 L7877.76 1384.24 L7877.76 1384.24 L7836.12 1384.24 L7836.12 1384.24  Z\" fill=\"#009af9\" fill-rule=\"evenodd\" fill-opacity=\"1\"/>\n<polyline clip-path=\"url(#clip812)\" style=\"stroke:#000000; stroke-linecap:round; stroke-linejoin:round; stroke-width:4; stroke-opacity:1; fill:none\" points=\"7836.12,1384.24 7836.12,1384.24 7877.76,1384.24 7836.12,1384.24 \"/>\n<path clip-path=\"url(#clip812)\" d=\"M7877.76 1384.24 L7877.76 1384.24 L7919.4 1384.24 L7919.4 1384.24 L7877.76 1384.24 L7877.76 1384.24  Z\" fill=\"#009af9\" fill-rule=\"evenodd\" fill-opacity=\"1\"/>\n<polyline clip-path=\"url(#clip812)\" style=\"stroke:#000000; stroke-linecap:round; stroke-linejoin:round; stroke-width:4; stroke-opacity:1; fill:none\" points=\"7877.76,1384.24 7877.76,1384.24 7919.4,1384.24 7877.76,1384.24 \"/>\n<path clip-path=\"url(#clip812)\" d=\"M7919.4 1384.24 L7919.4 1384.24 L7961.04 1384.24 L7961.04 1384.24 L7919.4 1384.24 L7919.4 1384.24  Z\" fill=\"#009af9\" fill-rule=\"evenodd\" fill-opacity=\"1\"/>\n<polyline clip-path=\"url(#clip812)\" style=\"stroke:#000000; stroke-linecap:round; stroke-linejoin:round; stroke-width:4; stroke-opacity:1; fill:none\" points=\"7919.4,1384.24 7919.4,1384.24 7961.04,1384.24 7919.4,1384.24 \"/>\n<path clip-path=\"url(#clip812)\" d=\"M7961.04 1384.24 L7961.04 1384.24 L8002.69 1384.24 L8002.69 1384.24 L7961.04 1384.24 L7961.04 1384.24  Z\" fill=\"#009af9\" fill-rule=\"evenodd\" fill-opacity=\"1\"/>\n<polyline clip-path=\"url(#clip812)\" style=\"stroke:#000000; stroke-linecap:round; stroke-linejoin:round; stroke-width:4; stroke-opacity:1; fill:none\" points=\"7961.04,1384.24 7961.04,1384.24 8002.69,1384.24 7961.04,1384.24 \"/>\n<path clip-path=\"url(#clip812)\" d=\"M8002.69 1167.9 L8002.69 1384.24 L8044.33 1384.24 L8044.33 1167.9 L8002.69 1167.9 L8002.69 1167.9  Z\" fill=\"#009af9\" fill-rule=\"evenodd\" fill-opacity=\"1\"/>\n<polyline clip-path=\"url(#clip812)\" style=\"stroke:#000000; stroke-linecap:round; stroke-linejoin:round; stroke-width:4; stroke-opacity:1; fill:none\" points=\"8002.69,1167.9 8002.69,1384.24 8044.33,1384.24 8044.33,1167.9 8002.69,1167.9 \"/>\n<path clip-path=\"url(#clip812)\" d=\"M8044.33 1384.24 L8044.33 1384.24 L8085.97 1384.24 L8085.97 1384.24 L8044.33 1384.24 L8044.33 1384.24  Z\" fill=\"#009af9\" fill-rule=\"evenodd\" fill-opacity=\"1\"/>\n<polyline clip-path=\"url(#clip812)\" style=\"stroke:#000000; stroke-linecap:round; stroke-linejoin:round; stroke-width:4; stroke-opacity:1; fill:none\" points=\"8044.33,1384.24 8044.33,1384.24 8085.97,1384.24 8044.33,1384.24 \"/>\n<path clip-path=\"url(#clip812)\" d=\"M8085.97 1384.24 L8085.97 1384.24 L8127.61 1384.24 L8127.61 1384.24 L8085.97 1384.24 L8085.97 1384.24  Z\" fill=\"#009af9\" fill-rule=\"evenodd\" fill-opacity=\"1\"/>\n<polyline clip-path=\"url(#clip812)\" style=\"stroke:#000000; stroke-linecap:round; stroke-linejoin:round; stroke-width:4; stroke-opacity:1; fill:none\" points=\"8085.97,1384.24 8085.97,1384.24 8127.61,1384.24 8085.97,1384.24 \"/>\n<path clip-path=\"url(#clip812)\" d=\"M8127.61 1167.9 L8127.61 1384.24 L8169.26 1384.24 L8169.26 1167.9 L8127.61 1167.9 L8127.61 1167.9  Z\" fill=\"#009af9\" fill-rule=\"evenodd\" fill-opacity=\"1\"/>\n<polyline clip-path=\"url(#clip812)\" style=\"stroke:#000000; stroke-linecap:round; stroke-linejoin:round; stroke-width:4; stroke-opacity:1; fill:none\" points=\"8127.61,1167.9 8127.61,1384.24 8169.26,1384.24 8169.26,1167.9 8127.61,1167.9 \"/>\n<path clip-path=\"url(#clip812)\" d=\"M8169.26 1384.24 L8169.26 1384.24 L8210.9 1384.24 L8210.9 1384.24 L8169.26 1384.24 L8169.26 1384.24  Z\" fill=\"#009af9\" fill-rule=\"evenodd\" fill-opacity=\"1\"/>\n<polyline clip-path=\"url(#clip812)\" style=\"stroke:#000000; stroke-linecap:round; stroke-linejoin:round; stroke-width:4; stroke-opacity:1; fill:none\" points=\"8169.26,1384.24 8169.26,1384.24 8210.9,1384.24 8169.26,1384.24 \"/>\n<path clip-path=\"url(#clip812)\" d=\"M8210.9 1384.24 L8210.9 1384.24 L8252.54 1384.24 L8252.54 1384.24 L8210.9 1384.24 L8210.9 1384.24  Z\" fill=\"#009af9\" fill-rule=\"evenodd\" fill-opacity=\"1\"/>\n<polyline clip-path=\"url(#clip812)\" style=\"stroke:#000000; stroke-linecap:round; stroke-linejoin:round; stroke-width:4; stroke-opacity:1; fill:none\" points=\"8210.9,1384.24 8210.9,1384.24 8252.54,1384.24 8210.9,1384.24 \"/>\n<path clip-path=\"url(#clip812)\" d=\"M8252.54 1384.24 L8252.54 1384.24 L8294.18 1384.24 L8294.18 1384.24 L8252.54 1384.24 L8252.54 1384.24  Z\" fill=\"#009af9\" fill-rule=\"evenodd\" fill-opacity=\"1\"/>\n<polyline clip-path=\"url(#clip812)\" style=\"stroke:#000000; stroke-linecap:round; stroke-linejoin:round; stroke-width:4; stroke-opacity:1; fill:none\" points=\"8252.54,1384.24 8252.54,1384.24 8294.18,1384.24 8252.54,1384.24 \"/>\n<path clip-path=\"url(#clip812)\" d=\"M8294.18 1384.24 L8294.18 1384.24 L8335.82 1384.24 L8335.82 1384.24 L8294.18 1384.24 L8294.18 1384.24  Z\" fill=\"#009af9\" fill-rule=\"evenodd\" fill-opacity=\"1\"/>\n<polyline clip-path=\"url(#clip812)\" style=\"stroke:#000000; stroke-linecap:round; stroke-linejoin:round; stroke-width:4; stroke-opacity:1; fill:none\" points=\"8294.18,1384.24 8294.18,1384.24 8335.82,1384.24 8294.18,1384.24 \"/>\n<path clip-path=\"url(#clip812)\" d=\"M8335.82 1384.24 L8335.82 1384.24 L8377.47 1384.24 L8377.47 1384.24 L8335.82 1384.24 L8335.82 1384.24  Z\" fill=\"#009af9\" fill-rule=\"evenodd\" fill-opacity=\"1\"/>\n<polyline clip-path=\"url(#clip812)\" style=\"stroke:#000000; stroke-linecap:round; stroke-linejoin:round; stroke-width:4; stroke-opacity:1; fill:none\" points=\"8335.82,1384.24 8335.82,1384.24 8377.47,1384.24 8335.82,1384.24 \"/>\n<path clip-path=\"url(#clip812)\" d=\"M8377.47 1384.24 L8377.47 1384.24 L8419.11 1384.24 L8419.11 1384.24 L8377.47 1384.24 L8377.47 1384.24  Z\" fill=\"#009af9\" fill-rule=\"evenodd\" fill-opacity=\"1\"/>\n<polyline clip-path=\"url(#clip812)\" style=\"stroke:#000000; stroke-linecap:round; stroke-linejoin:round; stroke-width:4; stroke-opacity:1; fill:none\" points=\"8377.47,1384.24 8377.47,1384.24 8419.11,1384.24 8377.47,1384.24 \"/>\n<path clip-path=\"url(#clip812)\" d=\"M8419.11 1384.24 L8419.11 1384.24 L8460.75 1384.24 L8460.75 1384.24 L8419.11 1384.24 L8419.11 1384.24  Z\" fill=\"#009af9\" fill-rule=\"evenodd\" fill-opacity=\"1\"/>\n<polyline clip-path=\"url(#clip812)\" style=\"stroke:#000000; stroke-linecap:round; stroke-linejoin:round; stroke-width:4; stroke-opacity:1; fill:none\" points=\"8419.11,1384.24 8419.11,1384.24 8460.75,1384.24 8419.11,1384.24 \"/>\n<path clip-path=\"url(#clip812)\" d=\"M8460.75 1384.24 L8460.75 1384.24 L8502.39 1384.24 L8502.39 1384.24 L8460.75 1384.24 L8460.75 1384.24  Z\" fill=\"#009af9\" fill-rule=\"evenodd\" fill-opacity=\"1\"/>\n<polyline clip-path=\"url(#clip812)\" style=\"stroke:#000000; stroke-linecap:round; stroke-linejoin:round; stroke-width:4; stroke-opacity:1; fill:none\" points=\"8460.75,1384.24 8460.75,1384.24 8502.39,1384.24 8460.75,1384.24 \"/>\n<path clip-path=\"url(#clip812)\" d=\"M8502.39 1384.24 L8502.39 1384.24 L8544.04 1384.24 L8544.04 1384.24 L8502.39 1384.24 L8502.39 1384.24  Z\" fill=\"#009af9\" fill-rule=\"evenodd\" fill-opacity=\"1\"/>\n<polyline clip-path=\"url(#clip812)\" style=\"stroke:#000000; stroke-linecap:round; stroke-linejoin:round; stroke-width:4; stroke-opacity:1; fill:none\" points=\"8502.39,1384.24 8502.39,1384.24 8544.04,1384.24 8502.39,1384.24 \"/>\n<path clip-path=\"url(#clip812)\" d=\"M8544.04 1384.24 L8544.04 1384.24 L8585.68 1384.24 L8585.68 1384.24 L8544.04 1384.24 L8544.04 1384.24  Z\" fill=\"#009af9\" fill-rule=\"evenodd\" fill-opacity=\"1\"/>\n<polyline clip-path=\"url(#clip812)\" style=\"stroke:#000000; stroke-linecap:round; stroke-linejoin:round; stroke-width:4; stroke-opacity:1; fill:none\" points=\"8544.04,1384.24 8544.04,1384.24 8585.68,1384.24 8544.04,1384.24 \"/>\n<path clip-path=\"url(#clip812)\" d=\"M8585.68 1384.24 L8585.68 1384.24 L8627.32 1384.24 L8627.32 1384.24 L8585.68 1384.24 L8585.68 1384.24  Z\" fill=\"#009af9\" fill-rule=\"evenodd\" fill-opacity=\"1\"/>\n<polyline clip-path=\"url(#clip812)\" style=\"stroke:#000000; stroke-linecap:round; stroke-linejoin:round; stroke-width:4; stroke-opacity:1; fill:none\" points=\"8585.68,1384.24 8585.68,1384.24 8627.32,1384.24 8585.68,1384.24 \"/>\n<path clip-path=\"url(#clip812)\" d=\"M8627.32 1384.24 L8627.32 1384.24 L8668.96 1384.24 L8668.96 1384.24 L8627.32 1384.24 L8627.32 1384.24  Z\" fill=\"#009af9\" fill-rule=\"evenodd\" fill-opacity=\"1\"/>\n<polyline clip-path=\"url(#clip812)\" style=\"stroke:#000000; stroke-linecap:round; stroke-linejoin:round; stroke-width:4; stroke-opacity:1; fill:none\" points=\"8627.32,1384.24 8627.32,1384.24 8668.96,1384.24 8627.32,1384.24 \"/>\n<path clip-path=\"url(#clip812)\" d=\"M8668.96 1384.24 L8668.96 1384.24 L8710.61 1384.24 L8710.61 1384.24 L8668.96 1384.24 L8668.96 1384.24  Z\" fill=\"#009af9\" fill-rule=\"evenodd\" fill-opacity=\"1\"/>\n<polyline clip-path=\"url(#clip812)\" style=\"stroke:#000000; stroke-linecap:round; stroke-linejoin:round; stroke-width:4; stroke-opacity:1; fill:none\" points=\"8668.96,1384.24 8668.96,1384.24 8710.61,1384.24 8668.96,1384.24 \"/>\n<path clip-path=\"url(#clip812)\" d=\"M8710.61 1384.24 L8710.61 1384.24 L8752.25 1384.24 L8752.25 1384.24 L8710.61 1384.24 L8710.61 1384.24  Z\" fill=\"#009af9\" fill-rule=\"evenodd\" fill-opacity=\"1\"/>\n<polyline clip-path=\"url(#clip812)\" style=\"stroke:#000000; stroke-linecap:round; stroke-linejoin:round; stroke-width:4; stroke-opacity:1; fill:none\" points=\"8710.61,1384.24 8710.61,1384.24 8752.25,1384.24 8710.61,1384.24 \"/>\n<path clip-path=\"url(#clip812)\" d=\"M8752.25 1384.24 L8752.25 1384.24 L8793.89 1384.24 L8793.89 1384.24 L8752.25 1384.24 L8752.25 1384.24  Z\" fill=\"#009af9\" fill-rule=\"evenodd\" fill-opacity=\"1\"/>\n<polyline clip-path=\"url(#clip812)\" style=\"stroke:#000000; stroke-linecap:round; stroke-linejoin:round; stroke-width:4; stroke-opacity:1; fill:none\" points=\"8752.25,1384.24 8752.25,1384.24 8793.89,1384.24 8752.25,1384.24 \"/>\n<path clip-path=\"url(#clip812)\" d=\"M8793.89 1384.24 L8793.89 1384.24 L8835.53 1384.24 L8835.53 1384.24 L8793.89 1384.24 L8793.89 1384.24  Z\" fill=\"#009af9\" fill-rule=\"evenodd\" fill-opacity=\"1\"/>\n<polyline clip-path=\"url(#clip812)\" style=\"stroke:#000000; stroke-linecap:round; stroke-linejoin:round; stroke-width:4; stroke-opacity:1; fill:none\" points=\"8793.89,1384.24 8793.89,1384.24 8835.53,1384.24 8793.89,1384.24 \"/>\n<path clip-path=\"url(#clip812)\" d=\"M8835.53 1384.24 L8835.53 1384.24 L8877.17 1384.24 L8877.17 1384.24 L8835.53 1384.24 L8835.53 1384.24  Z\" fill=\"#009af9\" fill-rule=\"evenodd\" fill-opacity=\"1\"/>\n<polyline clip-path=\"url(#clip812)\" style=\"stroke:#000000; stroke-linecap:round; stroke-linejoin:round; stroke-width:4; stroke-opacity:1; fill:none\" points=\"8835.53,1384.24 8835.53,1384.24 8877.17,1384.24 8835.53,1384.24 \"/>\n<path clip-path=\"url(#clip812)\" d=\"M8877.17 1384.24 L8877.17 1384.24 L8918.82 1384.24 L8918.82 1384.24 L8877.17 1384.24 L8877.17 1384.24  Z\" fill=\"#009af9\" fill-rule=\"evenodd\" fill-opacity=\"1\"/>\n<polyline clip-path=\"url(#clip812)\" style=\"stroke:#000000; stroke-linecap:round; stroke-linejoin:round; stroke-width:4; stroke-opacity:1; fill:none\" points=\"8877.17,1384.24 8877.17,1384.24 8918.82,1384.24 8877.17,1384.24 \"/>\n<path clip-path=\"url(#clip812)\" d=\"M8918.82 1384.24 L8918.82 1384.24 L8960.46 1384.24 L8960.46 1384.24 L8918.82 1384.24 L8918.82 1384.24  Z\" fill=\"#009af9\" fill-rule=\"evenodd\" fill-opacity=\"1\"/>\n<polyline clip-path=\"url(#clip812)\" style=\"stroke:#000000; stroke-linecap:round; stroke-linejoin:round; stroke-width:4; stroke-opacity:1; fill:none\" points=\"8918.82,1384.24 8918.82,1384.24 8960.46,1384.24 8918.82,1384.24 \"/>\n<path clip-path=\"url(#clip812)\" d=\"M8960.46 1384.24 L8960.46 1384.24 L9002.1 1384.24 L9002.1 1384.24 L8960.46 1384.24 L8960.46 1384.24  Z\" fill=\"#009af9\" fill-rule=\"evenodd\" fill-opacity=\"1\"/>\n<polyline clip-path=\"url(#clip812)\" style=\"stroke:#000000; stroke-linecap:round; stroke-linejoin:round; stroke-width:4; stroke-opacity:1; fill:none\" points=\"8960.46,1384.24 8960.46,1384.24 9002.1,1384.24 8960.46,1384.24 \"/>\n<path clip-path=\"url(#clip812)\" d=\"M9002.1 1384.24 L9002.1 1384.24 L9043.74 1384.24 L9043.74 1384.24 L9002.1 1384.24 L9002.1 1384.24  Z\" fill=\"#009af9\" fill-rule=\"evenodd\" fill-opacity=\"1\"/>\n<polyline clip-path=\"url(#clip812)\" style=\"stroke:#000000; stroke-linecap:round; stroke-linejoin:round; stroke-width:4; stroke-opacity:1; fill:none\" points=\"9002.1,1384.24 9002.1,1384.24 9043.74,1384.24 9002.1,1384.24 \"/>\n<path clip-path=\"url(#clip812)\" d=\"M9043.74 1384.24 L9043.74 1384.24 L9085.39 1384.24 L9085.39 1384.24 L9043.74 1384.24 L9043.74 1384.24  Z\" fill=\"#009af9\" fill-rule=\"evenodd\" fill-opacity=\"1\"/>\n<polyline clip-path=\"url(#clip812)\" style=\"stroke:#000000; stroke-linecap:round; stroke-linejoin:round; stroke-width:4; stroke-opacity:1; fill:none\" points=\"9043.74,1384.24 9043.74,1384.24 9085.39,1384.24 9043.74,1384.24 \"/>\n<path clip-path=\"url(#clip812)\" d=\"M9085.39 1384.24 L9085.39 1384.24 L9127.03 1384.24 L9127.03 1384.24 L9085.39 1384.24 L9085.39 1384.24  Z\" fill=\"#009af9\" fill-rule=\"evenodd\" fill-opacity=\"1\"/>\n<polyline clip-path=\"url(#clip812)\" style=\"stroke:#000000; stroke-linecap:round; stroke-linejoin:round; stroke-width:4; stroke-opacity:1; fill:none\" points=\"9085.39,1384.24 9085.39,1384.24 9127.03,1384.24 9085.39,1384.24 \"/>\n<path clip-path=\"url(#clip812)\" d=\"M9127.03 1167.9 L9127.03 1384.24 L9168.67 1384.24 L9168.67 1167.9 L9127.03 1167.9 L9127.03 1167.9  Z\" fill=\"#009af9\" fill-rule=\"evenodd\" fill-opacity=\"1\"/>\n<polyline clip-path=\"url(#clip812)\" style=\"stroke:#000000; stroke-linecap:round; stroke-linejoin:round; stroke-width:4; stroke-opacity:1; fill:none\" points=\"9127.03,1167.9 9127.03,1384.24 9168.67,1384.24 9168.67,1167.9 9127.03,1167.9 \"/>\n<path clip-path=\"url(#clip812)\" d=\"M9168.67 1384.24 L9168.67 1384.24 L9210.31 1384.24 L9210.31 1384.24 L9168.67 1384.24 L9168.67 1384.24  Z\" fill=\"#009af9\" fill-rule=\"evenodd\" fill-opacity=\"1\"/>\n<polyline clip-path=\"url(#clip812)\" style=\"stroke:#000000; stroke-linecap:round; stroke-linejoin:round; stroke-width:4; stroke-opacity:1; fill:none\" points=\"9168.67,1384.24 9168.67,1384.24 9210.31,1384.24 9168.67,1384.24 \"/>\n<path clip-path=\"url(#clip812)\" d=\"M9210.31 1384.24 L9210.31 1384.24 L9251.96 1384.24 L9251.96 1384.24 L9210.31 1384.24 L9210.31 1384.24  Z\" fill=\"#009af9\" fill-rule=\"evenodd\" fill-opacity=\"1\"/>\n<polyline clip-path=\"url(#clip812)\" style=\"stroke:#000000; stroke-linecap:round; stroke-linejoin:round; stroke-width:4; stroke-opacity:1; fill:none\" points=\"9210.31,1384.24 9210.31,1384.24 9251.96,1384.24 9210.31,1384.24 \"/>\n<path clip-path=\"url(#clip812)\" d=\"M9251.96 1384.24 L9251.96 1384.24 L9293.6 1384.24 L9293.6 1384.24 L9251.96 1384.24 L9251.96 1384.24  Z\" fill=\"#009af9\" fill-rule=\"evenodd\" fill-opacity=\"1\"/>\n<polyline clip-path=\"url(#clip812)\" style=\"stroke:#000000; stroke-linecap:round; stroke-linejoin:round; stroke-width:4; stroke-opacity:1; fill:none\" points=\"9251.96,1384.24 9251.96,1384.24 9293.6,1384.24 9251.96,1384.24 \"/>\n<path clip-path=\"url(#clip812)\" d=\"M9293.6 1384.24 L9293.6 1384.24 L9335.24 1384.24 L9335.24 1384.24 L9293.6 1384.24 L9293.6 1384.24  Z\" fill=\"#009af9\" fill-rule=\"evenodd\" fill-opacity=\"1\"/>\n<polyline clip-path=\"url(#clip812)\" style=\"stroke:#000000; stroke-linecap:round; stroke-linejoin:round; stroke-width:4; stroke-opacity:1; fill:none\" points=\"9293.6,1384.24 9293.6,1384.24 9335.24,1384.24 9293.6,1384.24 \"/>\n<path clip-path=\"url(#clip812)\" d=\"M9335.24 1384.24 L9335.24 1384.24 L9376.88 1384.24 L9376.88 1384.24 L9335.24 1384.24 L9335.24 1384.24  Z\" fill=\"#009af9\" fill-rule=\"evenodd\" fill-opacity=\"1\"/>\n<polyline clip-path=\"url(#clip812)\" style=\"stroke:#000000; stroke-linecap:round; stroke-linejoin:round; stroke-width:4; stroke-opacity:1; fill:none\" points=\"9335.24,1384.24 9335.24,1384.24 9376.88,1384.24 9335.24,1384.24 \"/>\n<path clip-path=\"url(#clip812)\" d=\"M9376.88 1384.24 L9376.88 1384.24 L9418.52 1384.24 L9418.52 1384.24 L9376.88 1384.24 L9376.88 1384.24  Z\" fill=\"#009af9\" fill-rule=\"evenodd\" fill-opacity=\"1\"/>\n<polyline clip-path=\"url(#clip812)\" style=\"stroke:#000000; stroke-linecap:round; stroke-linejoin:round; stroke-width:4; stroke-opacity:1; fill:none\" points=\"9376.88,1384.24 9376.88,1384.24 9418.52,1384.24 9376.88,1384.24 \"/>\n<path clip-path=\"url(#clip812)\" d=\"M9418.52 1384.24 L9418.52 1384.24 L9460.17 1384.24 L9460.17 1384.24 L9418.52 1384.24 L9418.52 1384.24  Z\" fill=\"#009af9\" fill-rule=\"evenodd\" fill-opacity=\"1\"/>\n<polyline clip-path=\"url(#clip812)\" style=\"stroke:#000000; stroke-linecap:round; stroke-linejoin:round; stroke-width:4; stroke-opacity:1; fill:none\" points=\"9418.52,1384.24 9418.52,1384.24 9460.17,1384.24 9418.52,1384.24 \"/>\n<path clip-path=\"url(#clip812)\" d=\"M9460.17 1384.24 L9460.17 1384.24 L9501.81 1384.24 L9501.81 1384.24 L9460.17 1384.24 L9460.17 1384.24  Z\" fill=\"#009af9\" fill-rule=\"evenodd\" fill-opacity=\"1\"/>\n<polyline clip-path=\"url(#clip812)\" style=\"stroke:#000000; stroke-linecap:round; stroke-linejoin:round; stroke-width:4; stroke-opacity:1; fill:none\" points=\"9460.17,1384.24 9460.17,1384.24 9501.81,1384.24 9460.17,1384.24 \"/>\n<path clip-path=\"url(#clip812)\" d=\"M9501.81 1384.24 L9501.81 1384.24 L9543.45 1384.24 L9543.45 1384.24 L9501.81 1384.24 L9501.81 1384.24  Z\" fill=\"#009af9\" fill-rule=\"evenodd\" fill-opacity=\"1\"/>\n<polyline clip-path=\"url(#clip812)\" style=\"stroke:#000000; stroke-linecap:round; stroke-linejoin:round; stroke-width:4; stroke-opacity:1; fill:none\" points=\"9501.81,1384.24 9501.81,1384.24 9543.45,1384.24 9501.81,1384.24 \"/>\n<path clip-path=\"url(#clip812)\" d=\"M9543.45 1384.24 L9543.45 1384.24 L9585.09 1384.24 L9585.09 1384.24 L9543.45 1384.24 L9543.45 1384.24  Z\" fill=\"#009af9\" fill-rule=\"evenodd\" fill-opacity=\"1\"/>\n<polyline clip-path=\"url(#clip812)\" style=\"stroke:#000000; stroke-linecap:round; stroke-linejoin:round; stroke-width:4; stroke-opacity:1; fill:none\" points=\"9543.45,1384.24 9543.45,1384.24 9585.09,1384.24 9543.45,1384.24 \"/>\n<path clip-path=\"url(#clip812)\" d=\"M9585.09 1384.24 L9585.09 1384.24 L9626.74 1384.24 L9626.74 1384.24 L9585.09 1384.24 L9585.09 1384.24  Z\" fill=\"#009af9\" fill-rule=\"evenodd\" fill-opacity=\"1\"/>\n<polyline clip-path=\"url(#clip812)\" style=\"stroke:#000000; stroke-linecap:round; stroke-linejoin:round; stroke-width:4; stroke-opacity:1; fill:none\" points=\"9585.09,1384.24 9585.09,1384.24 9626.74,1384.24 9585.09,1384.24 \"/>\n<path clip-path=\"url(#clip812)\" d=\"M9626.74 1384.24 L9626.74 1384.24 L9668.38 1384.24 L9668.38 1384.24 L9626.74 1384.24 L9626.74 1384.24  Z\" fill=\"#009af9\" fill-rule=\"evenodd\" fill-opacity=\"1\"/>\n<polyline clip-path=\"url(#clip812)\" style=\"stroke:#000000; stroke-linecap:round; stroke-linejoin:round; stroke-width:4; stroke-opacity:1; fill:none\" points=\"9626.74,1384.24 9626.74,1384.24 9668.38,1384.24 9626.74,1384.24 \"/>\n<path clip-path=\"url(#clip812)\" d=\"M9668.38 1167.9 L9668.38 1384.24 L9710.02 1384.24 L9710.02 1167.9 L9668.38 1167.9 L9668.38 1167.9  Z\" fill=\"#009af9\" fill-rule=\"evenodd\" fill-opacity=\"1\"/>\n<polyline clip-path=\"url(#clip812)\" style=\"stroke:#000000; stroke-linecap:round; stroke-linejoin:round; stroke-width:4; stroke-opacity:1; fill:none\" points=\"9668.38,1167.9 9668.38,1384.24 9710.02,1384.24 9710.02,1167.9 9668.38,1167.9 \"/>\n<path clip-path=\"url(#clip812)\" d=\"M9710.02 1384.24 L9710.02 1384.24 L9751.66 1384.24 L9751.66 1384.24 L9710.02 1384.24 L9710.02 1384.24  Z\" fill=\"#009af9\" fill-rule=\"evenodd\" fill-opacity=\"1\"/>\n<polyline clip-path=\"url(#clip812)\" style=\"stroke:#000000; stroke-linecap:round; stroke-linejoin:round; stroke-width:4; stroke-opacity:1; fill:none\" points=\"9710.02,1384.24 9710.02,1384.24 9751.66,1384.24 9710.02,1384.24 \"/>\n<path clip-path=\"url(#clip812)\" d=\"M9751.66 1384.24 L9751.66 1384.24 L9793.31 1384.24 L9793.31 1384.24 L9751.66 1384.24 L9751.66 1384.24  Z\" fill=\"#009af9\" fill-rule=\"evenodd\" fill-opacity=\"1\"/>\n<polyline clip-path=\"url(#clip812)\" style=\"stroke:#000000; stroke-linecap:round; stroke-linejoin:round; stroke-width:4; stroke-opacity:1; fill:none\" points=\"9751.66,1384.24 9751.66,1384.24 9793.31,1384.24 9751.66,1384.24 \"/>\n<path clip-path=\"url(#clip812)\" d=\"M9793.31 1167.9 L9793.31 1384.24 L9834.95 1384.24 L9834.95 1167.9 L9793.31 1167.9 L9793.31 1167.9  Z\" fill=\"#009af9\" fill-rule=\"evenodd\" fill-opacity=\"1\"/>\n<polyline clip-path=\"url(#clip812)\" style=\"stroke:#000000; stroke-linecap:round; stroke-linejoin:round; stroke-width:4; stroke-opacity:1; fill:none\" points=\"9793.31,1167.9 9793.31,1384.24 9834.95,1384.24 9834.95,1167.9 9793.31,1167.9 \"/>\n<path clip-path=\"url(#clip812)\" d=\"M9834.95 1167.9 L9834.95 1384.24 L9876.59 1384.24 L9876.59 1167.9 L9834.95 1167.9 L9834.95 1167.9  Z\" fill=\"#009af9\" fill-rule=\"evenodd\" fill-opacity=\"1\"/>\n<polyline clip-path=\"url(#clip812)\" style=\"stroke:#000000; stroke-linecap:round; stroke-linejoin:round; stroke-width:4; stroke-opacity:1; fill:none\" points=\"9834.95,1167.9 9834.95,1384.24 9876.59,1384.24 9876.59,1167.9 9834.95,1167.9 \"/>\n<path clip-path=\"url(#clip812)\" d=\"M9876.59 1384.24 L9876.59 1384.24 L9918.23 1384.24 L9918.23 1384.24 L9876.59 1384.24 L9876.59 1384.24  Z\" fill=\"#009af9\" fill-rule=\"evenodd\" fill-opacity=\"1\"/>\n<polyline clip-path=\"url(#clip812)\" style=\"stroke:#000000; stroke-linecap:round; stroke-linejoin:round; stroke-width:4; stroke-opacity:1; fill:none\" points=\"9876.59,1384.24 9876.59,1384.24 9918.23,1384.24 9876.59,1384.24 \"/>\n<path clip-path=\"url(#clip812)\" d=\"M9918.23 1384.24 L9918.23 1384.24 L9959.87 1384.24 L9959.87 1384.24 L9918.23 1384.24 L9918.23 1384.24  Z\" fill=\"#009af9\" fill-rule=\"evenodd\" fill-opacity=\"1\"/>\n<polyline clip-path=\"url(#clip812)\" style=\"stroke:#000000; stroke-linecap:round; stroke-linejoin:round; stroke-width:4; stroke-opacity:1; fill:none\" points=\"9918.23,1384.24 9918.23,1384.24 9959.87,1384.24 9918.23,1384.24 \"/>\n<path clip-path=\"url(#clip812)\" d=\"M9959.87 1384.24 L9959.87 1384.24 L10001.5 1384.24 L10001.5 1384.24 L9959.87 1384.24 L9959.87 1384.24  Z\" fill=\"#009af9\" fill-rule=\"evenodd\" fill-opacity=\"1\"/>\n<polyline clip-path=\"url(#clip812)\" style=\"stroke:#000000; stroke-linecap:round; stroke-linejoin:round; stroke-width:4; stroke-opacity:1; fill:none\" points=\"9959.87,1384.24 9959.87,1384.24 10001.5,1384.24 9959.87,1384.24 \"/>\n<path clip-path=\"url(#clip812)\" d=\"M10001.5 1384.24 L10001.5 1384.24 L10043.2 1384.24 L10043.2 1384.24 L10001.5 1384.24 L10001.5 1384.24  Z\" fill=\"#009af9\" fill-rule=\"evenodd\" fill-opacity=\"1\"/>\n<polyline clip-path=\"url(#clip812)\" style=\"stroke:#000000; stroke-linecap:round; stroke-linejoin:round; stroke-width:4; stroke-opacity:1; fill:none\" points=\"10001.5,1384.24 10001.5,1384.24 10043.2,1384.24 10001.5,1384.24 \"/>\n<path clip-path=\"url(#clip812)\" d=\"M10043.2 1384.24 L10043.2 1384.24 L10084.8 1384.24 L10084.8 1384.24 L10043.2 1384.24 L10043.2 1384.24  Z\" fill=\"#009af9\" fill-rule=\"evenodd\" fill-opacity=\"1\"/>\n<polyline clip-path=\"url(#clip812)\" style=\"stroke:#000000; stroke-linecap:round; stroke-linejoin:round; stroke-width:4; stroke-opacity:1; fill:none\" points=\"10043.2,1384.24 10043.2,1384.24 10084.8,1384.24 10043.2,1384.24 \"/>\n<path clip-path=\"url(#clip812)\" d=\"M10084.8 1384.24 L10084.8 1384.24 L10126.4 1384.24 L10126.4 1384.24 L10084.8 1384.24 L10084.8 1384.24  Z\" fill=\"#009af9\" fill-rule=\"evenodd\" fill-opacity=\"1\"/>\n<polyline clip-path=\"url(#clip812)\" style=\"stroke:#000000; stroke-linecap:round; stroke-linejoin:round; stroke-width:4; stroke-opacity:1; fill:none\" points=\"10084.8,1384.24 10084.8,1384.24 10126.4,1384.24 10084.8,1384.24 \"/>\n<path clip-path=\"url(#clip812)\" d=\"M10126.4 1384.24 L10126.4 1384.24 L10168.1 1384.24 L10168.1 1384.24 L10126.4 1384.24 L10126.4 1384.24  Z\" fill=\"#009af9\" fill-rule=\"evenodd\" fill-opacity=\"1\"/>\n<polyline clip-path=\"url(#clip812)\" style=\"stroke:#000000; stroke-linecap:round; stroke-linejoin:round; stroke-width:4; stroke-opacity:1; fill:none\" points=\"10126.4,1384.24 10126.4,1384.24 10168.1,1384.24 10126.4,1384.24 \"/>\n<path clip-path=\"url(#clip812)\" d=\"M10168.1 1384.24 L10168.1 1384.24 L10209.7 1384.24 L10209.7 1384.24 L10168.1 1384.24 L10168.1 1384.24  Z\" fill=\"#009af9\" fill-rule=\"evenodd\" fill-opacity=\"1\"/>\n<polyline clip-path=\"url(#clip812)\" style=\"stroke:#000000; stroke-linecap:round; stroke-linejoin:round; stroke-width:4; stroke-opacity:1; fill:none\" points=\"10168.1,1384.24 10168.1,1384.24 10209.7,1384.24 10168.1,1384.24 \"/>\n<path clip-path=\"url(#clip812)\" d=\"M10209.7 1384.24 L10209.7 1384.24 L10251.4 1384.24 L10251.4 1384.24 L10209.7 1384.24 L10209.7 1384.24  Z\" fill=\"#009af9\" fill-rule=\"evenodd\" fill-opacity=\"1\"/>\n<polyline clip-path=\"url(#clip812)\" style=\"stroke:#000000; stroke-linecap:round; stroke-linejoin:round; stroke-width:4; stroke-opacity:1; fill:none\" points=\"10209.7,1384.24 10209.7,1384.24 10251.4,1384.24 10209.7,1384.24 \"/>\n<path clip-path=\"url(#clip812)\" d=\"M10251.4 1384.24 L10251.4 1384.24 L10293 1384.24 L10293 1384.24 L10251.4 1384.24 L10251.4 1384.24  Z\" fill=\"#009af9\" fill-rule=\"evenodd\" fill-opacity=\"1\"/>\n<polyline clip-path=\"url(#clip812)\" style=\"stroke:#000000; stroke-linecap:round; stroke-linejoin:round; stroke-width:4; stroke-opacity:1; fill:none\" points=\"10251.4,1384.24 10251.4,1384.24 10293,1384.24 10251.4,1384.24 \"/>\n<path clip-path=\"url(#clip812)\" d=\"M10293 1384.24 L10293 1384.24 L10334.7 1384.24 L10334.7 1384.24 L10293 1384.24 L10293 1384.24  Z\" fill=\"#009af9\" fill-rule=\"evenodd\" fill-opacity=\"1\"/>\n<polyline clip-path=\"url(#clip812)\" style=\"stroke:#000000; stroke-linecap:round; stroke-linejoin:round; stroke-width:4; stroke-opacity:1; fill:none\" points=\"10293,1384.24 10293,1384.24 10334.7,1384.24 10293,1384.24 \"/>\n<path clip-path=\"url(#clip812)\" d=\"M10334.7 1384.24 L10334.7 1384.24 L10376.3 1384.24 L10376.3 1384.24 L10334.7 1384.24 L10334.7 1384.24  Z\" fill=\"#009af9\" fill-rule=\"evenodd\" fill-opacity=\"1\"/>\n<polyline clip-path=\"url(#clip812)\" style=\"stroke:#000000; stroke-linecap:round; stroke-linejoin:round; stroke-width:4; stroke-opacity:1; fill:none\" points=\"10334.7,1384.24 10334.7,1384.24 10376.3,1384.24 10334.7,1384.24 \"/>\n<path clip-path=\"url(#clip812)\" d=\"M10376.3 1384.24 L10376.3 1384.24 L10417.9 1384.24 L10417.9 1384.24 L10376.3 1384.24 L10376.3 1384.24  Z\" fill=\"#009af9\" fill-rule=\"evenodd\" fill-opacity=\"1\"/>\n<polyline clip-path=\"url(#clip812)\" style=\"stroke:#000000; stroke-linecap:round; stroke-linejoin:round; stroke-width:4; stroke-opacity:1; fill:none\" points=\"10376.3,1384.24 10376.3,1384.24 10417.9,1384.24 10376.3,1384.24 \"/>\n<path clip-path=\"url(#clip812)\" d=\"M10417.9 1384.24 L10417.9 1384.24 L10459.6 1384.24 L10459.6 1384.24 L10417.9 1384.24 L10417.9 1384.24  Z\" fill=\"#009af9\" fill-rule=\"evenodd\" fill-opacity=\"1\"/>\n<polyline clip-path=\"url(#clip812)\" style=\"stroke:#000000; stroke-linecap:round; stroke-linejoin:round; stroke-width:4; stroke-opacity:1; fill:none\" points=\"10417.9,1384.24 10417.9,1384.24 10459.6,1384.24 10417.9,1384.24 \"/>\n<path clip-path=\"url(#clip812)\" d=\"M10459.6 1384.24 L10459.6 1384.24 L10501.2 1384.24 L10501.2 1384.24 L10459.6 1384.24 L10459.6 1384.24  Z\" fill=\"#009af9\" fill-rule=\"evenodd\" fill-opacity=\"1\"/>\n<polyline clip-path=\"url(#clip812)\" style=\"stroke:#000000; stroke-linecap:round; stroke-linejoin:round; stroke-width:4; stroke-opacity:1; fill:none\" points=\"10459.6,1384.24 10459.6,1384.24 10501.2,1384.24 10459.6,1384.24 \"/>\n<path clip-path=\"url(#clip812)\" d=\"M10501.2 1384.24 L10501.2 1384.24 L10542.9 1384.24 L10542.9 1384.24 L10501.2 1384.24 L10501.2 1384.24  Z\" fill=\"#009af9\" fill-rule=\"evenodd\" fill-opacity=\"1\"/>\n<polyline clip-path=\"url(#clip812)\" style=\"stroke:#000000; stroke-linecap:round; stroke-linejoin:round; stroke-width:4; stroke-opacity:1; fill:none\" points=\"10501.2,1384.24 10501.2,1384.24 10542.9,1384.24 10501.2,1384.24 \"/>\n<path clip-path=\"url(#clip812)\" d=\"M10542.9 1384.24 L10542.9 1384.24 L10584.5 1384.24 L10584.5 1384.24 L10542.9 1384.24 L10542.9 1384.24  Z\" fill=\"#009af9\" fill-rule=\"evenodd\" fill-opacity=\"1\"/>\n<polyline clip-path=\"url(#clip812)\" style=\"stroke:#000000; stroke-linecap:round; stroke-linejoin:round; stroke-width:4; stroke-opacity:1; fill:none\" points=\"10542.9,1384.24 10542.9,1384.24 10584.5,1384.24 10542.9,1384.24 \"/>\n<path clip-path=\"url(#clip812)\" d=\"M10584.5 1384.24 L10584.5 1384.24 L10626.2 1384.24 L10626.2 1384.24 L10584.5 1384.24 L10584.5 1384.24  Z\" fill=\"#009af9\" fill-rule=\"evenodd\" fill-opacity=\"1\"/>\n<polyline clip-path=\"url(#clip812)\" style=\"stroke:#000000; stroke-linecap:round; stroke-linejoin:round; stroke-width:4; stroke-opacity:1; fill:none\" points=\"10584.5,1384.24 10584.5,1384.24 10626.2,1384.24 10584.5,1384.24 \"/>\n<path clip-path=\"url(#clip812)\" d=\"M10626.2 1384.24 L10626.2 1384.24 L10667.8 1384.24 L10667.8 1384.24 L10626.2 1384.24 L10626.2 1384.24  Z\" fill=\"#009af9\" fill-rule=\"evenodd\" fill-opacity=\"1\"/>\n<polyline clip-path=\"url(#clip812)\" style=\"stroke:#000000; stroke-linecap:round; stroke-linejoin:round; stroke-width:4; stroke-opacity:1; fill:none\" points=\"10626.2,1384.24 10626.2,1384.24 10667.8,1384.24 10626.2,1384.24 \"/>\n<path clip-path=\"url(#clip812)\" d=\"M10667.8 1384.24 L10667.8 1384.24 L10709.4 1384.24 L10709.4 1384.24 L10667.8 1384.24 L10667.8 1384.24  Z\" fill=\"#009af9\" fill-rule=\"evenodd\" fill-opacity=\"1\"/>\n<polyline clip-path=\"url(#clip812)\" style=\"stroke:#000000; stroke-linecap:round; stroke-linejoin:round; stroke-width:4; stroke-opacity:1; fill:none\" points=\"10667.8,1384.24 10667.8,1384.24 10709.4,1384.24 10667.8,1384.24 \"/>\n<path clip-path=\"url(#clip812)\" d=\"M10709.4 1384.24 L10709.4 1384.24 L10751.1 1384.24 L10751.1 1384.24 L10709.4 1384.24 L10709.4 1384.24  Z\" fill=\"#009af9\" fill-rule=\"evenodd\" fill-opacity=\"1\"/>\n<polyline clip-path=\"url(#clip812)\" style=\"stroke:#000000; stroke-linecap:round; stroke-linejoin:round; stroke-width:4; stroke-opacity:1; fill:none\" points=\"10709.4,1384.24 10709.4,1384.24 10751.1,1384.24 10709.4,1384.24 \"/>\n<path clip-path=\"url(#clip812)\" d=\"M10751.1 1384.24 L10751.1 1384.24 L10792.7 1384.24 L10792.7 1384.24 L10751.1 1384.24 L10751.1 1384.24  Z\" fill=\"#009af9\" fill-rule=\"evenodd\" fill-opacity=\"1\"/>\n<polyline clip-path=\"url(#clip812)\" style=\"stroke:#000000; stroke-linecap:round; stroke-linejoin:round; stroke-width:4; stroke-opacity:1; fill:none\" points=\"10751.1,1384.24 10751.1,1384.24 10792.7,1384.24 10751.1,1384.24 \"/>\n<path clip-path=\"url(#clip812)\" d=\"M10792.7 1384.24 L10792.7 1384.24 L10834.4 1384.24 L10834.4 1384.24 L10792.7 1384.24 L10792.7 1384.24  Z\" fill=\"#009af9\" fill-rule=\"evenodd\" fill-opacity=\"1\"/>\n<polyline clip-path=\"url(#clip812)\" style=\"stroke:#000000; stroke-linecap:round; stroke-linejoin:round; stroke-width:4; stroke-opacity:1; fill:none\" points=\"10792.7,1384.24 10792.7,1384.24 10834.4,1384.24 10792.7,1384.24 \"/>\n<path clip-path=\"url(#clip812)\" d=\"M10834.4 1384.24 L10834.4 1384.24 L10876 1384.24 L10876 1384.24 L10834.4 1384.24 L10834.4 1384.24  Z\" fill=\"#009af9\" fill-rule=\"evenodd\" fill-opacity=\"1\"/>\n<polyline clip-path=\"url(#clip812)\" style=\"stroke:#000000; stroke-linecap:round; stroke-linejoin:round; stroke-width:4; stroke-opacity:1; fill:none\" points=\"10834.4,1384.24 10834.4,1384.24 10876,1384.24 10834.4,1384.24 \"/>\n<path clip-path=\"url(#clip812)\" d=\"M10876 1384.24 L10876 1384.24 L10917.6 1384.24 L10917.6 1384.24 L10876 1384.24 L10876 1384.24  Z\" fill=\"#009af9\" fill-rule=\"evenodd\" fill-opacity=\"1\"/>\n<polyline clip-path=\"url(#clip812)\" style=\"stroke:#000000; stroke-linecap:round; stroke-linejoin:round; stroke-width:4; stroke-opacity:1; fill:none\" points=\"10876,1384.24 10876,1384.24 10917.6,1384.24 10876,1384.24 \"/>\n<path clip-path=\"url(#clip812)\" d=\"M10917.6 1384.24 L10917.6 1384.24 L10959.3 1384.24 L10959.3 1384.24 L10917.6 1384.24 L10917.6 1384.24  Z\" fill=\"#009af9\" fill-rule=\"evenodd\" fill-opacity=\"1\"/>\n<polyline clip-path=\"url(#clip812)\" style=\"stroke:#000000; stroke-linecap:round; stroke-linejoin:round; stroke-width:4; stroke-opacity:1; fill:none\" points=\"10917.6,1384.24 10917.6,1384.24 10959.3,1384.24 10917.6,1384.24 \"/>\n<path clip-path=\"url(#clip812)\" d=\"M10959.3 1384.24 L10959.3 1384.24 L11000.9 1384.24 L11000.9 1384.24 L10959.3 1384.24 L10959.3 1384.24  Z\" fill=\"#009af9\" fill-rule=\"evenodd\" fill-opacity=\"1\"/>\n<polyline clip-path=\"url(#clip812)\" style=\"stroke:#000000; stroke-linecap:round; stroke-linejoin:round; stroke-width:4; stroke-opacity:1; fill:none\" points=\"10959.3,1384.24 10959.3,1384.24 11000.9,1384.24 10959.3,1384.24 \"/>\n<path clip-path=\"url(#clip812)\" d=\"M11000.9 1384.24 L11000.9 1384.24 L11042.6 1384.24 L11042.6 1384.24 L11000.9 1384.24 L11000.9 1384.24  Z\" fill=\"#009af9\" fill-rule=\"evenodd\" fill-opacity=\"1\"/>\n<polyline clip-path=\"url(#clip812)\" style=\"stroke:#000000; stroke-linecap:round; stroke-linejoin:round; stroke-width:4; stroke-opacity:1; fill:none\" points=\"11000.9,1384.24 11000.9,1384.24 11042.6,1384.24 11000.9,1384.24 \"/>\n<path clip-path=\"url(#clip812)\" d=\"M11042.6 1384.24 L11042.6 1384.24 L11084.2 1384.24 L11084.2 1384.24 L11042.6 1384.24 L11042.6 1384.24  Z\" fill=\"#009af9\" fill-rule=\"evenodd\" fill-opacity=\"1\"/>\n<polyline clip-path=\"url(#clip812)\" style=\"stroke:#000000; stroke-linecap:round; stroke-linejoin:round; stroke-width:4; stroke-opacity:1; fill:none\" points=\"11042.6,1384.24 11042.6,1384.24 11084.2,1384.24 11042.6,1384.24 \"/>\n<path clip-path=\"url(#clip812)\" d=\"M11084.2 1384.24 L11084.2 1384.24 L11125.9 1384.24 L11125.9 1384.24 L11084.2 1384.24 L11084.2 1384.24  Z\" fill=\"#009af9\" fill-rule=\"evenodd\" fill-opacity=\"1\"/>\n<polyline clip-path=\"url(#clip812)\" style=\"stroke:#000000; stroke-linecap:round; stroke-linejoin:round; stroke-width:4; stroke-opacity:1; fill:none\" points=\"11084.2,1384.24 11084.2,1384.24 11125.9,1384.24 11084.2,1384.24 \"/>\n<path clip-path=\"url(#clip812)\" d=\"M11125.9 1384.24 L11125.9 1384.24 L11167.5 1384.24 L11167.5 1384.24 L11125.9 1384.24 L11125.9 1384.24  Z\" fill=\"#009af9\" fill-rule=\"evenodd\" fill-opacity=\"1\"/>\n<polyline clip-path=\"url(#clip812)\" style=\"stroke:#000000; stroke-linecap:round; stroke-linejoin:round; stroke-width:4; stroke-opacity:1; fill:none\" points=\"11125.9,1384.24 11125.9,1384.24 11167.5,1384.24 11125.9,1384.24 \"/>\n<path clip-path=\"url(#clip812)\" d=\"M11167.5 1384.24 L11167.5 1384.24 L11209.1 1384.24 L11209.1 1384.24 L11167.5 1384.24 L11167.5 1384.24  Z\" fill=\"#009af9\" fill-rule=\"evenodd\" fill-opacity=\"1\"/>\n<polyline clip-path=\"url(#clip812)\" style=\"stroke:#000000; stroke-linecap:round; stroke-linejoin:round; stroke-width:4; stroke-opacity:1; fill:none\" points=\"11167.5,1384.24 11167.5,1384.24 11209.1,1384.24 11167.5,1384.24 \"/>\n<path clip-path=\"url(#clip812)\" d=\"M11209.1 1384.24 L11209.1 1384.24 L11250.8 1384.24 L11250.8 1384.24 L11209.1 1384.24 L11209.1 1384.24  Z\" fill=\"#009af9\" fill-rule=\"evenodd\" fill-opacity=\"1\"/>\n<polyline clip-path=\"url(#clip812)\" style=\"stroke:#000000; stroke-linecap:round; stroke-linejoin:round; stroke-width:4; stroke-opacity:1; fill:none\" points=\"11209.1,1384.24 11209.1,1384.24 11250.8,1384.24 11209.1,1384.24 \"/>\n<path clip-path=\"url(#clip812)\" d=\"M11250.8 1384.24 L11250.8 1384.24 L11292.4 1384.24 L11292.4 1384.24 L11250.8 1384.24 L11250.8 1384.24  Z\" fill=\"#009af9\" fill-rule=\"evenodd\" fill-opacity=\"1\"/>\n<polyline clip-path=\"url(#clip812)\" style=\"stroke:#000000; stroke-linecap:round; stroke-linejoin:round; stroke-width:4; stroke-opacity:1; fill:none\" points=\"11250.8,1384.24 11250.8,1384.24 11292.4,1384.24 11250.8,1384.24 \"/>\n<path clip-path=\"url(#clip812)\" d=\"M11292.4 1384.24 L11292.4 1384.24 L11334.1 1384.24 L11334.1 1384.24 L11292.4 1384.24 L11292.4 1384.24  Z\" fill=\"#009af9\" fill-rule=\"evenodd\" fill-opacity=\"1\"/>\n<polyline clip-path=\"url(#clip812)\" style=\"stroke:#000000; stroke-linecap:round; stroke-linejoin:round; stroke-width:4; stroke-opacity:1; fill:none\" points=\"11292.4,1384.24 11292.4,1384.24 11334.1,1384.24 11292.4,1384.24 \"/>\n<path clip-path=\"url(#clip812)\" d=\"M11334.1 1384.24 L11334.1 1384.24 L11375.7 1384.24 L11375.7 1384.24 L11334.1 1384.24 L11334.1 1384.24  Z\" fill=\"#009af9\" fill-rule=\"evenodd\" fill-opacity=\"1\"/>\n<polyline clip-path=\"url(#clip812)\" style=\"stroke:#000000; stroke-linecap:round; stroke-linejoin:round; stroke-width:4; stroke-opacity:1; fill:none\" points=\"11334.1,1384.24 11334.1,1384.24 11375.7,1384.24 11334.1,1384.24 \"/>\n<path clip-path=\"url(#clip812)\" d=\"M11375.7 1384.24 L11375.7 1384.24 L11417.4 1384.24 L11417.4 1384.24 L11375.7 1384.24 L11375.7 1384.24  Z\" fill=\"#009af9\" fill-rule=\"evenodd\" fill-opacity=\"1\"/>\n<polyline clip-path=\"url(#clip812)\" style=\"stroke:#000000; stroke-linecap:round; stroke-linejoin:round; stroke-width:4; stroke-opacity:1; fill:none\" points=\"11375.7,1384.24 11375.7,1384.24 11417.4,1384.24 11375.7,1384.24 \"/>\n<path clip-path=\"url(#clip812)\" d=\"M11417.4 1384.24 L11417.4 1384.24 L11459 1384.24 L11459 1384.24 L11417.4 1384.24 L11417.4 1384.24  Z\" fill=\"#009af9\" fill-rule=\"evenodd\" fill-opacity=\"1\"/>\n<polyline clip-path=\"url(#clip812)\" style=\"stroke:#000000; stroke-linecap:round; stroke-linejoin:round; stroke-width:4; stroke-opacity:1; fill:none\" points=\"11417.4,1384.24 11417.4,1384.24 11459,1384.24 11417.4,1384.24 \"/>\n<path clip-path=\"url(#clip812)\" d=\"M11459 1384.24 L11459 1384.24 L11500.6 1384.24 L11500.6 1384.24 L11459 1384.24 L11459 1384.24  Z\" fill=\"#009af9\" fill-rule=\"evenodd\" fill-opacity=\"1\"/>\n<polyline clip-path=\"url(#clip812)\" style=\"stroke:#000000; stroke-linecap:round; stroke-linejoin:round; stroke-width:4; stroke-opacity:1; fill:none\" points=\"11459,1384.24 11459,1384.24 11500.6,1384.24 11459,1384.24 \"/>\n<path clip-path=\"url(#clip812)\" d=\"M11500.6 1384.24 L11500.6 1384.24 L11542.3 1384.24 L11542.3 1384.24 L11500.6 1384.24 L11500.6 1384.24  Z\" fill=\"#009af9\" fill-rule=\"evenodd\" fill-opacity=\"1\"/>\n<polyline clip-path=\"url(#clip812)\" style=\"stroke:#000000; stroke-linecap:round; stroke-linejoin:round; stroke-width:4; stroke-opacity:1; fill:none\" points=\"11500.6,1384.24 11500.6,1384.24 11542.3,1384.24 11500.6,1384.24 \"/>\n<path clip-path=\"url(#clip812)\" d=\"M11542.3 1384.24 L11542.3 1384.24 L11583.9 1384.24 L11583.9 1384.24 L11542.3 1384.24 L11542.3 1384.24  Z\" fill=\"#009af9\" fill-rule=\"evenodd\" fill-opacity=\"1\"/>\n<polyline clip-path=\"url(#clip812)\" style=\"stroke:#000000; stroke-linecap:round; stroke-linejoin:round; stroke-width:4; stroke-opacity:1; fill:none\" points=\"11542.3,1384.24 11542.3,1384.24 11583.9,1384.24 11542.3,1384.24 \"/>\n<path clip-path=\"url(#clip812)\" d=\"M11583.9 1384.24 L11583.9 1384.24 L11625.6 1384.24 L11625.6 1384.24 L11583.9 1384.24 L11583.9 1384.24  Z\" fill=\"#009af9\" fill-rule=\"evenodd\" fill-opacity=\"1\"/>\n<polyline clip-path=\"url(#clip812)\" style=\"stroke:#000000; stroke-linecap:round; stroke-linejoin:round; stroke-width:4; stroke-opacity:1; fill:none\" points=\"11583.9,1384.24 11583.9,1384.24 11625.6,1384.24 11583.9,1384.24 \"/>\n<path clip-path=\"url(#clip812)\" d=\"M11625.6 1384.24 L11625.6 1384.24 L11667.2 1384.24 L11667.2 1384.24 L11625.6 1384.24 L11625.6 1384.24  Z\" fill=\"#009af9\" fill-rule=\"evenodd\" fill-opacity=\"1\"/>\n<polyline clip-path=\"url(#clip812)\" style=\"stroke:#000000; stroke-linecap:round; stroke-linejoin:round; stroke-width:4; stroke-opacity:1; fill:none\" points=\"11625.6,1384.24 11625.6,1384.24 11667.2,1384.24 11625.6,1384.24 \"/>\n<path clip-path=\"url(#clip812)\" d=\"M11667.2 1384.24 L11667.2 1384.24 L11708.9 1384.24 L11708.9 1384.24 L11667.2 1384.24 L11667.2 1384.24  Z\" fill=\"#009af9\" fill-rule=\"evenodd\" fill-opacity=\"1\"/>\n<polyline clip-path=\"url(#clip812)\" style=\"stroke:#000000; stroke-linecap:round; stroke-linejoin:round; stroke-width:4; stroke-opacity:1; fill:none\" points=\"11667.2,1384.24 11667.2,1384.24 11708.9,1384.24 11667.2,1384.24 \"/>\n<path clip-path=\"url(#clip812)\" d=\"M11708.9 1384.24 L11708.9 1384.24 L11750.5 1384.24 L11750.5 1384.24 L11708.9 1384.24 L11708.9 1384.24  Z\" fill=\"#009af9\" fill-rule=\"evenodd\" fill-opacity=\"1\"/>\n<polyline clip-path=\"url(#clip812)\" style=\"stroke:#000000; stroke-linecap:round; stroke-linejoin:round; stroke-width:4; stroke-opacity:1; fill:none\" points=\"11708.9,1384.24 11708.9,1384.24 11750.5,1384.24 11708.9,1384.24 \"/>\n<path clip-path=\"url(#clip812)\" d=\"M11750.5 1384.24 L11750.5 1384.24 L11792.1 1384.24 L11792.1 1384.24 L11750.5 1384.24 L11750.5 1384.24  Z\" fill=\"#009af9\" fill-rule=\"evenodd\" fill-opacity=\"1\"/>\n<polyline clip-path=\"url(#clip812)\" style=\"stroke:#000000; stroke-linecap:round; stroke-linejoin:round; stroke-width:4; stroke-opacity:1; fill:none\" points=\"11750.5,1384.24 11750.5,1384.24 11792.1,1384.24 11750.5,1384.24 \"/>\n<path clip-path=\"url(#clip812)\" d=\"M11792.1 1384.24 L11792.1 1384.24 L11833.8 1384.24 L11833.8 1384.24 L11792.1 1384.24 L11792.1 1384.24  Z\" fill=\"#009af9\" fill-rule=\"evenodd\" fill-opacity=\"1\"/>\n<polyline clip-path=\"url(#clip812)\" style=\"stroke:#000000; stroke-linecap:round; stroke-linejoin:round; stroke-width:4; stroke-opacity:1; fill:none\" points=\"11792.1,1384.24 11792.1,1384.24 11833.8,1384.24 11792.1,1384.24 \"/>\n<path clip-path=\"url(#clip812)\" d=\"M11833.8 1384.24 L11833.8 1384.24 L11875.4 1384.24 L11875.4 1384.24 L11833.8 1384.24 L11833.8 1384.24  Z\" fill=\"#009af9\" fill-rule=\"evenodd\" fill-opacity=\"1\"/>\n<polyline clip-path=\"url(#clip812)\" style=\"stroke:#000000; stroke-linecap:round; stroke-linejoin:round; stroke-width:4; stroke-opacity:1; fill:none\" points=\"11833.8,1384.24 11833.8,1384.24 11875.4,1384.24 11833.8,1384.24 \"/>\n<path clip-path=\"url(#clip812)\" d=\"M11875.4 1384.24 L11875.4 1384.24 L11917.1 1384.24 L11917.1 1384.24 L11875.4 1384.24 L11875.4 1384.24  Z\" fill=\"#009af9\" fill-rule=\"evenodd\" fill-opacity=\"1\"/>\n<polyline clip-path=\"url(#clip812)\" style=\"stroke:#000000; stroke-linecap:round; stroke-linejoin:round; stroke-width:4; stroke-opacity:1; fill:none\" points=\"11875.4,1384.24 11875.4,1384.24 11917.1,1384.24 11875.4,1384.24 \"/>\n<path clip-path=\"url(#clip812)\" d=\"M11917.1 1384.24 L11917.1 1384.24 L11958.7 1384.24 L11958.7 1384.24 L11917.1 1384.24 L11917.1 1384.24  Z\" fill=\"#009af9\" fill-rule=\"evenodd\" fill-opacity=\"1\"/>\n<polyline clip-path=\"url(#clip812)\" style=\"stroke:#000000; stroke-linecap:round; stroke-linejoin:round; stroke-width:4; stroke-opacity:1; fill:none\" points=\"11917.1,1384.24 11917.1,1384.24 11958.7,1384.24 11917.1,1384.24 \"/>\n<path clip-path=\"url(#clip812)\" d=\"M11958.7 1384.24 L11958.7 1384.24 L12000.3 1384.24 L12000.3 1384.24 L11958.7 1384.24 L11958.7 1384.24  Z\" fill=\"#009af9\" fill-rule=\"evenodd\" fill-opacity=\"1\"/>\n<polyline clip-path=\"url(#clip812)\" style=\"stroke:#000000; stroke-linecap:round; stroke-linejoin:round; stroke-width:4; stroke-opacity:1; fill:none\" points=\"11958.7,1384.24 11958.7,1384.24 12000.3,1384.24 11958.7,1384.24 \"/>\n<path clip-path=\"url(#clip812)\" d=\"M12000.3 1384.24 L12000.3 1384.24 L12042 1384.24 L12042 1384.24 L12000.3 1384.24 L12000.3 1384.24  Z\" fill=\"#009af9\" fill-rule=\"evenodd\" fill-opacity=\"1\"/>\n<polyline clip-path=\"url(#clip812)\" style=\"stroke:#000000; stroke-linecap:round; stroke-linejoin:round; stroke-width:4; stroke-opacity:1; fill:none\" points=\"12000.3,1384.24 12000.3,1384.24 12042,1384.24 12000.3,1384.24 \"/>\n<path clip-path=\"url(#clip812)\" d=\"M12042 1384.24 L12042 1384.24 L12083.6 1384.24 L12083.6 1384.24 L12042 1384.24 L12042 1384.24  Z\" fill=\"#009af9\" fill-rule=\"evenodd\" fill-opacity=\"1\"/>\n<polyline clip-path=\"url(#clip812)\" style=\"stroke:#000000; stroke-linecap:round; stroke-linejoin:round; stroke-width:4; stroke-opacity:1; fill:none\" points=\"12042,1384.24 12042,1384.24 12083.6,1384.24 12042,1384.24 \"/>\n<path clip-path=\"url(#clip812)\" d=\"M12083.6 1384.24 L12083.6 1384.24 L12125.3 1384.24 L12125.3 1384.24 L12083.6 1384.24 L12083.6 1384.24  Z\" fill=\"#009af9\" fill-rule=\"evenodd\" fill-opacity=\"1\"/>\n<polyline clip-path=\"url(#clip812)\" style=\"stroke:#000000; stroke-linecap:round; stroke-linejoin:round; stroke-width:4; stroke-opacity:1; fill:none\" points=\"12083.6,1384.24 12083.6,1384.24 12125.3,1384.24 12083.6,1384.24 \"/>\n<path clip-path=\"url(#clip812)\" d=\"M12125.3 1384.24 L12125.3 1384.24 L12166.9 1384.24 L12166.9 1384.24 L12125.3 1384.24 L12125.3 1384.24  Z\" fill=\"#009af9\" fill-rule=\"evenodd\" fill-opacity=\"1\"/>\n<polyline clip-path=\"url(#clip812)\" style=\"stroke:#000000; stroke-linecap:round; stroke-linejoin:round; stroke-width:4; stroke-opacity:1; fill:none\" points=\"12125.3,1384.24 12125.3,1384.24 12166.9,1384.24 12125.3,1384.24 \"/>\n<path clip-path=\"url(#clip812)\" d=\"M12166.9 1384.24 L12166.9 1384.24 L12208.6 1384.24 L12208.6 1384.24 L12166.9 1384.24 L12166.9 1384.24  Z\" fill=\"#009af9\" fill-rule=\"evenodd\" fill-opacity=\"1\"/>\n<polyline clip-path=\"url(#clip812)\" style=\"stroke:#000000; stroke-linecap:round; stroke-linejoin:round; stroke-width:4; stroke-opacity:1; fill:none\" points=\"12166.9,1384.24 12166.9,1384.24 12208.6,1384.24 12166.9,1384.24 \"/>\n<path clip-path=\"url(#clip812)\" d=\"M12208.6 1384.24 L12208.6 1384.24 L12250.2 1384.24 L12250.2 1384.24 L12208.6 1384.24 L12208.6 1384.24  Z\" fill=\"#009af9\" fill-rule=\"evenodd\" fill-opacity=\"1\"/>\n<polyline clip-path=\"url(#clip812)\" style=\"stroke:#000000; stroke-linecap:round; stroke-linejoin:round; stroke-width:4; stroke-opacity:1; fill:none\" points=\"12208.6,1384.24 12208.6,1384.24 12250.2,1384.24 12208.6,1384.24 \"/>\n<path clip-path=\"url(#clip812)\" d=\"M12250.2 1384.24 L12250.2 1384.24 L12291.8 1384.24 L12291.8 1384.24 L12250.2 1384.24 L12250.2 1384.24  Z\" fill=\"#009af9\" fill-rule=\"evenodd\" fill-opacity=\"1\"/>\n<polyline clip-path=\"url(#clip812)\" style=\"stroke:#000000; stroke-linecap:round; stroke-linejoin:round; stroke-width:4; stroke-opacity:1; fill:none\" points=\"12250.2,1384.24 12250.2,1384.24 12291.8,1384.24 12250.2,1384.24 \"/>\n<path clip-path=\"url(#clip812)\" d=\"M12291.8 1384.24 L12291.8 1384.24 L12333.5 1384.24 L12333.5 1384.24 L12291.8 1384.24 L12291.8 1384.24  Z\" fill=\"#009af9\" fill-rule=\"evenodd\" fill-opacity=\"1\"/>\n<polyline clip-path=\"url(#clip812)\" style=\"stroke:#000000; stroke-linecap:round; stroke-linejoin:round; stroke-width:4; stroke-opacity:1; fill:none\" points=\"12291.8,1384.24 12291.8,1384.24 12333.5,1384.24 12291.8,1384.24 \"/>\n<path clip-path=\"url(#clip812)\" d=\"M12333.5 1384.24 L12333.5 1384.24 L12375.1 1384.24 L12375.1 1384.24 L12333.5 1384.24 L12333.5 1384.24  Z\" fill=\"#009af9\" fill-rule=\"evenodd\" fill-opacity=\"1\"/>\n<polyline clip-path=\"url(#clip812)\" style=\"stroke:#000000; stroke-linecap:round; stroke-linejoin:round; stroke-width:4; stroke-opacity:1; fill:none\" points=\"12333.5,1384.24 12333.5,1384.24 12375.1,1384.24 12333.5,1384.24 \"/>\n<path clip-path=\"url(#clip812)\" d=\"M12375.1 1384.24 L12375.1 1384.24 L12416.8 1384.24 L12416.8 1384.24 L12375.1 1384.24 L12375.1 1384.24  Z\" fill=\"#009af9\" fill-rule=\"evenodd\" fill-opacity=\"1\"/>\n<polyline clip-path=\"url(#clip812)\" style=\"stroke:#000000; stroke-linecap:round; stroke-linejoin:round; stroke-width:4; stroke-opacity:1; fill:none\" points=\"12375.1,1384.24 12375.1,1384.24 12416.8,1384.24 12375.1,1384.24 \"/>\n<path clip-path=\"url(#clip812)\" d=\"M12416.8 1384.24 L12416.8 1384.24 L12458.4 1384.24 L12458.4 1384.24 L12416.8 1384.24 L12416.8 1384.24  Z\" fill=\"#009af9\" fill-rule=\"evenodd\" fill-opacity=\"1\"/>\n<polyline clip-path=\"url(#clip812)\" style=\"stroke:#000000; stroke-linecap:round; stroke-linejoin:round; stroke-width:4; stroke-opacity:1; fill:none\" points=\"12416.8,1384.24 12416.8,1384.24 12458.4,1384.24 12416.8,1384.24 \"/>\n<path clip-path=\"url(#clip812)\" d=\"M12458.4 1384.24 L12458.4 1384.24 L12500.1 1384.24 L12500.1 1384.24 L12458.4 1384.24 L12458.4 1384.24  Z\" fill=\"#009af9\" fill-rule=\"evenodd\" fill-opacity=\"1\"/>\n<polyline clip-path=\"url(#clip812)\" style=\"stroke:#000000; stroke-linecap:round; stroke-linejoin:round; stroke-width:4; stroke-opacity:1; fill:none\" points=\"12458.4,1384.24 12458.4,1384.24 12500.1,1384.24 12458.4,1384.24 \"/>\n<path clip-path=\"url(#clip812)\" d=\"M12500.1 1384.24 L12500.1 1384.24 L12541.7 1384.24 L12541.7 1384.24 L12500.1 1384.24 L12500.1 1384.24  Z\" fill=\"#009af9\" fill-rule=\"evenodd\" fill-opacity=\"1\"/>\n<polyline clip-path=\"url(#clip812)\" style=\"stroke:#000000; stroke-linecap:round; stroke-linejoin:round; stroke-width:4; stroke-opacity:1; fill:none\" points=\"12500.1,1384.24 12500.1,1384.24 12541.7,1384.24 12500.1,1384.24 \"/>\n<path clip-path=\"url(#clip812)\" d=\"M12541.7 1167.9 L12541.7 1384.24 L12583.3 1384.24 L12583.3 1167.9 L12541.7 1167.9 L12541.7 1167.9  Z\" fill=\"#009af9\" fill-rule=\"evenodd\" fill-opacity=\"1\"/>\n<polyline clip-path=\"url(#clip812)\" style=\"stroke:#000000; stroke-linecap:round; stroke-linejoin:round; stroke-width:4; stroke-opacity:1; fill:none\" points=\"12541.7,1167.9 12541.7,1384.24 12583.3,1384.24 12583.3,1167.9 12541.7,1167.9 \"/>\n<path clip-path=\"url(#clip812)\" d=\"M12583.3 1384.24 L12583.3 1384.24 L12625 1384.24 L12625 1384.24 L12583.3 1384.24 L12583.3 1384.24  Z\" fill=\"#009af9\" fill-rule=\"evenodd\" fill-opacity=\"1\"/>\n<polyline clip-path=\"url(#clip812)\" style=\"stroke:#000000; stroke-linecap:round; stroke-linejoin:round; stroke-width:4; stroke-opacity:1; fill:none\" points=\"12583.3,1384.24 12583.3,1384.24 12625,1384.24 12583.3,1384.24 \"/>\n<path clip-path=\"url(#clip812)\" d=\"M12625 1384.24 L12625 1384.24 L12666.6 1384.24 L12666.6 1384.24 L12625 1384.24 L12625 1384.24  Z\" fill=\"#009af9\" fill-rule=\"evenodd\" fill-opacity=\"1\"/>\n<polyline clip-path=\"url(#clip812)\" style=\"stroke:#000000; stroke-linecap:round; stroke-linejoin:round; stroke-width:4; stroke-opacity:1; fill:none\" points=\"12625,1384.24 12625,1384.24 12666.6,1384.24 12625,1384.24 \"/>\n<path clip-path=\"url(#clip812)\" d=\"M12666.6 1384.24 L12666.6 1384.24 L12708.3 1384.24 L12708.3 1384.24 L12666.6 1384.24 L12666.6 1384.24  Z\" fill=\"#009af9\" fill-rule=\"evenodd\" fill-opacity=\"1\"/>\n<polyline clip-path=\"url(#clip812)\" style=\"stroke:#000000; stroke-linecap:round; stroke-linejoin:round; stroke-width:4; stroke-opacity:1; fill:none\" points=\"12666.6,1384.24 12666.6,1384.24 12708.3,1384.24 12666.6,1384.24 \"/>\n<path clip-path=\"url(#clip812)\" d=\"M12708.3 1384.24 L12708.3 1384.24 L12749.9 1384.24 L12749.9 1384.24 L12708.3 1384.24 L12708.3 1384.24  Z\" fill=\"#009af9\" fill-rule=\"evenodd\" fill-opacity=\"1\"/>\n<polyline clip-path=\"url(#clip812)\" style=\"stroke:#000000; stroke-linecap:round; stroke-linejoin:round; stroke-width:4; stroke-opacity:1; fill:none\" points=\"12708.3,1384.24 12708.3,1384.24 12749.9,1384.24 12708.3,1384.24 \"/>\n<path clip-path=\"url(#clip812)\" d=\"M12749.9 1384.24 L12749.9 1384.24 L12791.6 1384.24 L12791.6 1384.24 L12749.9 1384.24 L12749.9 1384.24  Z\" fill=\"#009af9\" fill-rule=\"evenodd\" fill-opacity=\"1\"/>\n<polyline clip-path=\"url(#clip812)\" style=\"stroke:#000000; stroke-linecap:round; stroke-linejoin:round; stroke-width:4; stroke-opacity:1; fill:none\" points=\"12749.9,1384.24 12749.9,1384.24 12791.6,1384.24 12749.9,1384.24 \"/>\n<path clip-path=\"url(#clip812)\" d=\"M12791.6 1384.24 L12791.6 1384.24 L12833.2 1384.24 L12833.2 1384.24 L12791.6 1384.24 L12791.6 1384.24  Z\" fill=\"#009af9\" fill-rule=\"evenodd\" fill-opacity=\"1\"/>\n<polyline clip-path=\"url(#clip812)\" style=\"stroke:#000000; stroke-linecap:round; stroke-linejoin:round; stroke-width:4; stroke-opacity:1; fill:none\" points=\"12791.6,1384.24 12791.6,1384.24 12833.2,1384.24 12791.6,1384.24 \"/>\n<path clip-path=\"url(#clip812)\" d=\"M12833.2 1384.24 L12833.2 1384.24 L12874.8 1384.24 L12874.8 1384.24 L12833.2 1384.24 L12833.2 1384.24  Z\" fill=\"#009af9\" fill-rule=\"evenodd\" fill-opacity=\"1\"/>\n<polyline clip-path=\"url(#clip812)\" style=\"stroke:#000000; stroke-linecap:round; stroke-linejoin:round; stroke-width:4; stroke-opacity:1; fill:none\" points=\"12833.2,1384.24 12833.2,1384.24 12874.8,1384.24 12833.2,1384.24 \"/>\n<path clip-path=\"url(#clip812)\" d=\"M12874.8 1384.24 L12874.8 1384.24 L12916.5 1384.24 L12916.5 1384.24 L12874.8 1384.24 L12874.8 1384.24  Z\" fill=\"#009af9\" fill-rule=\"evenodd\" fill-opacity=\"1\"/>\n<polyline clip-path=\"url(#clip812)\" style=\"stroke:#000000; stroke-linecap:round; stroke-linejoin:round; stroke-width:4; stroke-opacity:1; fill:none\" points=\"12874.8,1384.24 12874.8,1384.24 12916.5,1384.24 12874.8,1384.24 \"/>\n<path clip-path=\"url(#clip812)\" d=\"M12916.5 1384.24 L12916.5 1384.24 L12958.1 1384.24 L12958.1 1384.24 L12916.5 1384.24 L12916.5 1384.24  Z\" fill=\"#009af9\" fill-rule=\"evenodd\" fill-opacity=\"1\"/>\n<polyline clip-path=\"url(#clip812)\" style=\"stroke:#000000; stroke-linecap:round; stroke-linejoin:round; stroke-width:4; stroke-opacity:1; fill:none\" points=\"12916.5,1384.24 12916.5,1384.24 12958.1,1384.24 12916.5,1384.24 \"/>\n<path clip-path=\"url(#clip812)\" d=\"M12958.1 1384.24 L12958.1 1384.24 L12999.8 1384.24 L12999.8 1384.24 L12958.1 1384.24 L12958.1 1384.24  Z\" fill=\"#009af9\" fill-rule=\"evenodd\" fill-opacity=\"1\"/>\n<polyline clip-path=\"url(#clip812)\" style=\"stroke:#000000; stroke-linecap:round; stroke-linejoin:round; stroke-width:4; stroke-opacity:1; fill:none\" points=\"12958.1,1384.24 12958.1,1384.24 12999.8,1384.24 12958.1,1384.24 \"/>\n<path clip-path=\"url(#clip812)\" d=\"M12999.8 1384.24 L12999.8 1384.24 L13041.4 1384.24 L13041.4 1384.24 L12999.8 1384.24 L12999.8 1384.24  Z\" fill=\"#009af9\" fill-rule=\"evenodd\" fill-opacity=\"1\"/>\n<polyline clip-path=\"url(#clip812)\" style=\"stroke:#000000; stroke-linecap:round; stroke-linejoin:round; stroke-width:4; stroke-opacity:1; fill:none\" points=\"12999.8,1384.24 12999.8,1384.24 13041.4,1384.24 12999.8,1384.24 \"/>\n<path clip-path=\"url(#clip812)\" d=\"M13041.4 1384.24 L13041.4 1384.24 L13083 1384.24 L13083 1384.24 L13041.4 1384.24 L13041.4 1384.24  Z\" fill=\"#009af9\" fill-rule=\"evenodd\" fill-opacity=\"1\"/>\n<polyline clip-path=\"url(#clip812)\" style=\"stroke:#000000; stroke-linecap:round; stroke-linejoin:round; stroke-width:4; stroke-opacity:1; fill:none\" points=\"13041.4,1384.24 13041.4,1384.24 13083,1384.24 13041.4,1384.24 \"/>\n<path clip-path=\"url(#clip812)\" d=\"M13083 1384.24 L13083 1384.24 L13124.7 1384.24 L13124.7 1384.24 L13083 1384.24 L13083 1384.24  Z\" fill=\"#009af9\" fill-rule=\"evenodd\" fill-opacity=\"1\"/>\n<polyline clip-path=\"url(#clip812)\" style=\"stroke:#000000; stroke-linecap:round; stroke-linejoin:round; stroke-width:4; stroke-opacity:1; fill:none\" points=\"13083,1384.24 13083,1384.24 13124.7,1384.24 13083,1384.24 \"/>\n<path clip-path=\"url(#clip812)\" d=\"M13124.7 1384.24 L13124.7 1384.24 L13166.3 1384.24 L13166.3 1384.24 L13124.7 1384.24 L13124.7 1384.24  Z\" fill=\"#009af9\" fill-rule=\"evenodd\" fill-opacity=\"1\"/>\n<polyline clip-path=\"url(#clip812)\" style=\"stroke:#000000; stroke-linecap:round; stroke-linejoin:round; stroke-width:4; stroke-opacity:1; fill:none\" points=\"13124.7,1384.24 13124.7,1384.24 13166.3,1384.24 13124.7,1384.24 \"/>\n<path clip-path=\"url(#clip812)\" d=\"M13166.3 1384.24 L13166.3 1384.24 L13208 1384.24 L13208 1384.24 L13166.3 1384.24 L13166.3 1384.24  Z\" fill=\"#009af9\" fill-rule=\"evenodd\" fill-opacity=\"1\"/>\n<polyline clip-path=\"url(#clip812)\" style=\"stroke:#000000; stroke-linecap:round; stroke-linejoin:round; stroke-width:4; stroke-opacity:1; fill:none\" points=\"13166.3,1384.24 13166.3,1384.24 13208,1384.24 13166.3,1384.24 \"/>\n<path clip-path=\"url(#clip812)\" d=\"M13208 1384.24 L13208 1384.24 L13249.6 1384.24 L13249.6 1384.24 L13208 1384.24 L13208 1384.24  Z\" fill=\"#009af9\" fill-rule=\"evenodd\" fill-opacity=\"1\"/>\n<polyline clip-path=\"url(#clip812)\" style=\"stroke:#000000; stroke-linecap:round; stroke-linejoin:round; stroke-width:4; stroke-opacity:1; fill:none\" points=\"13208,1384.24 13208,1384.24 13249.6,1384.24 13208,1384.24 \"/>\n<path clip-path=\"url(#clip812)\" d=\"M13249.6 1384.24 L13249.6 1384.24 L13291.3 1384.24 L13291.3 1384.24 L13249.6 1384.24 L13249.6 1384.24  Z\" fill=\"#009af9\" fill-rule=\"evenodd\" fill-opacity=\"1\"/>\n<polyline clip-path=\"url(#clip812)\" style=\"stroke:#000000; stroke-linecap:round; stroke-linejoin:round; stroke-width:4; stroke-opacity:1; fill:none\" points=\"13249.6,1384.24 13249.6,1384.24 13291.3,1384.24 13249.6,1384.24 \"/>\n<path clip-path=\"url(#clip812)\" d=\"M13291.3 1384.24 L13291.3 1384.24 L13332.9 1384.24 L13332.9 1384.24 L13291.3 1384.24 L13291.3 1384.24  Z\" fill=\"#009af9\" fill-rule=\"evenodd\" fill-opacity=\"1\"/>\n<polyline clip-path=\"url(#clip812)\" style=\"stroke:#000000; stroke-linecap:round; stroke-linejoin:round; stroke-width:4; stroke-opacity:1; fill:none\" points=\"13291.3,1384.24 13291.3,1384.24 13332.9,1384.24 13291.3,1384.24 \"/>\n<path clip-path=\"url(#clip812)\" d=\"M13332.9 1384.24 L13332.9 1384.24 L13374.5 1384.24 L13374.5 1384.24 L13332.9 1384.24 L13332.9 1384.24  Z\" fill=\"#009af9\" fill-rule=\"evenodd\" fill-opacity=\"1\"/>\n<polyline clip-path=\"url(#clip812)\" style=\"stroke:#000000; stroke-linecap:round; stroke-linejoin:round; stroke-width:4; stroke-opacity:1; fill:none\" points=\"13332.9,1384.24 13332.9,1384.24 13374.5,1384.24 13332.9,1384.24 \"/>\n<path clip-path=\"url(#clip812)\" d=\"M13374.5 1384.24 L13374.5 1384.24 L13416.2 1384.24 L13416.2 1384.24 L13374.5 1384.24 L13374.5 1384.24  Z\" fill=\"#009af9\" fill-rule=\"evenodd\" fill-opacity=\"1\"/>\n<polyline clip-path=\"url(#clip812)\" style=\"stroke:#000000; stroke-linecap:round; stroke-linejoin:round; stroke-width:4; stroke-opacity:1; fill:none\" points=\"13374.5,1384.24 13374.5,1384.24 13416.2,1384.24 13374.5,1384.24 \"/>\n<path clip-path=\"url(#clip812)\" d=\"M13416.2 1384.24 L13416.2 1384.24 L13457.8 1384.24 L13457.8 1384.24 L13416.2 1384.24 L13416.2 1384.24  Z\" fill=\"#009af9\" fill-rule=\"evenodd\" fill-opacity=\"1\"/>\n<polyline clip-path=\"url(#clip812)\" style=\"stroke:#000000; stroke-linecap:round; stroke-linejoin:round; stroke-width:4; stroke-opacity:1; fill:none\" points=\"13416.2,1384.24 13416.2,1384.24 13457.8,1384.24 13416.2,1384.24 \"/>\n<path clip-path=\"url(#clip812)\" d=\"M13457.8 1384.24 L13457.8 1384.24 L13499.5 1384.24 L13499.5 1384.24 L13457.8 1384.24 L13457.8 1384.24  Z\" fill=\"#009af9\" fill-rule=\"evenodd\" fill-opacity=\"1\"/>\n<polyline clip-path=\"url(#clip812)\" style=\"stroke:#000000; stroke-linecap:round; stroke-linejoin:round; stroke-width:4; stroke-opacity:1; fill:none\" points=\"13457.8,1384.24 13457.8,1384.24 13499.5,1384.24 13457.8,1384.24 \"/>\n<path clip-path=\"url(#clip812)\" d=\"M13499.5 1384.24 L13499.5 1384.24 L13541.1 1384.24 L13541.1 1384.24 L13499.5 1384.24 L13499.5 1384.24  Z\" fill=\"#009af9\" fill-rule=\"evenodd\" fill-opacity=\"1\"/>\n<polyline clip-path=\"url(#clip812)\" style=\"stroke:#000000; stroke-linecap:round; stroke-linejoin:round; stroke-width:4; stroke-opacity:1; fill:none\" points=\"13499.5,1384.24 13499.5,1384.24 13541.1,1384.24 13499.5,1384.24 \"/>\n<path clip-path=\"url(#clip812)\" d=\"M13541.1 1384.24 L13541.1 1384.24 L13582.8 1384.24 L13582.8 1384.24 L13541.1 1384.24 L13541.1 1384.24  Z\" fill=\"#009af9\" fill-rule=\"evenodd\" fill-opacity=\"1\"/>\n<polyline clip-path=\"url(#clip812)\" style=\"stroke:#000000; stroke-linecap:round; stroke-linejoin:round; stroke-width:4; stroke-opacity:1; fill:none\" points=\"13541.1,1384.24 13541.1,1384.24 13582.8,1384.24 13541.1,1384.24 \"/>\n<path clip-path=\"url(#clip812)\" d=\"M13582.8 1384.24 L13582.8 1384.24 L13624.4 1384.24 L13624.4 1384.24 L13582.8 1384.24 L13582.8 1384.24  Z\" fill=\"#009af9\" fill-rule=\"evenodd\" fill-opacity=\"1\"/>\n<polyline clip-path=\"url(#clip812)\" style=\"stroke:#000000; stroke-linecap:round; stroke-linejoin:round; stroke-width:4; stroke-opacity:1; fill:none\" points=\"13582.8,1384.24 13582.8,1384.24 13624.4,1384.24 13582.8,1384.24 \"/>\n<path clip-path=\"url(#clip812)\" d=\"M13624.4 1384.24 L13624.4 1384.24 L13666 1384.24 L13666 1384.24 L13624.4 1384.24 L13624.4 1384.24  Z\" fill=\"#009af9\" fill-rule=\"evenodd\" fill-opacity=\"1\"/>\n<polyline clip-path=\"url(#clip812)\" style=\"stroke:#000000; stroke-linecap:round; stroke-linejoin:round; stroke-width:4; stroke-opacity:1; fill:none\" points=\"13624.4,1384.24 13624.4,1384.24 13666,1384.24 13624.4,1384.24 \"/>\n<path clip-path=\"url(#clip812)\" d=\"M13666 1384.24 L13666 1384.24 L13707.7 1384.24 L13707.7 1384.24 L13666 1384.24 L13666 1384.24  Z\" fill=\"#009af9\" fill-rule=\"evenodd\" fill-opacity=\"1\"/>\n<polyline clip-path=\"url(#clip812)\" style=\"stroke:#000000; stroke-linecap:round; stroke-linejoin:round; stroke-width:4; stroke-opacity:1; fill:none\" points=\"13666,1384.24 13666,1384.24 13707.7,1384.24 13666,1384.24 \"/>\n<path clip-path=\"url(#clip812)\" d=\"M13707.7 1384.24 L13707.7 1384.24 L13749.3 1384.24 L13749.3 1384.24 L13707.7 1384.24 L13707.7 1384.24  Z\" fill=\"#009af9\" fill-rule=\"evenodd\" fill-opacity=\"1\"/>\n<polyline clip-path=\"url(#clip812)\" style=\"stroke:#000000; stroke-linecap:round; stroke-linejoin:round; stroke-width:4; stroke-opacity:1; fill:none\" points=\"13707.7,1384.24 13707.7,1384.24 13749.3,1384.24 13707.7,1384.24 \"/>\n<path clip-path=\"url(#clip812)\" d=\"M13749.3 1384.24 L13749.3 1384.24 L13791 1384.24 L13791 1384.24 L13749.3 1384.24 L13749.3 1384.24  Z\" fill=\"#009af9\" fill-rule=\"evenodd\" fill-opacity=\"1\"/>\n<polyline clip-path=\"url(#clip812)\" style=\"stroke:#000000; stroke-linecap:round; stroke-linejoin:round; stroke-width:4; stroke-opacity:1; fill:none\" points=\"13749.3,1384.24 13749.3,1384.24 13791,1384.24 13749.3,1384.24 \"/>\n<path clip-path=\"url(#clip812)\" d=\"M13791 1384.24 L13791 1384.24 L13832.6 1384.24 L13832.6 1384.24 L13791 1384.24 L13791 1384.24  Z\" fill=\"#009af9\" fill-rule=\"evenodd\" fill-opacity=\"1\"/>\n<polyline clip-path=\"url(#clip812)\" style=\"stroke:#000000; stroke-linecap:round; stroke-linejoin:round; stroke-width:4; stroke-opacity:1; fill:none\" points=\"13791,1384.24 13791,1384.24 13832.6,1384.24 13791,1384.24 \"/>\n<path clip-path=\"url(#clip812)\" d=\"M13832.6 1384.24 L13832.6 1384.24 L13874.3 1384.24 L13874.3 1384.24 L13832.6 1384.24 L13832.6 1384.24  Z\" fill=\"#009af9\" fill-rule=\"evenodd\" fill-opacity=\"1\"/>\n<polyline clip-path=\"url(#clip812)\" style=\"stroke:#000000; stroke-linecap:round; stroke-linejoin:round; stroke-width:4; stroke-opacity:1; fill:none\" points=\"13832.6,1384.24 13832.6,1384.24 13874.3,1384.24 13832.6,1384.24 \"/>\n<path clip-path=\"url(#clip812)\" d=\"M13874.3 1384.24 L13874.3 1384.24 L13915.9 1384.24 L13915.9 1384.24 L13874.3 1384.24 L13874.3 1384.24  Z\" fill=\"#009af9\" fill-rule=\"evenodd\" fill-opacity=\"1\"/>\n<polyline clip-path=\"url(#clip812)\" style=\"stroke:#000000; stroke-linecap:round; stroke-linejoin:round; stroke-width:4; stroke-opacity:1; fill:none\" points=\"13874.3,1384.24 13874.3,1384.24 13915.9,1384.24 13874.3,1384.24 \"/>\n<path clip-path=\"url(#clip812)\" d=\"M13915.9 1384.24 L13915.9 1384.24 L13957.5 1384.24 L13957.5 1384.24 L13915.9 1384.24 L13915.9 1384.24  Z\" fill=\"#009af9\" fill-rule=\"evenodd\" fill-opacity=\"1\"/>\n<polyline clip-path=\"url(#clip812)\" style=\"stroke:#000000; stroke-linecap:round; stroke-linejoin:round; stroke-width:4; stroke-opacity:1; fill:none\" points=\"13915.9,1384.24 13915.9,1384.24 13957.5,1384.24 13915.9,1384.24 \"/>\n<path clip-path=\"url(#clip812)\" d=\"M13957.5 1384.24 L13957.5 1384.24 L13999.2 1384.24 L13999.2 1384.24 L13957.5 1384.24 L13957.5 1384.24  Z\" fill=\"#009af9\" fill-rule=\"evenodd\" fill-opacity=\"1\"/>\n<polyline clip-path=\"url(#clip812)\" style=\"stroke:#000000; stroke-linecap:round; stroke-linejoin:round; stroke-width:4; stroke-opacity:1; fill:none\" points=\"13957.5,1384.24 13957.5,1384.24 13999.2,1384.24 13957.5,1384.24 \"/>\n<path clip-path=\"url(#clip812)\" d=\"M13999.2 1384.24 L13999.2 1384.24 L14040.8 1384.24 L14040.8 1384.24 L13999.2 1384.24 L13999.2 1384.24  Z\" fill=\"#009af9\" fill-rule=\"evenodd\" fill-opacity=\"1\"/>\n<polyline clip-path=\"url(#clip812)\" style=\"stroke:#000000; stroke-linecap:round; stroke-linejoin:round; stroke-width:4; stroke-opacity:1; fill:none\" points=\"13999.2,1384.24 13999.2,1384.24 14040.8,1384.24 13999.2,1384.24 \"/>\n<path clip-path=\"url(#clip812)\" d=\"M14040.8 1384.24 L14040.8 1384.24 L14082.5 1384.24 L14082.5 1384.24 L14040.8 1384.24 L14040.8 1384.24  Z\" fill=\"#009af9\" fill-rule=\"evenodd\" fill-opacity=\"1\"/>\n<polyline clip-path=\"url(#clip812)\" style=\"stroke:#000000; stroke-linecap:round; stroke-linejoin:round; stroke-width:4; stroke-opacity:1; fill:none\" points=\"14040.8,1384.24 14040.8,1384.24 14082.5,1384.24 14040.8,1384.24 \"/>\n<path clip-path=\"url(#clip812)\" d=\"M14082.5 1384.24 L14082.5 1384.24 L14124.1 1384.24 L14124.1 1384.24 L14082.5 1384.24 L14082.5 1384.24  Z\" fill=\"#009af9\" fill-rule=\"evenodd\" fill-opacity=\"1\"/>\n<polyline clip-path=\"url(#clip812)\" style=\"stroke:#000000; stroke-linecap:round; stroke-linejoin:round; stroke-width:4; stroke-opacity:1; fill:none\" points=\"14082.5,1384.24 14082.5,1384.24 14124.1,1384.24 14082.5,1384.24 \"/>\n<path clip-path=\"url(#clip812)\" d=\"M14124.1 1384.24 L14124.1 1384.24 L14165.7 1384.24 L14165.7 1384.24 L14124.1 1384.24 L14124.1 1384.24  Z\" fill=\"#009af9\" fill-rule=\"evenodd\" fill-opacity=\"1\"/>\n<polyline clip-path=\"url(#clip812)\" style=\"stroke:#000000; stroke-linecap:round; stroke-linejoin:round; stroke-width:4; stroke-opacity:1; fill:none\" points=\"14124.1,1384.24 14124.1,1384.24 14165.7,1384.24 14124.1,1384.24 \"/>\n<path clip-path=\"url(#clip812)\" d=\"M14165.7 1384.24 L14165.7 1384.24 L14207.4 1384.24 L14207.4 1384.24 L14165.7 1384.24 L14165.7 1384.24  Z\" fill=\"#009af9\" fill-rule=\"evenodd\" fill-opacity=\"1\"/>\n<polyline clip-path=\"url(#clip812)\" style=\"stroke:#000000; stroke-linecap:round; stroke-linejoin:round; stroke-width:4; stroke-opacity:1; fill:none\" points=\"14165.7,1384.24 14165.7,1384.24 14207.4,1384.24 14165.7,1384.24 \"/>\n<path clip-path=\"url(#clip812)\" d=\"M14207.4 1384.24 L14207.4 1384.24 L14249 1384.24 L14249 1384.24 L14207.4 1384.24 L14207.4 1384.24  Z\" fill=\"#009af9\" fill-rule=\"evenodd\" fill-opacity=\"1\"/>\n<polyline clip-path=\"url(#clip812)\" style=\"stroke:#000000; stroke-linecap:round; stroke-linejoin:round; stroke-width:4; stroke-opacity:1; fill:none\" points=\"14207.4,1384.24 14207.4,1384.24 14249,1384.24 14207.4,1384.24 \"/>\n<path clip-path=\"url(#clip812)\" d=\"M14249 1384.24 L14249 1384.24 L14290.7 1384.24 L14290.7 1384.24 L14249 1384.24 L14249 1384.24  Z\" fill=\"#009af9\" fill-rule=\"evenodd\" fill-opacity=\"1\"/>\n<polyline clip-path=\"url(#clip812)\" style=\"stroke:#000000; stroke-linecap:round; stroke-linejoin:round; stroke-width:4; stroke-opacity:1; fill:none\" points=\"14249,1384.24 14249,1384.24 14290.7,1384.24 14249,1384.24 \"/>\n<path clip-path=\"url(#clip812)\" d=\"M14290.7 1384.24 L14290.7 1384.24 L14332.3 1384.24 L14332.3 1384.24 L14290.7 1384.24 L14290.7 1384.24  Z\" fill=\"#009af9\" fill-rule=\"evenodd\" fill-opacity=\"1\"/>\n<polyline clip-path=\"url(#clip812)\" style=\"stroke:#000000; stroke-linecap:round; stroke-linejoin:round; stroke-width:4; stroke-opacity:1; fill:none\" points=\"14290.7,1384.24 14290.7,1384.24 14332.3,1384.24 14290.7,1384.24 \"/>\n<path clip-path=\"url(#clip812)\" d=\"M14332.3 1384.24 L14332.3 1384.24 L14374 1384.24 L14374 1384.24 L14332.3 1384.24 L14332.3 1384.24  Z\" fill=\"#009af9\" fill-rule=\"evenodd\" fill-opacity=\"1\"/>\n<polyline clip-path=\"url(#clip812)\" style=\"stroke:#000000; stroke-linecap:round; stroke-linejoin:round; stroke-width:4; stroke-opacity:1; fill:none\" points=\"14332.3,1384.24 14332.3,1384.24 14374,1384.24 14332.3,1384.24 \"/>\n<path clip-path=\"url(#clip812)\" d=\"M14374 1384.24 L14374 1384.24 L14415.6 1384.24 L14415.6 1384.24 L14374 1384.24 L14374 1384.24  Z\" fill=\"#009af9\" fill-rule=\"evenodd\" fill-opacity=\"1\"/>\n<polyline clip-path=\"url(#clip812)\" style=\"stroke:#000000; stroke-linecap:round; stroke-linejoin:round; stroke-width:4; stroke-opacity:1; fill:none\" points=\"14374,1384.24 14374,1384.24 14415.6,1384.24 14374,1384.24 \"/>\n<path clip-path=\"url(#clip812)\" d=\"M14415.6 1384.24 L14415.6 1384.24 L14457.2 1384.24 L14457.2 1384.24 L14415.6 1384.24 L14415.6 1384.24  Z\" fill=\"#009af9\" fill-rule=\"evenodd\" fill-opacity=\"1\"/>\n<polyline clip-path=\"url(#clip812)\" style=\"stroke:#000000; stroke-linecap:round; stroke-linejoin:round; stroke-width:4; stroke-opacity:1; fill:none\" points=\"14415.6,1384.24 14415.6,1384.24 14457.2,1384.24 14415.6,1384.24 \"/>\n<path clip-path=\"url(#clip812)\" d=\"M14457.2 1384.24 L14457.2 1384.24 L14498.9 1384.24 L14498.9 1384.24 L14457.2 1384.24 L14457.2 1384.24  Z\" fill=\"#009af9\" fill-rule=\"evenodd\" fill-opacity=\"1\"/>\n<polyline clip-path=\"url(#clip812)\" style=\"stroke:#000000; stroke-linecap:round; stroke-linejoin:round; stroke-width:4; stroke-opacity:1; fill:none\" points=\"14457.2,1384.24 14457.2,1384.24 14498.9,1384.24 14457.2,1384.24 \"/>\n<path clip-path=\"url(#clip812)\" d=\"M14498.9 1384.24 L14498.9 1384.24 L14540.5 1384.24 L14540.5 1384.24 L14498.9 1384.24 L14498.9 1384.24  Z\" fill=\"#009af9\" fill-rule=\"evenodd\" fill-opacity=\"1\"/>\n<polyline clip-path=\"url(#clip812)\" style=\"stroke:#000000; stroke-linecap:round; stroke-linejoin:round; stroke-width:4; stroke-opacity:1; fill:none\" points=\"14498.9,1384.24 14498.9,1384.24 14540.5,1384.24 14498.9,1384.24 \"/>\n<path clip-path=\"url(#clip812)\" d=\"M14540.5 1384.24 L14540.5 1384.24 L14582.2 1384.24 L14582.2 1384.24 L14540.5 1384.24 L14540.5 1384.24  Z\" fill=\"#009af9\" fill-rule=\"evenodd\" fill-opacity=\"1\"/>\n<polyline clip-path=\"url(#clip812)\" style=\"stroke:#000000; stroke-linecap:round; stroke-linejoin:round; stroke-width:4; stroke-opacity:1; fill:none\" points=\"14540.5,1384.24 14540.5,1384.24 14582.2,1384.24 14540.5,1384.24 \"/>\n<path clip-path=\"url(#clip812)\" d=\"M14582.2 1384.24 L14582.2 1384.24 L14623.8 1384.24 L14623.8 1384.24 L14582.2 1384.24 L14582.2 1384.24  Z\" fill=\"#009af9\" fill-rule=\"evenodd\" fill-opacity=\"1\"/>\n<polyline clip-path=\"url(#clip812)\" style=\"stroke:#000000; stroke-linecap:round; stroke-linejoin:round; stroke-width:4; stroke-opacity:1; fill:none\" points=\"14582.2,1384.24 14582.2,1384.24 14623.8,1384.24 14582.2,1384.24 \"/>\n<path clip-path=\"url(#clip812)\" d=\"M14623.8 1384.24 L14623.8 1384.24 L14665.5 1384.24 L14665.5 1384.24 L14623.8 1384.24 L14623.8 1384.24  Z\" fill=\"#009af9\" fill-rule=\"evenodd\" fill-opacity=\"1\"/>\n<polyline clip-path=\"url(#clip812)\" style=\"stroke:#000000; stroke-linecap:round; stroke-linejoin:round; stroke-width:4; stroke-opacity:1; fill:none\" points=\"14623.8,1384.24 14623.8,1384.24 14665.5,1384.24 14623.8,1384.24 \"/>\n<path clip-path=\"url(#clip812)\" d=\"M14665.5 1384.24 L14665.5 1384.24 L14707.1 1384.24 L14707.1 1384.24 L14665.5 1384.24 L14665.5 1384.24  Z\" fill=\"#009af9\" fill-rule=\"evenodd\" fill-opacity=\"1\"/>\n<polyline clip-path=\"url(#clip812)\" style=\"stroke:#000000; stroke-linecap:round; stroke-linejoin:round; stroke-width:4; stroke-opacity:1; fill:none\" points=\"14665.5,1384.24 14665.5,1384.24 14707.1,1384.24 14665.5,1384.24 \"/>\n<path clip-path=\"url(#clip812)\" d=\"M14707.1 1384.24 L14707.1 1384.24 L14748.7 1384.24 L14748.7 1384.24 L14707.1 1384.24 L14707.1 1384.24  Z\" fill=\"#009af9\" fill-rule=\"evenodd\" fill-opacity=\"1\"/>\n<polyline clip-path=\"url(#clip812)\" style=\"stroke:#000000; stroke-linecap:round; stroke-linejoin:round; stroke-width:4; stroke-opacity:1; fill:none\" points=\"14707.1,1384.24 14707.1,1384.24 14748.7,1384.24 14707.1,1384.24 \"/>\n<path clip-path=\"url(#clip812)\" d=\"M14748.7 1384.24 L14748.7 1384.24 L14790.4 1384.24 L14790.4 1384.24 L14748.7 1384.24 L14748.7 1384.24  Z\" fill=\"#009af9\" fill-rule=\"evenodd\" fill-opacity=\"1\"/>\n<polyline clip-path=\"url(#clip812)\" style=\"stroke:#000000; stroke-linecap:round; stroke-linejoin:round; stroke-width:4; stroke-opacity:1; fill:none\" points=\"14748.7,1384.24 14748.7,1384.24 14790.4,1384.24 14748.7,1384.24 \"/>\n<path clip-path=\"url(#clip812)\" d=\"M14790.4 1384.24 L14790.4 1384.24 L14832 1384.24 L14832 1384.24 L14790.4 1384.24 L14790.4 1384.24  Z\" fill=\"#009af9\" fill-rule=\"evenodd\" fill-opacity=\"1\"/>\n<polyline clip-path=\"url(#clip812)\" style=\"stroke:#000000; stroke-linecap:round; stroke-linejoin:round; stroke-width:4; stroke-opacity:1; fill:none\" points=\"14790.4,1384.24 14790.4,1384.24 14832,1384.24 14790.4,1384.24 \"/>\n<path clip-path=\"url(#clip812)\" d=\"M14832 1167.9 L14832 1384.24 L14873.7 1384.24 L14873.7 1167.9 L14832 1167.9 L14832 1167.9  Z\" fill=\"#009af9\" fill-rule=\"evenodd\" fill-opacity=\"1\"/>\n<polyline clip-path=\"url(#clip812)\" style=\"stroke:#000000; stroke-linecap:round; stroke-linejoin:round; stroke-width:4; stroke-opacity:1; fill:none\" points=\"14832,1167.9 14832,1384.24 14873.7,1384.24 14873.7,1167.9 14832,1167.9 \"/>\n<path clip-path=\"url(#clip812)\" d=\"M14873.7 1384.24 L14873.7 1384.24 L14915.3 1384.24 L14915.3 1384.24 L14873.7 1384.24 L14873.7 1384.24  Z\" fill=\"#009af9\" fill-rule=\"evenodd\" fill-opacity=\"1\"/>\n<polyline clip-path=\"url(#clip812)\" style=\"stroke:#000000; stroke-linecap:round; stroke-linejoin:round; stroke-width:4; stroke-opacity:1; fill:none\" points=\"14873.7,1384.24 14873.7,1384.24 14915.3,1384.24 14873.7,1384.24 \"/>\n<path clip-path=\"url(#clip812)\" d=\"M14915.3 1384.24 L14915.3 1384.24 L14957 1384.24 L14957 1384.24 L14915.3 1384.24 L14915.3 1384.24  Z\" fill=\"#009af9\" fill-rule=\"evenodd\" fill-opacity=\"1\"/>\n<polyline clip-path=\"url(#clip812)\" style=\"stroke:#000000; stroke-linecap:round; stroke-linejoin:round; stroke-width:4; stroke-opacity:1; fill:none\" points=\"14915.3,1384.24 14915.3,1384.24 14957,1384.24 14915.3,1384.24 \"/>\n<path clip-path=\"url(#clip812)\" d=\"M14957 1384.24 L14957 1384.24 L14998.6 1384.24 L14998.6 1384.24 L14957 1384.24 L14957 1384.24  Z\" fill=\"#009af9\" fill-rule=\"evenodd\" fill-opacity=\"1\"/>\n<polyline clip-path=\"url(#clip812)\" style=\"stroke:#000000; stroke-linecap:round; stroke-linejoin:round; stroke-width:4; stroke-opacity:1; fill:none\" points=\"14957,1384.24 14957,1384.24 14998.6,1384.24 14957,1384.24 \"/>\n<path clip-path=\"url(#clip812)\" d=\"M14998.6 1384.24 L14998.6 1384.24 L15040.2 1384.24 L15040.2 1384.24 L14998.6 1384.24 L14998.6 1384.24  Z\" fill=\"#009af9\" fill-rule=\"evenodd\" fill-opacity=\"1\"/>\n<polyline clip-path=\"url(#clip812)\" style=\"stroke:#000000; stroke-linecap:round; stroke-linejoin:round; stroke-width:4; stroke-opacity:1; fill:none\" points=\"14998.6,1384.24 14998.6,1384.24 15040.2,1384.24 14998.6,1384.24 \"/>\n<path clip-path=\"url(#clip812)\" d=\"M15040.2 1384.24 L15040.2 1384.24 L15081.9 1384.24 L15081.9 1384.24 L15040.2 1384.24 L15040.2 1384.24  Z\" fill=\"#009af9\" fill-rule=\"evenodd\" fill-opacity=\"1\"/>\n<polyline clip-path=\"url(#clip812)\" style=\"stroke:#000000; stroke-linecap:round; stroke-linejoin:round; stroke-width:4; stroke-opacity:1; fill:none\" points=\"15040.2,1384.24 15040.2,1384.24 15081.9,1384.24 15040.2,1384.24 \"/>\n<path clip-path=\"url(#clip812)\" d=\"M15081.9 1384.24 L15081.9 1384.24 L15123.5 1384.24 L15123.5 1384.24 L15081.9 1384.24 L15081.9 1384.24  Z\" fill=\"#009af9\" fill-rule=\"evenodd\" fill-opacity=\"1\"/>\n<polyline clip-path=\"url(#clip812)\" style=\"stroke:#000000; stroke-linecap:round; stroke-linejoin:round; stroke-width:4; stroke-opacity:1; fill:none\" points=\"15081.9,1384.24 15081.9,1384.24 15123.5,1384.24 15081.9,1384.24 \"/>\n<path clip-path=\"url(#clip812)\" d=\"M15123.5 1384.24 L15123.5 1384.24 L15165.2 1384.24 L15165.2 1384.24 L15123.5 1384.24 L15123.5 1384.24  Z\" fill=\"#009af9\" fill-rule=\"evenodd\" fill-opacity=\"1\"/>\n<polyline clip-path=\"url(#clip812)\" style=\"stroke:#000000; stroke-linecap:round; stroke-linejoin:round; stroke-width:4; stroke-opacity:1; fill:none\" points=\"15123.5,1384.24 15123.5,1384.24 15165.2,1384.24 15123.5,1384.24 \"/>\n<path clip-path=\"url(#clip812)\" d=\"M15165.2 1384.24 L15165.2 1384.24 L15206.8 1384.24 L15206.8 1384.24 L15165.2 1384.24 L15165.2 1384.24  Z\" fill=\"#009af9\" fill-rule=\"evenodd\" fill-opacity=\"1\"/>\n<polyline clip-path=\"url(#clip812)\" style=\"stroke:#000000; stroke-linecap:round; stroke-linejoin:round; stroke-width:4; stroke-opacity:1; fill:none\" points=\"15165.2,1384.24 15165.2,1384.24 15206.8,1384.24 15165.2,1384.24 \"/>\n<path clip-path=\"url(#clip812)\" d=\"M15206.8 1384.24 L15206.8 1384.24 L15248.4 1384.24 L15248.4 1384.24 L15206.8 1384.24 L15206.8 1384.24  Z\" fill=\"#009af9\" fill-rule=\"evenodd\" fill-opacity=\"1\"/>\n<polyline clip-path=\"url(#clip812)\" style=\"stroke:#000000; stroke-linecap:round; stroke-linejoin:round; stroke-width:4; stroke-opacity:1; fill:none\" points=\"15206.8,1384.24 15206.8,1384.24 15248.4,1384.24 15206.8,1384.24 \"/>\n<path clip-path=\"url(#clip812)\" d=\"M15248.4 1384.24 L15248.4 1384.24 L15290.1 1384.24 L15290.1 1384.24 L15248.4 1384.24 L15248.4 1384.24  Z\" fill=\"#009af9\" fill-rule=\"evenodd\" fill-opacity=\"1\"/>\n<polyline clip-path=\"url(#clip812)\" style=\"stroke:#000000; stroke-linecap:round; stroke-linejoin:round; stroke-width:4; stroke-opacity:1; fill:none\" points=\"15248.4,1384.24 15248.4,1384.24 15290.1,1384.24 15248.4,1384.24 \"/>\n<path clip-path=\"url(#clip812)\" d=\"M15290.1 1384.24 L15290.1 1384.24 L15331.7 1384.24 L15331.7 1384.24 L15290.1 1384.24 L15290.1 1384.24  Z\" fill=\"#009af9\" fill-rule=\"evenodd\" fill-opacity=\"1\"/>\n<polyline clip-path=\"url(#clip812)\" style=\"stroke:#000000; stroke-linecap:round; stroke-linejoin:round; stroke-width:4; stroke-opacity:1; fill:none\" points=\"15290.1,1384.24 15290.1,1384.24 15331.7,1384.24 15290.1,1384.24 \"/>\n<path clip-path=\"url(#clip812)\" d=\"M15331.7 1384.24 L15331.7 1384.24 L15373.4 1384.24 L15373.4 1384.24 L15331.7 1384.24 L15331.7 1384.24  Z\" fill=\"#009af9\" fill-rule=\"evenodd\" fill-opacity=\"1\"/>\n<polyline clip-path=\"url(#clip812)\" style=\"stroke:#000000; stroke-linecap:round; stroke-linejoin:round; stroke-width:4; stroke-opacity:1; fill:none\" points=\"15331.7,1384.24 15331.7,1384.24 15373.4,1384.24 15331.7,1384.24 \"/>\n<path clip-path=\"url(#clip812)\" d=\"M15373.4 1384.24 L15373.4 1384.24 L15415 1384.24 L15415 1384.24 L15373.4 1384.24 L15373.4 1384.24  Z\" fill=\"#009af9\" fill-rule=\"evenodd\" fill-opacity=\"1\"/>\n<polyline clip-path=\"url(#clip812)\" style=\"stroke:#000000; stroke-linecap:round; stroke-linejoin:round; stroke-width:4; stroke-opacity:1; fill:none\" points=\"15373.4,1384.24 15373.4,1384.24 15415,1384.24 15373.4,1384.24 \"/>\n<path clip-path=\"url(#clip812)\" d=\"M15415 1384.24 L15415 1384.24 L15456.7 1384.24 L15456.7 1384.24 L15415 1384.24 L15415 1384.24  Z\" fill=\"#009af9\" fill-rule=\"evenodd\" fill-opacity=\"1\"/>\n<polyline clip-path=\"url(#clip812)\" style=\"stroke:#000000; stroke-linecap:round; stroke-linejoin:round; stroke-width:4; stroke-opacity:1; fill:none\" points=\"15415,1384.24 15415,1384.24 15456.7,1384.24 15415,1384.24 \"/>\n<path clip-path=\"url(#clip812)\" d=\"M15456.7 1384.24 L15456.7 1384.24 L15498.3 1384.24 L15498.3 1384.24 L15456.7 1384.24 L15456.7 1384.24  Z\" fill=\"#009af9\" fill-rule=\"evenodd\" fill-opacity=\"1\"/>\n<polyline clip-path=\"url(#clip812)\" style=\"stroke:#000000; stroke-linecap:round; stroke-linejoin:round; stroke-width:4; stroke-opacity:1; fill:none\" points=\"15456.7,1384.24 15456.7,1384.24 15498.3,1384.24 15456.7,1384.24 \"/>\n<path clip-path=\"url(#clip812)\" d=\"M15498.3 1384.24 L15498.3 1384.24 L15539.9 1384.24 L15539.9 1384.24 L15498.3 1384.24 L15498.3 1384.24  Z\" fill=\"#009af9\" fill-rule=\"evenodd\" fill-opacity=\"1\"/>\n<polyline clip-path=\"url(#clip812)\" style=\"stroke:#000000; stroke-linecap:round; stroke-linejoin:round; stroke-width:4; stroke-opacity:1; fill:none\" points=\"15498.3,1384.24 15498.3,1384.24 15539.9,1384.24 15498.3,1384.24 \"/>\n<path clip-path=\"url(#clip812)\" d=\"M15539.9 1384.24 L15539.9 1384.24 L15581.6 1384.24 L15581.6 1384.24 L15539.9 1384.24 L15539.9 1384.24  Z\" fill=\"#009af9\" fill-rule=\"evenodd\" fill-opacity=\"1\"/>\n<polyline clip-path=\"url(#clip812)\" style=\"stroke:#000000; stroke-linecap:round; stroke-linejoin:round; stroke-width:4; stroke-opacity:1; fill:none\" points=\"15539.9,1384.24 15539.9,1384.24 15581.6,1384.24 15539.9,1384.24 \"/>\n<path clip-path=\"url(#clip812)\" d=\"M15581.6 1384.24 L15581.6 1384.24 L15623.2 1384.24 L15623.2 1384.24 L15581.6 1384.24 L15581.6 1384.24  Z\" fill=\"#009af9\" fill-rule=\"evenodd\" fill-opacity=\"1\"/>\n<polyline clip-path=\"url(#clip812)\" style=\"stroke:#000000; stroke-linecap:round; stroke-linejoin:round; stroke-width:4; stroke-opacity:1; fill:none\" points=\"15581.6,1384.24 15581.6,1384.24 15623.2,1384.24 15581.6,1384.24 \"/>\n<path clip-path=\"url(#clip812)\" d=\"M15623.2 1384.24 L15623.2 1384.24 L15664.9 1384.24 L15664.9 1384.24 L15623.2 1384.24 L15623.2 1384.24  Z\" fill=\"#009af9\" fill-rule=\"evenodd\" fill-opacity=\"1\"/>\n<polyline clip-path=\"url(#clip812)\" style=\"stroke:#000000; stroke-linecap:round; stroke-linejoin:round; stroke-width:4; stroke-opacity:1; fill:none\" points=\"15623.2,1384.24 15623.2,1384.24 15664.9,1384.24 15623.2,1384.24 \"/>\n<path clip-path=\"url(#clip812)\" d=\"M15664.9 1384.24 L15664.9 1384.24 L15706.5 1384.24 L15706.5 1384.24 L15664.9 1384.24 L15664.9 1384.24  Z\" fill=\"#009af9\" fill-rule=\"evenodd\" fill-opacity=\"1\"/>\n<polyline clip-path=\"url(#clip812)\" style=\"stroke:#000000; stroke-linecap:round; stroke-linejoin:round; stroke-width:4; stroke-opacity:1; fill:none\" points=\"15664.9,1384.24 15664.9,1384.24 15706.5,1384.24 15664.9,1384.24 \"/>\n<path clip-path=\"url(#clip812)\" d=\"M15706.5 1384.24 L15706.5 1384.24 L15748.2 1384.24 L15748.2 1384.24 L15706.5 1384.24 L15706.5 1384.24  Z\" fill=\"#009af9\" fill-rule=\"evenodd\" fill-opacity=\"1\"/>\n<polyline clip-path=\"url(#clip812)\" style=\"stroke:#000000; stroke-linecap:round; stroke-linejoin:round; stroke-width:4; stroke-opacity:1; fill:none\" points=\"15706.5,1384.24 15706.5,1384.24 15748.2,1384.24 15706.5,1384.24 \"/>\n<path clip-path=\"url(#clip812)\" d=\"M15748.2 1384.24 L15748.2 1384.24 L15789.8 1384.24 L15789.8 1384.24 L15748.2 1384.24 L15748.2 1384.24  Z\" fill=\"#009af9\" fill-rule=\"evenodd\" fill-opacity=\"1\"/>\n<polyline clip-path=\"url(#clip812)\" style=\"stroke:#000000; stroke-linecap:round; stroke-linejoin:round; stroke-width:4; stroke-opacity:1; fill:none\" points=\"15748.2,1384.24 15748.2,1384.24 15789.8,1384.24 15748.2,1384.24 \"/>\n<path clip-path=\"url(#clip812)\" d=\"M15789.8 1384.24 L15789.8 1384.24 L15831.4 1384.24 L15831.4 1384.24 L15789.8 1384.24 L15789.8 1384.24  Z\" fill=\"#009af9\" fill-rule=\"evenodd\" fill-opacity=\"1\"/>\n<polyline clip-path=\"url(#clip812)\" style=\"stroke:#000000; stroke-linecap:round; stroke-linejoin:round; stroke-width:4; stroke-opacity:1; fill:none\" points=\"15789.8,1384.24 15789.8,1384.24 15831.4,1384.24 15789.8,1384.24 \"/>\n<path clip-path=\"url(#clip812)\" d=\"M15831.4 1384.24 L15831.4 1384.24 L15873.1 1384.24 L15873.1 1384.24 L15831.4 1384.24 L15831.4 1384.24  Z\" fill=\"#009af9\" fill-rule=\"evenodd\" fill-opacity=\"1\"/>\n<polyline clip-path=\"url(#clip812)\" style=\"stroke:#000000; stroke-linecap:round; stroke-linejoin:round; stroke-width:4; stroke-opacity:1; fill:none\" points=\"15831.4,1384.24 15831.4,1384.24 15873.1,1384.24 15831.4,1384.24 \"/>\n<path clip-path=\"url(#clip812)\" d=\"M15873.1 1384.24 L15873.1 1384.24 L15914.7 1384.24 L15914.7 1384.24 L15873.1 1384.24 L15873.1 1384.24  Z\" fill=\"#009af9\" fill-rule=\"evenodd\" fill-opacity=\"1\"/>\n<polyline clip-path=\"url(#clip812)\" style=\"stroke:#000000; stroke-linecap:round; stroke-linejoin:round; stroke-width:4; stroke-opacity:1; fill:none\" points=\"15873.1,1384.24 15873.1,1384.24 15914.7,1384.24 15873.1,1384.24 \"/>\n<path clip-path=\"url(#clip812)\" d=\"M15914.7 1384.24 L15914.7 1384.24 L15956.4 1384.24 L15956.4 1384.24 L15914.7 1384.24 L15914.7 1384.24  Z\" fill=\"#009af9\" fill-rule=\"evenodd\" fill-opacity=\"1\"/>\n<polyline clip-path=\"url(#clip812)\" style=\"stroke:#000000; stroke-linecap:round; stroke-linejoin:round; stroke-width:4; stroke-opacity:1; fill:none\" points=\"15914.7,1384.24 15914.7,1384.24 15956.4,1384.24 15914.7,1384.24 \"/>\n<path clip-path=\"url(#clip812)\" d=\"M15956.4 1384.24 L15956.4 1384.24 L15998 1384.24 L15998 1384.24 L15956.4 1384.24 L15956.4 1384.24  Z\" fill=\"#009af9\" fill-rule=\"evenodd\" fill-opacity=\"1\"/>\n<polyline clip-path=\"url(#clip812)\" style=\"stroke:#000000; stroke-linecap:round; stroke-linejoin:round; stroke-width:4; stroke-opacity:1; fill:none\" points=\"15956.4,1384.24 15956.4,1384.24 15998,1384.24 15956.4,1384.24 \"/>\n<path clip-path=\"url(#clip812)\" d=\"M15998 1384.24 L15998 1384.24 L16039.7 1384.24 L16039.7 1384.24 L15998 1384.24 L15998 1384.24  Z\" fill=\"#009af9\" fill-rule=\"evenodd\" fill-opacity=\"1\"/>\n<polyline clip-path=\"url(#clip812)\" style=\"stroke:#000000; stroke-linecap:round; stroke-linejoin:round; stroke-width:4; stroke-opacity:1; fill:none\" points=\"15998,1384.24 15998,1384.24 16039.7,1384.24 15998,1384.24 \"/>\n<path clip-path=\"url(#clip812)\" d=\"M16039.7 1384.24 L16039.7 1384.24 L16081.3 1384.24 L16081.3 1384.24 L16039.7 1384.24 L16039.7 1384.24  Z\" fill=\"#009af9\" fill-rule=\"evenodd\" fill-opacity=\"1\"/>\n<polyline clip-path=\"url(#clip812)\" style=\"stroke:#000000; stroke-linecap:round; stroke-linejoin:round; stroke-width:4; stroke-opacity:1; fill:none\" points=\"16039.7,1384.24 16039.7,1384.24 16081.3,1384.24 16039.7,1384.24 \"/>\n<path clip-path=\"url(#clip812)\" d=\"M16081.3 1384.24 L16081.3 1384.24 L16122.9 1384.24 L16122.9 1384.24 L16081.3 1384.24 L16081.3 1384.24  Z\" fill=\"#009af9\" fill-rule=\"evenodd\" fill-opacity=\"1\"/>\n<polyline clip-path=\"url(#clip812)\" style=\"stroke:#000000; stroke-linecap:round; stroke-linejoin:round; stroke-width:4; stroke-opacity:1; fill:none\" points=\"16081.3,1384.24 16081.3,1384.24 16122.9,1384.24 16081.3,1384.24 \"/>\n<path clip-path=\"url(#clip812)\" d=\"M16122.9 1384.24 L16122.9 1384.24 L16164.6 1384.24 L16164.6 1384.24 L16122.9 1384.24 L16122.9 1384.24  Z\" fill=\"#009af9\" fill-rule=\"evenodd\" fill-opacity=\"1\"/>\n<polyline clip-path=\"url(#clip812)\" style=\"stroke:#000000; stroke-linecap:round; stroke-linejoin:round; stroke-width:4; stroke-opacity:1; fill:none\" points=\"16122.9,1384.24 16122.9,1384.24 16164.6,1384.24 16122.9,1384.24 \"/>\n<path clip-path=\"url(#clip812)\" d=\"M16164.6 1384.24 L16164.6 1384.24 L16206.2 1384.24 L16206.2 1384.24 L16164.6 1384.24 L16164.6 1384.24  Z\" fill=\"#009af9\" fill-rule=\"evenodd\" fill-opacity=\"1\"/>\n<polyline clip-path=\"url(#clip812)\" style=\"stroke:#000000; stroke-linecap:round; stroke-linejoin:round; stroke-width:4; stroke-opacity:1; fill:none\" points=\"16164.6,1384.24 16164.6,1384.24 16206.2,1384.24 16164.6,1384.24 \"/>\n<path clip-path=\"url(#clip812)\" d=\"M16206.2 1384.24 L16206.2 1384.24 L16247.9 1384.24 L16247.9 1384.24 L16206.2 1384.24 L16206.2 1384.24  Z\" fill=\"#009af9\" fill-rule=\"evenodd\" fill-opacity=\"1\"/>\n<polyline clip-path=\"url(#clip812)\" style=\"stroke:#000000; stroke-linecap:round; stroke-linejoin:round; stroke-width:4; stroke-opacity:1; fill:none\" points=\"16206.2,1384.24 16206.2,1384.24 16247.9,1384.24 16206.2,1384.24 \"/>\n<path clip-path=\"url(#clip812)\" d=\"M16247.9 1384.24 L16247.9 1384.24 L16289.5 1384.24 L16289.5 1384.24 L16247.9 1384.24 L16247.9 1384.24  Z\" fill=\"#009af9\" fill-rule=\"evenodd\" fill-opacity=\"1\"/>\n<polyline clip-path=\"url(#clip812)\" style=\"stroke:#000000; stroke-linecap:round; stroke-linejoin:round; stroke-width:4; stroke-opacity:1; fill:none\" points=\"16247.9,1384.24 16247.9,1384.24 16289.5,1384.24 16247.9,1384.24 \"/>\n<path clip-path=\"url(#clip812)\" d=\"M16289.5 1384.24 L16289.5 1384.24 L16331.1 1384.24 L16331.1 1384.24 L16289.5 1384.24 L16289.5 1384.24  Z\" fill=\"#009af9\" fill-rule=\"evenodd\" fill-opacity=\"1\"/>\n<polyline clip-path=\"url(#clip812)\" style=\"stroke:#000000; stroke-linecap:round; stroke-linejoin:round; stroke-width:4; stroke-opacity:1; fill:none\" points=\"16289.5,1384.24 16289.5,1384.24 16331.1,1384.24 16289.5,1384.24 \"/>\n<path clip-path=\"url(#clip812)\" d=\"M16331.1 1384.24 L16331.1 1384.24 L16372.8 1384.24 L16372.8 1384.24 L16331.1 1384.24 L16331.1 1384.24  Z\" fill=\"#009af9\" fill-rule=\"evenodd\" fill-opacity=\"1\"/>\n<polyline clip-path=\"url(#clip812)\" style=\"stroke:#000000; stroke-linecap:round; stroke-linejoin:round; stroke-width:4; stroke-opacity:1; fill:none\" points=\"16331.1,1384.24 16331.1,1384.24 16372.8,1384.24 16331.1,1384.24 \"/>\n<path clip-path=\"url(#clip812)\" d=\"M16372.8 1384.24 L16372.8 1384.24 L16414.4 1384.24 L16414.4 1384.24 L16372.8 1384.24 L16372.8 1384.24  Z\" fill=\"#009af9\" fill-rule=\"evenodd\" fill-opacity=\"1\"/>\n<polyline clip-path=\"url(#clip812)\" style=\"stroke:#000000; stroke-linecap:round; stroke-linejoin:round; stroke-width:4; stroke-opacity:1; fill:none\" points=\"16372.8,1384.24 16372.8,1384.24 16414.4,1384.24 16372.8,1384.24 \"/>\n<path clip-path=\"url(#clip812)\" d=\"M16414.4 1384.24 L16414.4 1384.24 L16456.1 1384.24 L16456.1 1384.24 L16414.4 1384.24 L16414.4 1384.24  Z\" fill=\"#009af9\" fill-rule=\"evenodd\" fill-opacity=\"1\"/>\n<polyline clip-path=\"url(#clip812)\" style=\"stroke:#000000; stroke-linecap:round; stroke-linejoin:round; stroke-width:4; stroke-opacity:1; fill:none\" points=\"16414.4,1384.24 16414.4,1384.24 16456.1,1384.24 16414.4,1384.24 \"/>\n<path clip-path=\"url(#clip812)\" d=\"M16456.1 1384.24 L16456.1 1384.24 L16497.7 1384.24 L16497.7 1384.24 L16456.1 1384.24 L16456.1 1384.24  Z\" fill=\"#009af9\" fill-rule=\"evenodd\" fill-opacity=\"1\"/>\n<polyline clip-path=\"url(#clip812)\" style=\"stroke:#000000; stroke-linecap:round; stroke-linejoin:round; stroke-width:4; stroke-opacity:1; fill:none\" points=\"16456.1,1384.24 16456.1,1384.24 16497.7,1384.24 16456.1,1384.24 \"/>\n<path clip-path=\"url(#clip812)\" d=\"M16497.7 1384.24 L16497.7 1384.24 L16539.4 1384.24 L16539.4 1384.24 L16497.7 1384.24 L16497.7 1384.24  Z\" fill=\"#009af9\" fill-rule=\"evenodd\" fill-opacity=\"1\"/>\n<polyline clip-path=\"url(#clip812)\" style=\"stroke:#000000; stroke-linecap:round; stroke-linejoin:round; stroke-width:4; stroke-opacity:1; fill:none\" points=\"16497.7,1384.24 16497.7,1384.24 16539.4,1384.24 16497.7,1384.24 \"/>\n<path clip-path=\"url(#clip812)\" d=\"M16539.4 1384.24 L16539.4 1384.24 L16581 1384.24 L16581 1384.24 L16539.4 1384.24 L16539.4 1384.24  Z\" fill=\"#009af9\" fill-rule=\"evenodd\" fill-opacity=\"1\"/>\n<polyline clip-path=\"url(#clip812)\" style=\"stroke:#000000; stroke-linecap:round; stroke-linejoin:round; stroke-width:4; stroke-opacity:1; fill:none\" points=\"16539.4,1384.24 16539.4,1384.24 16581,1384.24 16539.4,1384.24 \"/>\n<path clip-path=\"url(#clip812)\" d=\"M16581 1384.24 L16581 1384.24 L16622.6 1384.24 L16622.6 1384.24 L16581 1384.24 L16581 1384.24  Z\" fill=\"#009af9\" fill-rule=\"evenodd\" fill-opacity=\"1\"/>\n<polyline clip-path=\"url(#clip812)\" style=\"stroke:#000000; stroke-linecap:round; stroke-linejoin:round; stroke-width:4; stroke-opacity:1; fill:none\" points=\"16581,1384.24 16581,1384.24 16622.6,1384.24 16581,1384.24 \"/>\n<path clip-path=\"url(#clip812)\" d=\"M16622.6 1384.24 L16622.6 1384.24 L16664.3 1384.24 L16664.3 1384.24 L16622.6 1384.24 L16622.6 1384.24  Z\" fill=\"#009af9\" fill-rule=\"evenodd\" fill-opacity=\"1\"/>\n<polyline clip-path=\"url(#clip812)\" style=\"stroke:#000000; stroke-linecap:round; stroke-linejoin:round; stroke-width:4; stroke-opacity:1; fill:none\" points=\"16622.6,1384.24 16622.6,1384.24 16664.3,1384.24 16622.6,1384.24 \"/>\n<path clip-path=\"url(#clip812)\" d=\"M16664.3 1384.24 L16664.3 1384.24 L16705.9 1384.24 L16705.9 1384.24 L16664.3 1384.24 L16664.3 1384.24  Z\" fill=\"#009af9\" fill-rule=\"evenodd\" fill-opacity=\"1\"/>\n<polyline clip-path=\"url(#clip812)\" style=\"stroke:#000000; stroke-linecap:round; stroke-linejoin:round; stroke-width:4; stroke-opacity:1; fill:none\" points=\"16664.3,1384.24 16664.3,1384.24 16705.9,1384.24 16664.3,1384.24 \"/>\n<path clip-path=\"url(#clip812)\" d=\"M16705.9 1384.24 L16705.9 1384.24 L16747.6 1384.24 L16747.6 1384.24 L16705.9 1384.24 L16705.9 1384.24  Z\" fill=\"#009af9\" fill-rule=\"evenodd\" fill-opacity=\"1\"/>\n<polyline clip-path=\"url(#clip812)\" style=\"stroke:#000000; stroke-linecap:round; stroke-linejoin:round; stroke-width:4; stroke-opacity:1; fill:none\" points=\"16705.9,1384.24 16705.9,1384.24 16747.6,1384.24 16705.9,1384.24 \"/>\n<path clip-path=\"url(#clip812)\" d=\"M16747.6 1384.24 L16747.6 1384.24 L16789.2 1384.24 L16789.2 1384.24 L16747.6 1384.24 L16747.6 1384.24  Z\" fill=\"#009af9\" fill-rule=\"evenodd\" fill-opacity=\"1\"/>\n<polyline clip-path=\"url(#clip812)\" style=\"stroke:#000000; stroke-linecap:round; stroke-linejoin:round; stroke-width:4; stroke-opacity:1; fill:none\" points=\"16747.6,1384.24 16747.6,1384.24 16789.2,1384.24 16747.6,1384.24 \"/>\n<path clip-path=\"url(#clip812)\" d=\"M16789.2 1384.24 L16789.2 1384.24 L16830.9 1384.24 L16830.9 1384.24 L16789.2 1384.24 L16789.2 1384.24  Z\" fill=\"#009af9\" fill-rule=\"evenodd\" fill-opacity=\"1\"/>\n<polyline clip-path=\"url(#clip812)\" style=\"stroke:#000000; stroke-linecap:round; stroke-linejoin:round; stroke-width:4; stroke-opacity:1; fill:none\" points=\"16789.2,1384.24 16789.2,1384.24 16830.9,1384.24 16789.2,1384.24 \"/>\n<path clip-path=\"url(#clip812)\" d=\"M16830.9 1384.24 L16830.9 1384.24 L16872.5 1384.24 L16872.5 1384.24 L16830.9 1384.24 L16830.9 1384.24  Z\" fill=\"#009af9\" fill-rule=\"evenodd\" fill-opacity=\"1\"/>\n<polyline clip-path=\"url(#clip812)\" style=\"stroke:#000000; stroke-linecap:round; stroke-linejoin:round; stroke-width:4; stroke-opacity:1; fill:none\" points=\"16830.9,1384.24 16830.9,1384.24 16872.5,1384.24 16830.9,1384.24 \"/>\n<path clip-path=\"url(#clip812)\" d=\"M16872.5 1384.24 L16872.5 1384.24 L16914.1 1384.24 L16914.1 1384.24 L16872.5 1384.24 L16872.5 1384.24  Z\" fill=\"#009af9\" fill-rule=\"evenodd\" fill-opacity=\"1\"/>\n<polyline clip-path=\"url(#clip812)\" style=\"stroke:#000000; stroke-linecap:round; stroke-linejoin:round; stroke-width:4; stroke-opacity:1; fill:none\" points=\"16872.5,1384.24 16872.5,1384.24 16914.1,1384.24 16872.5,1384.24 \"/>\n<path clip-path=\"url(#clip812)\" d=\"M16914.1 1384.24 L16914.1 1384.24 L16955.8 1384.24 L16955.8 1384.24 L16914.1 1384.24 L16914.1 1384.24  Z\" fill=\"#009af9\" fill-rule=\"evenodd\" fill-opacity=\"1\"/>\n<polyline clip-path=\"url(#clip812)\" style=\"stroke:#000000; stroke-linecap:round; stroke-linejoin:round; stroke-width:4; stroke-opacity:1; fill:none\" points=\"16914.1,1384.24 16914.1,1384.24 16955.8,1384.24 16914.1,1384.24 \"/>\n<path clip-path=\"url(#clip812)\" d=\"M16955.8 1384.24 L16955.8 1384.24 L16997.4 1384.24 L16997.4 1384.24 L16955.8 1384.24 L16955.8 1384.24  Z\" fill=\"#009af9\" fill-rule=\"evenodd\" fill-opacity=\"1\"/>\n<polyline clip-path=\"url(#clip812)\" style=\"stroke:#000000; stroke-linecap:round; stroke-linejoin:round; stroke-width:4; stroke-opacity:1; fill:none\" points=\"16955.8,1384.24 16955.8,1384.24 16997.4,1384.24 16955.8,1384.24 \"/>\n<path clip-path=\"url(#clip812)\" d=\"M16997.4 1384.24 L16997.4 1384.24 L17039.1 1384.24 L17039.1 1384.24 L16997.4 1384.24 L16997.4 1384.24  Z\" fill=\"#009af9\" fill-rule=\"evenodd\" fill-opacity=\"1\"/>\n<polyline clip-path=\"url(#clip812)\" style=\"stroke:#000000; stroke-linecap:round; stroke-linejoin:round; stroke-width:4; stroke-opacity:1; fill:none\" points=\"16997.4,1384.24 16997.4,1384.24 17039.1,1384.24 16997.4,1384.24 \"/>\n<path clip-path=\"url(#clip812)\" d=\"M17039.1 1384.24 L17039.1 1384.24 L17080.7 1384.24 L17080.7 1384.24 L17039.1 1384.24 L17039.1 1384.24  Z\" fill=\"#009af9\" fill-rule=\"evenodd\" fill-opacity=\"1\"/>\n<polyline clip-path=\"url(#clip812)\" style=\"stroke:#000000; stroke-linecap:round; stroke-linejoin:round; stroke-width:4; stroke-opacity:1; fill:none\" points=\"17039.1,1384.24 17039.1,1384.24 17080.7,1384.24 17039.1,1384.24 \"/>\n<path clip-path=\"url(#clip812)\" d=\"M17080.7 1384.24 L17080.7 1384.24 L17122.3 1384.24 L17122.3 1384.24 L17080.7 1384.24 L17080.7 1384.24  Z\" fill=\"#009af9\" fill-rule=\"evenodd\" fill-opacity=\"1\"/>\n<polyline clip-path=\"url(#clip812)\" style=\"stroke:#000000; stroke-linecap:round; stroke-linejoin:round; stroke-width:4; stroke-opacity:1; fill:none\" points=\"17080.7,1384.24 17080.7,1384.24 17122.3,1384.24 17080.7,1384.24 \"/>\n<path clip-path=\"url(#clip812)\" d=\"M17122.3 1384.24 L17122.3 1384.24 L17164 1384.24 L17164 1384.24 L17122.3 1384.24 L17122.3 1384.24  Z\" fill=\"#009af9\" fill-rule=\"evenodd\" fill-opacity=\"1\"/>\n<polyline clip-path=\"url(#clip812)\" style=\"stroke:#000000; stroke-linecap:round; stroke-linejoin:round; stroke-width:4; stroke-opacity:1; fill:none\" points=\"17122.3,1384.24 17122.3,1384.24 17164,1384.24 17122.3,1384.24 \"/>\n<path clip-path=\"url(#clip812)\" d=\"M17164 1384.24 L17164 1384.24 L17205.6 1384.24 L17205.6 1384.24 L17164 1384.24 L17164 1384.24  Z\" fill=\"#009af9\" fill-rule=\"evenodd\" fill-opacity=\"1\"/>\n<polyline clip-path=\"url(#clip812)\" style=\"stroke:#000000; stroke-linecap:round; stroke-linejoin:round; stroke-width:4; stroke-opacity:1; fill:none\" points=\"17164,1384.24 17164,1384.24 17205.6,1384.24 17164,1384.24 \"/>\n<path clip-path=\"url(#clip812)\" d=\"M17205.6 1167.9 L17205.6 1384.24 L17247.3 1384.24 L17247.3 1167.9 L17205.6 1167.9 L17205.6 1167.9  Z\" fill=\"#009af9\" fill-rule=\"evenodd\" fill-opacity=\"1\"/>\n<polyline clip-path=\"url(#clip812)\" style=\"stroke:#000000; stroke-linecap:round; stroke-linejoin:round; stroke-width:4; stroke-opacity:1; fill:none\" points=\"17205.6,1167.9 17205.6,1384.24 17247.3,1384.24 17247.3,1167.9 17205.6,1167.9 \"/>\n<circle clip-path=\"url(#clip812)\" style=\"fill:#009af9; stroke:none; fill-opacity:0\" cx=\"236.397\" cy=\"951.554\" r=\"2\"/>\n<circle clip-path=\"url(#clip812)\" style=\"fill:#009af9; stroke:none; fill-opacity:0\" cx=\"278.039\" cy=\"1384.24\" r=\"2\"/>\n<circle clip-path=\"url(#clip812)\" style=\"fill:#009af9; stroke:none; fill-opacity:0\" cx=\"319.682\" cy=\"1167.9\" r=\"2\"/>\n<circle clip-path=\"url(#clip812)\" style=\"fill:#009af9; stroke:none; fill-opacity:0\" cx=\"361.324\" cy=\"1384.24\" r=\"2\"/>\n<circle clip-path=\"url(#clip812)\" style=\"fill:#009af9; stroke:none; fill-opacity:0\" cx=\"402.966\" cy=\"1167.9\" r=\"2\"/>\n<circle clip-path=\"url(#clip812)\" style=\"fill:#009af9; stroke:none; fill-opacity:0\" cx=\"444.609\" cy=\"518.87\" r=\"2\"/>\n<circle clip-path=\"url(#clip812)\" style=\"fill:#009af9; stroke:none; fill-opacity:0\" cx=\"486.251\" cy=\"1167.9\" r=\"2\"/>\n<circle clip-path=\"url(#clip812)\" style=\"fill:#009af9; stroke:none; fill-opacity:0\" cx=\"527.893\" cy=\"1384.24\" r=\"2\"/>\n<circle clip-path=\"url(#clip812)\" style=\"fill:#009af9; stroke:none; fill-opacity:0\" cx=\"569.535\" cy=\"735.212\" r=\"2\"/>\n<circle clip-path=\"url(#clip812)\" style=\"fill:#009af9; stroke:none; fill-opacity:0\" cx=\"611.178\" cy=\"1384.24\" r=\"2\"/>\n<circle clip-path=\"url(#clip812)\" style=\"fill:#009af9; stroke:none; fill-opacity:0\" cx=\"652.82\" cy=\"1167.9\" r=\"2\"/>\n<circle clip-path=\"url(#clip812)\" style=\"fill:#009af9; stroke:none; fill-opacity:0\" cx=\"694.462\" cy=\"951.554\" r=\"2\"/>\n<circle clip-path=\"url(#clip812)\" style=\"fill:#009af9; stroke:none; fill-opacity:0\" cx=\"736.105\" cy=\"86.1857\" r=\"2\"/>\n<circle clip-path=\"url(#clip812)\" style=\"fill:#009af9; stroke:none; fill-opacity:0\" cx=\"777.747\" cy=\"951.554\" r=\"2\"/>\n<circle clip-path=\"url(#clip812)\" style=\"fill:#009af9; stroke:none; fill-opacity:0\" cx=\"819.389\" cy=\"518.87\" r=\"2\"/>\n<circle clip-path=\"url(#clip812)\" style=\"fill:#009af9; stroke:none; fill-opacity:0\" cx=\"861.032\" cy=\"1167.9\" r=\"2\"/>\n<circle clip-path=\"url(#clip812)\" style=\"fill:#009af9; stroke:none; fill-opacity:0\" cx=\"902.674\" cy=\"735.212\" r=\"2\"/>\n<circle clip-path=\"url(#clip812)\" style=\"fill:#009af9; stroke:none; fill-opacity:0\" cx=\"944.316\" cy=\"1167.9\" r=\"2\"/>\n<circle clip-path=\"url(#clip812)\" style=\"fill:#009af9; stroke:none; fill-opacity:0\" cx=\"985.958\" cy=\"735.212\" r=\"2\"/>\n<circle clip-path=\"url(#clip812)\" style=\"fill:#009af9; stroke:none; fill-opacity:0\" cx=\"1027.6\" cy=\"735.212\" r=\"2\"/>\n<circle clip-path=\"url(#clip812)\" style=\"fill:#009af9; stroke:none; fill-opacity:0\" cx=\"1069.24\" cy=\"735.212\" r=\"2\"/>\n<circle clip-path=\"url(#clip812)\" style=\"fill:#009af9; stroke:none; fill-opacity:0\" cx=\"1110.89\" cy=\"951.554\" r=\"2\"/>\n<circle clip-path=\"url(#clip812)\" style=\"fill:#009af9; stroke:none; fill-opacity:0\" cx=\"1152.53\" cy=\"735.212\" r=\"2\"/>\n<circle clip-path=\"url(#clip812)\" style=\"fill:#009af9; stroke:none; fill-opacity:0\" cx=\"1194.17\" cy=\"951.554\" r=\"2\"/>\n<circle clip-path=\"url(#clip812)\" style=\"fill:#009af9; stroke:none; fill-opacity:0\" cx=\"1235.81\" cy=\"1384.24\" r=\"2\"/>\n<circle clip-path=\"url(#clip812)\" style=\"fill:#009af9; stroke:none; fill-opacity:0\" cx=\"1277.45\" cy=\"1384.24\" r=\"2\"/>\n<circle clip-path=\"url(#clip812)\" style=\"fill:#009af9; stroke:none; fill-opacity:0\" cx=\"1319.1\" cy=\"735.212\" r=\"2\"/>\n<circle clip-path=\"url(#clip812)\" style=\"fill:#009af9; stroke:none; fill-opacity:0\" cx=\"1360.74\" cy=\"1384.24\" r=\"2\"/>\n<circle clip-path=\"url(#clip812)\" style=\"fill:#009af9; stroke:none; fill-opacity:0\" cx=\"1402.38\" cy=\"951.554\" r=\"2\"/>\n<circle clip-path=\"url(#clip812)\" style=\"fill:#009af9; stroke:none; fill-opacity:0\" cx=\"1444.02\" cy=\"1384.24\" r=\"2\"/>\n<circle clip-path=\"url(#clip812)\" style=\"fill:#009af9; stroke:none; fill-opacity:0\" cx=\"1485.67\" cy=\"1167.9\" r=\"2\"/>\n<circle clip-path=\"url(#clip812)\" style=\"fill:#009af9; stroke:none; fill-opacity:0\" cx=\"1527.31\" cy=\"1167.9\" r=\"2\"/>\n<circle clip-path=\"url(#clip812)\" style=\"fill:#009af9; stroke:none; fill-opacity:0\" cx=\"1568.95\" cy=\"1384.24\" r=\"2\"/>\n<circle clip-path=\"url(#clip812)\" style=\"fill:#009af9; stroke:none; fill-opacity:0\" cx=\"1610.59\" cy=\"1384.24\" r=\"2\"/>\n<circle clip-path=\"url(#clip812)\" style=\"fill:#009af9; stroke:none; fill-opacity:0\" cx=\"1652.24\" cy=\"1384.24\" r=\"2\"/>\n<circle clip-path=\"url(#clip812)\" style=\"fill:#009af9; stroke:none; fill-opacity:0\" cx=\"1693.88\" cy=\"1384.24\" r=\"2\"/>\n<circle clip-path=\"url(#clip812)\" style=\"fill:#009af9; stroke:none; fill-opacity:0\" cx=\"1735.52\" cy=\"951.554\" r=\"2\"/>\n<circle clip-path=\"url(#clip812)\" style=\"fill:#009af9; stroke:none; fill-opacity:0\" cx=\"1777.16\" cy=\"951.554\" r=\"2\"/>\n<circle clip-path=\"url(#clip812)\" style=\"fill:#009af9; stroke:none; fill-opacity:0\" cx=\"1818.8\" cy=\"1167.9\" r=\"2\"/>\n<circle clip-path=\"url(#clip812)\" style=\"fill:#009af9; stroke:none; fill-opacity:0\" cx=\"1860.45\" cy=\"518.87\" r=\"2\"/>\n<circle clip-path=\"url(#clip812)\" style=\"fill:#009af9; stroke:none; fill-opacity:0\" cx=\"1902.09\" cy=\"951.554\" r=\"2\"/>\n<circle clip-path=\"url(#clip812)\" style=\"fill:#009af9; stroke:none; fill-opacity:0\" cx=\"1943.73\" cy=\"951.554\" r=\"2\"/>\n<circle clip-path=\"url(#clip812)\" style=\"fill:#009af9; stroke:none; fill-opacity:0\" cx=\"1985.37\" cy=\"1167.9\" r=\"2\"/>\n<circle clip-path=\"url(#clip812)\" style=\"fill:#009af9; stroke:none; fill-opacity:0\" cx=\"2027.02\" cy=\"86.1857\" r=\"2\"/>\n<circle clip-path=\"url(#clip812)\" style=\"fill:#009af9; stroke:none; fill-opacity:0\" cx=\"2068.66\" cy=\"735.212\" r=\"2\"/>\n<circle clip-path=\"url(#clip812)\" style=\"fill:#009af9; stroke:none; fill-opacity:0\" cx=\"2110.3\" cy=\"951.554\" r=\"2\"/>\n<circle clip-path=\"url(#clip812)\" style=\"fill:#009af9; stroke:none; fill-opacity:0\" cx=\"2151.94\" cy=\"1384.24\" r=\"2\"/>\n<circle clip-path=\"url(#clip812)\" style=\"fill:#009af9; stroke:none; fill-opacity:0\" cx=\"2193.59\" cy=\"1167.9\" r=\"2\"/>\n<circle clip-path=\"url(#clip812)\" style=\"fill:#009af9; stroke:none; fill-opacity:0\" cx=\"2235.23\" cy=\"951.554\" r=\"2\"/>\n<circle clip-path=\"url(#clip812)\" style=\"fill:#009af9; stroke:none; fill-opacity:0\" cx=\"2276.87\" cy=\"518.87\" r=\"2\"/>\n<circle clip-path=\"url(#clip812)\" style=\"fill:#009af9; stroke:none; fill-opacity:0\" cx=\"2318.51\" cy=\"951.554\" r=\"2\"/>\n</svg>\n"
     },
     "execution_count": 73,
     "metadata": {},
     "output_type": "execute_result"
    }
   ],
   "source": [
    "using Statistics # bring in statistical support for standard deviations\n",
    "t = c_bench.times / 1e6 # times in milliseconds\n",
    "m, σ = minimum(t), std(t)\n",
    "\n",
    "histogram(t, bins=500,\n",
    "    xlim=(m - 0.01, m + σ),\n",
    "    xlabel=\"milliseconds\", ylabel=\"count\", label=\"\")"
   ]
  },
  {
   "cell_type": "markdown",
   "metadata": {},
   "source": [
    "# 2. C with -ffast-math\n",
    "\n",
    "If we allow C to re-arrange the floating point operations, then it'll vectorize with SIMD (single instruction, multiple data) instructions."
   ]
  },
  {
   "cell_type": "code",
   "execution_count": 74,
   "metadata": {},
   "outputs": [
    {
     "data": {
      "text/plain": [
       "c_sum_fastmath (generic function with 1 method)"
      ]
     },
     "execution_count": 74,
     "metadata": {},
     "output_type": "execute_result"
    }
   ],
   "source": [
    "const Clib_fastmath = tempname()   # make a temporary file\n",
    "\n",
    "# The same as above but with a -ffast-math flag added\n",
    "open(`gcc -fPIC -O3 -msse3 -xc -shared -ffast-math -o $(Clib_fastmath * \".\" * Libdl.dlext) -`, \"w\") do f\n",
    "    print(f, C_code) \n",
    "end\n",
    "\n",
    "# define a Julia function that calls the C function:\n",
    "c_sum_fastmath(X::Array{Float64}) = ccall((\"c_sum\", Clib_fastmath), Float64, (Csize_t, Ptr{Float64}), length(X), X)"
   ]
  },
  {
   "cell_type": "code",
   "execution_count": 75,
   "metadata": {},
   "outputs": [
    {
     "data": {
      "text/plain": [
       "BenchmarkTools.Trial: 969 samples with 1 evaluation.\n",
       " Range \u001b[90m(\u001b[39m\u001b[36m\u001b[1mmin\u001b[22m\u001b[39m … \u001b[35mmax\u001b[39m\u001b[90m):  \u001b[39m\u001b[36m\u001b[1m4.404 ms\u001b[22m\u001b[39m … \u001b[35m 16.716 ms\u001b[39m  \u001b[90m┊\u001b[39m GC \u001b[90m(\u001b[39mmin … max\u001b[90m): \u001b[39m0.00% … 0.00%\n",
       " Time  \u001b[90m(\u001b[39m\u001b[34m\u001b[1mmedian\u001b[22m\u001b[39m\u001b[90m):     \u001b[39m\u001b[34m\u001b[1m4.889 ms               \u001b[22m\u001b[39m\u001b[90m┊\u001b[39m GC \u001b[90m(\u001b[39mmedian\u001b[90m):    \u001b[39m0.00%\n",
       " Time  \u001b[90m(\u001b[39m\u001b[32m\u001b[1mmean\u001b[22m\u001b[39m ± \u001b[32mσ\u001b[39m\u001b[90m):   \u001b[39m\u001b[32m\u001b[1m5.145 ms\u001b[22m\u001b[39m ± \u001b[32m839.573 μs\u001b[39m  \u001b[90m┊\u001b[39m GC \u001b[90m(\u001b[39mmean ± σ\u001b[90m):  \u001b[39m0.00% ± 0.00%\n",
       "\n",
       "  \u001b[39m \u001b[39m▆\u001b[39m█\u001b[39m█\u001b[39m▅\u001b[39m▃\u001b[39m█\u001b[39m▅\u001b[39m▁\u001b[34m▂\u001b[39m\u001b[39m \u001b[39m \u001b[39m \u001b[32m \u001b[39m\u001b[39m \u001b[39m \u001b[39m \u001b[39m \u001b[39m \u001b[39m \u001b[39m \u001b[39m \u001b[39m \u001b[39m \u001b[39m \u001b[39m \u001b[39m \u001b[39m \u001b[39m \u001b[39m \u001b[39m \u001b[39m \u001b[39m \u001b[39m \u001b[39m \u001b[39m \u001b[39m \u001b[39m \u001b[39m \u001b[39m \u001b[39m \u001b[39m \u001b[39m \u001b[39m \u001b[39m \u001b[39m \u001b[39m \u001b[39m \u001b[39m \u001b[39m \u001b[39m \u001b[39m \u001b[39m \u001b[39m \u001b[39m \u001b[39m \u001b[39m \u001b[39m \u001b[39m \u001b[39m \u001b[39m \n",
       "  \u001b[39m▇\u001b[39m█\u001b[39m█\u001b[39m█\u001b[39m█\u001b[39m█\u001b[39m█\u001b[39m█\u001b[39m█\u001b[34m█\u001b[39m\u001b[39m█\u001b[39m█\u001b[39m▇\u001b[32m▇\u001b[39m\u001b[39m▇\u001b[39m▇\u001b[39m▇\u001b[39m▆\u001b[39m▅\u001b[39m▄\u001b[39m▅\u001b[39m▅\u001b[39m▆\u001b[39m▅\u001b[39m▅\u001b[39m▅\u001b[39m▃\u001b[39m▃\u001b[39m▃\u001b[39m▃\u001b[39m▄\u001b[39m▃\u001b[39m▃\u001b[39m▃\u001b[39m▃\u001b[39m▃\u001b[39m▃\u001b[39m▃\u001b[39m▃\u001b[39m▃\u001b[39m▃\u001b[39m▂\u001b[39m▃\u001b[39m▃\u001b[39m▂\u001b[39m▂\u001b[39m▁\u001b[39m▃\u001b[39m▃\u001b[39m▂\u001b[39m▂\u001b[39m▂\u001b[39m▂\u001b[39m▂\u001b[39m▂\u001b[39m▁\u001b[39m▂\u001b[39m▁\u001b[39m▂\u001b[39m \u001b[39m▄\n",
       "  4.4 ms\u001b[90m          Histogram: frequency by time\u001b[39m        7.73 ms \u001b[0m\u001b[1m<\u001b[22m\n",
       "\n",
       " Memory estimate\u001b[90m: \u001b[39m\u001b[33m0 bytes\u001b[39m, allocs estimate\u001b[90m: \u001b[39m\u001b[33m0\u001b[39m."
      ]
     },
     "execution_count": 75,
     "metadata": {},
     "output_type": "execute_result"
    }
   ],
   "source": [
    "c_fastmath_bench = @benchmark $c_sum_fastmath($a)"
   ]
  },
  {
   "cell_type": "code",
   "execution_count": 76,
   "metadata": {},
   "outputs": [
    {
     "data": {
      "text/plain": [
       "4.403606"
      ]
     },
     "execution_count": 76,
     "metadata": {},
     "output_type": "execute_result"
    }
   ],
   "source": [
    "d[\"C -ffast-math\"] = minimum(c_fastmath_bench.times) / 1e6  # in milliseconds"
   ]
  },
  {
   "cell_type": "markdown",
   "metadata": {},
   "source": [
    "# 3. Python's built in `sum` "
   ]
  },
  {
   "cell_type": "markdown",
   "metadata": {},
   "source": [
    "The `PyCall` package provides a Julia interface to Python:"
   ]
  },
  {
   "cell_type": "code",
   "execution_count": 77,
   "metadata": {
    "scrolled": true
   },
   "outputs": [
    {
     "name": "stderr",
     "output_type": "stream",
     "text": [
      "\u001b[32m\u001b[1m   Resolving\u001b[22m\u001b[39m package versions...\n",
      "\u001b[32m\u001b[1m  No Changes\u001b[22m\u001b[39m to `~/GitHub/Introduction-to-Julia/Project.toml`\n",
      "\u001b[32m\u001b[1m  No Changes\u001b[22m\u001b[39m to `~/GitHub/Introduction-to-Julia/Manifest.toml`\n"
     ]
    }
   ],
   "source": [
    "using Pkg; Pkg.add(\"PyCall\")\n",
    "using PyCall"
   ]
  },
  {
   "cell_type": "code",
   "execution_count": 78,
   "metadata": {},
   "outputs": [
    {
     "data": {
      "text/plain": [
       "PyObject <built-in function sum>"
      ]
     },
     "execution_count": 78,
     "metadata": {},
     "output_type": "execute_result"
    }
   ],
   "source": [
    "# get the Python built-in \"sum\" function:\n",
    "pysum = pybuiltin(\"sum\")"
   ]
  },
  {
   "cell_type": "code",
   "execution_count": 79,
   "metadata": {},
   "outputs": [
    {
     "data": {
      "text/plain": [
       "4.999429150121625e6"
      ]
     },
     "execution_count": 79,
     "metadata": {},
     "output_type": "execute_result"
    }
   ],
   "source": [
    "pysum(a)"
   ]
  },
  {
   "cell_type": "code",
   "execution_count": 80,
   "metadata": {},
   "outputs": [
    {
     "data": {
      "text/plain": [
       "true"
      ]
     },
     "execution_count": 80,
     "metadata": {},
     "output_type": "execute_result"
    }
   ],
   "source": [
    "pysum(a) ≈ sum(a)"
   ]
  },
  {
   "cell_type": "code",
   "execution_count": 81,
   "metadata": {},
   "outputs": [
    {
     "data": {
      "text/plain": [
       "BenchmarkTools.Trial: 8 samples with 1 evaluation.\n",
       " Range \u001b[90m(\u001b[39m\u001b[36m\u001b[1mmin\u001b[22m\u001b[39m … \u001b[35mmax\u001b[39m\u001b[90m):  \u001b[39m\u001b[36m\u001b[1m682.615 ms\u001b[22m\u001b[39m … \u001b[35m716.844 ms\u001b[39m  \u001b[90m┊\u001b[39m GC \u001b[90m(\u001b[39mmin … max\u001b[90m): \u001b[39m0.00% … 0.00%\n",
       " Time  \u001b[90m(\u001b[39m\u001b[34m\u001b[1mmedian\u001b[22m\u001b[39m\u001b[90m):     \u001b[39m\u001b[34m\u001b[1m697.353 ms               \u001b[22m\u001b[39m\u001b[90m┊\u001b[39m GC \u001b[90m(\u001b[39mmedian\u001b[90m):    \u001b[39m0.00%\n",
       " Time  \u001b[90m(\u001b[39m\u001b[32m\u001b[1mmean\u001b[22m\u001b[39m ± \u001b[32mσ\u001b[39m\u001b[90m):   \u001b[39m\u001b[32m\u001b[1m697.610 ms\u001b[22m\u001b[39m ± \u001b[32m 10.821 ms\u001b[39m  \u001b[90m┊\u001b[39m GC \u001b[90m(\u001b[39mmean ± σ\u001b[90m):  \u001b[39m0.00% ± 0.00%\n",
       "\n",
       "  \u001b[39m█\u001b[39m \u001b[39m \u001b[39m \u001b[39m \u001b[39m \u001b[39m \u001b[39m \u001b[39m \u001b[39m \u001b[39m█\u001b[39m \u001b[39m \u001b[39m \u001b[39m█\u001b[39m \u001b[39m \u001b[39m \u001b[39m \u001b[39m \u001b[39m \u001b[39m \u001b[39m█\u001b[34m \u001b[39m\u001b[39m \u001b[39m \u001b[39m \u001b[32m \u001b[39m\u001b[39m \u001b[39m \u001b[39m█\u001b[39m \u001b[39m \u001b[39m \u001b[39m \u001b[39m \u001b[39m█\u001b[39m \u001b[39m \u001b[39m█\u001b[39m \u001b[39m \u001b[39m \u001b[39m \u001b[39m \u001b[39m \u001b[39m \u001b[39m \u001b[39m \u001b[39m \u001b[39m \u001b[39m \u001b[39m \u001b[39m \u001b[39m \u001b[39m \u001b[39m \u001b[39m \u001b[39m \u001b[39m \u001b[39m█\u001b[39m \u001b[39m \n",
       "  \u001b[39m█\u001b[39m▁\u001b[39m▁\u001b[39m▁\u001b[39m▁\u001b[39m▁\u001b[39m▁\u001b[39m▁\u001b[39m▁\u001b[39m▁\u001b[39m█\u001b[39m▁\u001b[39m▁\u001b[39m▁\u001b[39m█\u001b[39m▁\u001b[39m▁\u001b[39m▁\u001b[39m▁\u001b[39m▁\u001b[39m▁\u001b[39m▁\u001b[39m█\u001b[34m▁\u001b[39m\u001b[39m▁\u001b[39m▁\u001b[39m▁\u001b[32m▁\u001b[39m\u001b[39m▁\u001b[39m▁\u001b[39m█\u001b[39m▁\u001b[39m▁\u001b[39m▁\u001b[39m▁\u001b[39m▁\u001b[39m█\u001b[39m▁\u001b[39m▁\u001b[39m█\u001b[39m▁\u001b[39m▁\u001b[39m▁\u001b[39m▁\u001b[39m▁\u001b[39m▁\u001b[39m▁\u001b[39m▁\u001b[39m▁\u001b[39m▁\u001b[39m▁\u001b[39m▁\u001b[39m▁\u001b[39m▁\u001b[39m▁\u001b[39m▁\u001b[39m▁\u001b[39m▁\u001b[39m▁\u001b[39m▁\u001b[39m█\u001b[39m \u001b[39m▁\n",
       "  683 ms\u001b[90m           Histogram: frequency by time\u001b[39m          717 ms \u001b[0m\u001b[1m<\u001b[22m\n",
       "\n",
       " Memory estimate\u001b[90m: \u001b[39m\u001b[33m240 bytes\u001b[39m, allocs estimate\u001b[90m: \u001b[39m\u001b[33m6\u001b[39m."
      ]
     },
     "execution_count": 81,
     "metadata": {},
     "output_type": "execute_result"
    }
   ],
   "source": [
    "py_list_bench = @benchmark $pysum($a)"
   ]
  },
  {
   "cell_type": "code",
   "execution_count": 82,
   "metadata": {},
   "outputs": [
    {
     "data": {
      "text/plain": [
       "Dict{Any, Any} with 3 entries:\n",
       "  \"C\"               => 12.7404\n",
       "  \"Python built-in\" => 682.615\n",
       "  \"C -ffast-math\"   => 4.40361"
      ]
     },
     "execution_count": 82,
     "metadata": {},
     "output_type": "execute_result"
    }
   ],
   "source": [
    "d[\"Python built-in\"] = minimum(py_list_bench.times) / 1e6\n",
    "d"
   ]
  },
  {
   "cell_type": "markdown",
   "metadata": {},
   "source": [
    "# 4. Python: `numpy` \n",
    "\n",
    "## Takes advantage of hardware \"SIMD\", but only works when it works.\n",
    "\n",
    "`numpy` is an optimized C library, callable from Python.\n",
    "It may be installed within Julia as follows:"
   ]
  },
  {
   "cell_type": "code",
   "execution_count": 83,
   "metadata": {},
   "outputs": [
    {
     "name": "stderr",
     "output_type": "stream",
     "text": [
      "\u001b[32m\u001b[1m   Resolving\u001b[22m\u001b[39m package versions...\n",
      "\u001b[32m\u001b[1m  No Changes\u001b[22m\u001b[39m to `~/GitHub/Introduction-to-Julia/Project.toml`\n",
      "\u001b[32m\u001b[1m  No Changes\u001b[22m\u001b[39m to `~/GitHub/Introduction-to-Julia/Manifest.toml`\n"
     ]
    }
   ],
   "source": [
    "using Pkg; Pkg.add(\"Conda\")\n",
    "using Conda"
   ]
  },
  {
   "cell_type": "code",
   "execution_count": 84,
   "metadata": {},
   "outputs": [
    {
     "name": "stderr",
     "output_type": "stream",
     "text": [
      "\u001b[36m\u001b[1m[ \u001b[22m\u001b[39m\u001b[36m\u001b[1mInfo: \u001b[22m\u001b[39mRunning `conda install -y numpy` in root environment\n"
     ]
    },
    {
     "name": "stdout",
     "output_type": "stream",
     "text": [
      "Collecting package metadata (current_repodata.json): ...working... done\n",
      "Solving environment: ...working... done\n",
      "\n",
      "# All requested packages already installed.\n",
      "\n"
     ]
    }
   ],
   "source": [
    "Conda.add(\"numpy\")"
   ]
  },
  {
   "cell_type": "code",
   "execution_count": 85,
   "metadata": {},
   "outputs": [
    {
     "data": {
      "text/plain": [
       "BenchmarkTools.Trial: 1026 samples with 1 evaluation.\n",
       " Range \u001b[90m(\u001b[39m\u001b[36m\u001b[1mmin\u001b[22m\u001b[39m … \u001b[35mmax\u001b[39m\u001b[90m):  \u001b[39m\u001b[36m\u001b[1m3.845 ms\u001b[22m\u001b[39m … \u001b[35m 10.854 ms\u001b[39m  \u001b[90m┊\u001b[39m GC \u001b[90m(\u001b[39mmin … max\u001b[90m): \u001b[39m0.00% … 0.00%\n",
       " Time  \u001b[90m(\u001b[39m\u001b[34m\u001b[1mmedian\u001b[22m\u001b[39m\u001b[90m):     \u001b[39m\u001b[34m\u001b[1m4.686 ms               \u001b[22m\u001b[39m\u001b[90m┊\u001b[39m GC \u001b[90m(\u001b[39mmedian\u001b[90m):    \u001b[39m0.00%\n",
       " Time  \u001b[90m(\u001b[39m\u001b[32m\u001b[1mmean\u001b[22m\u001b[39m ± \u001b[32mσ\u001b[39m\u001b[90m):   \u001b[39m\u001b[32m\u001b[1m4.865 ms\u001b[22m\u001b[39m ± \u001b[32m629.210 μs\u001b[39m  \u001b[90m┊\u001b[39m GC \u001b[90m(\u001b[39mmean ± σ\u001b[90m):  \u001b[39m0.00% ± 0.00%\n",
       "\n",
       "  \u001b[39m \u001b[39m \u001b[39m \u001b[39m \u001b[39m \u001b[39m \u001b[39m \u001b[39m \u001b[39m \u001b[39m \u001b[39m \u001b[39m▇\u001b[39m▆\u001b[39m█\u001b[39m█\u001b[39m▃\u001b[34m▄\u001b[39m\u001b[39m▁\u001b[39m▄\u001b[32m \u001b[39m\u001b[39m \u001b[39m \u001b[39m \u001b[39m \u001b[39m \u001b[39m \u001b[39m \u001b[39m \u001b[39m \u001b[39m \u001b[39m \u001b[39m \u001b[39m \u001b[39m \u001b[39m \u001b[39m \u001b[39m \u001b[39m \u001b[39m \u001b[39m \u001b[39m \u001b[39m \u001b[39m \u001b[39m \u001b[39m \u001b[39m \u001b[39m \u001b[39m \u001b[39m \u001b[39m \u001b[39m \u001b[39m \u001b[39m \u001b[39m \u001b[39m \u001b[39m \u001b[39m \u001b[39m \u001b[39m \u001b[39m \u001b[39m \n",
       "  \u001b[39m▃\u001b[39m▃\u001b[39m▃\u001b[39m▃\u001b[39m▃\u001b[39m▃\u001b[39m▅\u001b[39m▅\u001b[39m▅\u001b[39m█\u001b[39m█\u001b[39m█\u001b[39m█\u001b[39m█\u001b[39m█\u001b[39m█\u001b[34m█\u001b[39m\u001b[39m█\u001b[39m█\u001b[32m▆\u001b[39m\u001b[39m▅\u001b[39m▆\u001b[39m▆\u001b[39m▆\u001b[39m▅\u001b[39m▆\u001b[39m▆\u001b[39m▅\u001b[39m▄\u001b[39m▅\u001b[39m▄\u001b[39m▃\u001b[39m▄\u001b[39m▄\u001b[39m▃\u001b[39m▄\u001b[39m▃\u001b[39m▄\u001b[39m▄\u001b[39m▃\u001b[39m▃\u001b[39m▃\u001b[39m▃\u001b[39m▃\u001b[39m▃\u001b[39m▃\u001b[39m▃\u001b[39m▁\u001b[39m▂\u001b[39m▃\u001b[39m▂\u001b[39m▂\u001b[39m▃\u001b[39m▂\u001b[39m▂\u001b[39m▁\u001b[39m▂\u001b[39m▁\u001b[39m▂\u001b[39m \u001b[39m▄\n",
       "  3.84 ms\u001b[90m         Histogram: frequency by time\u001b[39m        6.94 ms \u001b[0m\u001b[1m<\u001b[22m\n",
       "\n",
       " Memory estimate\u001b[90m: \u001b[39m\u001b[33m240 bytes\u001b[39m, allocs estimate\u001b[90m: \u001b[39m\u001b[33m6\u001b[39m."
      ]
     },
     "execution_count": 85,
     "metadata": {},
     "output_type": "execute_result"
    }
   ],
   "source": [
    "numpy_sum = pyimport(\"numpy\")[\"sum\"]\n",
    "\n",
    "py_numpy_bench = @benchmark $numpy_sum($a)"
   ]
  },
  {
   "cell_type": "code",
   "execution_count": 86,
   "metadata": {},
   "outputs": [
    {
     "data": {
      "text/plain": [
       "4.999429150121712e6"
      ]
     },
     "execution_count": 86,
     "metadata": {},
     "output_type": "execute_result"
    }
   ],
   "source": [
    "numpy_sum(a)"
   ]
  },
  {
   "cell_type": "code",
   "execution_count": 87,
   "metadata": {},
   "outputs": [
    {
     "data": {
      "text/plain": [
       "true"
      ]
     },
     "execution_count": 87,
     "metadata": {},
     "output_type": "execute_result"
    }
   ],
   "source": [
    "numpy_sum(a) ≈ sum(a)"
   ]
  },
  {
   "cell_type": "code",
   "execution_count": 88,
   "metadata": {
    "scrolled": true
   },
   "outputs": [
    {
     "data": {
      "text/plain": [
       "Dict{Any, Any} with 4 entries:\n",
       "  \"C\"               => 12.7404\n",
       "  \"Python numpy\"    => 3.84477\n",
       "  \"Python built-in\" => 682.615\n",
       "  \"C -ffast-math\"   => 4.40361"
      ]
     },
     "execution_count": 88,
     "metadata": {},
     "output_type": "execute_result"
    }
   ],
   "source": [
    "d[\"Python numpy\"] = minimum(py_numpy_bench.times) / 1e6\n",
    "d"
   ]
  },
  {
   "cell_type": "markdown",
   "metadata": {},
   "source": [
    "# 5. Python, hand-written "
   ]
  },
  {
   "cell_type": "code",
   "execution_count": 89,
   "metadata": {},
   "outputs": [
    {
     "data": {
      "text/plain": [
       "PyObject <function py_sum at 0x11078b130>"
      ]
     },
     "execution_count": 89,
     "metadata": {},
     "output_type": "execute_result"
    }
   ],
   "source": [
    "py\"\"\"\n",
    "def py_sum(A):\n",
    "    s = 0.0\n",
    "    for a in A:\n",
    "        s += a\n",
    "    return s\n",
    "\"\"\"\n",
    "\n",
    "sum_py = py\"py_sum\""
   ]
  },
  {
   "cell_type": "code",
   "execution_count": 90,
   "metadata": {},
   "outputs": [
    {
     "data": {
      "text/plain": [
       "BenchmarkTools.Trial: 6 samples with 1 evaluation.\n",
       " Range \u001b[90m(\u001b[39m\u001b[36m\u001b[1mmin\u001b[22m\u001b[39m … \u001b[35mmax\u001b[39m\u001b[90m):  \u001b[39m\u001b[36m\u001b[1m830.661 ms\u001b[22m\u001b[39m … \u001b[35m  1.055 s\u001b[39m  \u001b[90m┊\u001b[39m GC \u001b[90m(\u001b[39mmin … max\u001b[90m): \u001b[39m0.00% … 0.00%\n",
       " Time  \u001b[90m(\u001b[39m\u001b[34m\u001b[1mmedian\u001b[22m\u001b[39m\u001b[90m):     \u001b[39m\u001b[34m\u001b[1m976.383 ms              \u001b[22m\u001b[39m\u001b[90m┊\u001b[39m GC \u001b[90m(\u001b[39mmedian\u001b[90m):    \u001b[39m0.00%\n",
       " Time  \u001b[90m(\u001b[39m\u001b[32m\u001b[1mmean\u001b[22m\u001b[39m ± \u001b[32mσ\u001b[39m\u001b[90m):   \u001b[39m\u001b[32m\u001b[1m944.344 ms\u001b[22m\u001b[39m ± \u001b[32m89.980 ms\u001b[39m  \u001b[90m┊\u001b[39m GC \u001b[90m(\u001b[39mmean ± σ\u001b[90m):  \u001b[39m0.00% ± 0.00%\n",
       "\n",
       "  \u001b[39m█\u001b[39m \u001b[39m█\u001b[39m \u001b[39m \u001b[39m \u001b[39m \u001b[39m \u001b[39m \u001b[39m \u001b[39m \u001b[39m \u001b[39m \u001b[39m \u001b[39m \u001b[39m \u001b[39m \u001b[39m \u001b[39m \u001b[39m \u001b[39m \u001b[39m \u001b[39m \u001b[39m \u001b[39m \u001b[39m \u001b[39m \u001b[39m \u001b[39m \u001b[39m \u001b[32m \u001b[39m\u001b[39m \u001b[39m \u001b[39m \u001b[39m \u001b[39m \u001b[34m█\u001b[39m\u001b[39m \u001b[39m \u001b[39m \u001b[39m \u001b[39m█\u001b[39m█\u001b[39m \u001b[39m \u001b[39m \u001b[39m \u001b[39m \u001b[39m \u001b[39m \u001b[39m \u001b[39m \u001b[39m \u001b[39m \u001b[39m \u001b[39m \u001b[39m \u001b[39m \u001b[39m \u001b[39m█\u001b[39m \u001b[39m \n",
       "  \u001b[39m█\u001b[39m▁\u001b[39m█\u001b[39m▁\u001b[39m▁\u001b[39m▁\u001b[39m▁\u001b[39m▁\u001b[39m▁\u001b[39m▁\u001b[39m▁\u001b[39m▁\u001b[39m▁\u001b[39m▁\u001b[39m▁\u001b[39m▁\u001b[39m▁\u001b[39m▁\u001b[39m▁\u001b[39m▁\u001b[39m▁\u001b[39m▁\u001b[39m▁\u001b[39m▁\u001b[39m▁\u001b[39m▁\u001b[39m▁\u001b[39m▁\u001b[39m▁\u001b[39m▁\u001b[32m▁\u001b[39m\u001b[39m▁\u001b[39m▁\u001b[39m▁\u001b[39m▁\u001b[39m▁\u001b[34m█\u001b[39m\u001b[39m▁\u001b[39m▁\u001b[39m▁\u001b[39m▁\u001b[39m█\u001b[39m█\u001b[39m▁\u001b[39m▁\u001b[39m▁\u001b[39m▁\u001b[39m▁\u001b[39m▁\u001b[39m▁\u001b[39m▁\u001b[39m▁\u001b[39m▁\u001b[39m▁\u001b[39m▁\u001b[39m▁\u001b[39m▁\u001b[39m▁\u001b[39m▁\u001b[39m█\u001b[39m \u001b[39m▁\n",
       "  831 ms\u001b[90m          Histogram: frequency by time\u001b[39m          1.05 s \u001b[0m\u001b[1m<\u001b[22m\n",
       "\n",
       " Memory estimate\u001b[90m: \u001b[39m\u001b[33m240 bytes\u001b[39m, allocs estimate\u001b[90m: \u001b[39m\u001b[33m6\u001b[39m."
      ]
     },
     "execution_count": 90,
     "metadata": {},
     "output_type": "execute_result"
    }
   ],
   "source": [
    "py_hand = @benchmark $sum_py($a)"
   ]
  },
  {
   "cell_type": "code",
   "execution_count": 91,
   "metadata": {},
   "outputs": [
    {
     "data": {
      "text/plain": [
       "4.999429150121625e6"
      ]
     },
     "execution_count": 91,
     "metadata": {},
     "output_type": "execute_result"
    }
   ],
   "source": [
    "sum_py(a)"
   ]
  },
  {
   "cell_type": "code",
   "execution_count": 92,
   "metadata": {},
   "outputs": [
    {
     "data": {
      "text/plain": [
       "true"
      ]
     },
     "execution_count": 92,
     "metadata": {},
     "output_type": "execute_result"
    }
   ],
   "source": [
    "sum_py(a) ≈ sum(a)"
   ]
  },
  {
   "cell_type": "code",
   "execution_count": 93,
   "metadata": {
    "scrolled": true
   },
   "outputs": [
    {
     "data": {
      "text/plain": [
       "Dict{Any, Any} with 5 entries:\n",
       "  \"C\"                   => 12.7404\n",
       "  \"Python numpy\"        => 3.84477\n",
       "  \"Python hand-written\" => 830.661\n",
       "  \"Python built-in\"     => 682.615\n",
       "  \"C -ffast-math\"       => 4.40361"
      ]
     },
     "execution_count": 93,
     "metadata": {},
     "output_type": "execute_result"
    }
   ],
   "source": [
    "d[\"Python hand-written\"] = minimum(py_hand.times) / 1e6\n",
    "d"
   ]
  },
  {
   "cell_type": "markdown",
   "metadata": {},
   "source": [
    "# 6. Julia (built-in) \n",
    "\n",
    "## Written directly in Julia, not in C!"
   ]
  },
  {
   "cell_type": "code",
   "execution_count": 94,
   "metadata": {},
   "outputs": [
    {
     "data": {
      "text/html": [
       "sum(a::<b>AbstractArray</b>; <i>dims, kw...</i>) in Base at <a href=\"https://github.com/JuliaLang/julia/tree/17cfb8e65ead377bf1b4598d8a9869144142c84e/base/reducedim.jl#L994\" target=\"_blank\">reducedim.jl:994</a>"
      ],
      "text/plain": [
       "sum(a::AbstractArray; dims, kw...) in Base at reducedim.jl:994"
      ]
     },
     "execution_count": 94,
     "metadata": {},
     "output_type": "execute_result"
    }
   ],
   "source": [
    "@which sum(a)"
   ]
  },
  {
   "cell_type": "code",
   "execution_count": 95,
   "metadata": {},
   "outputs": [
    {
     "data": {
      "text/plain": [
       "BenchmarkTools.Trial: 946 samples with 1 evaluation.\n",
       " Range \u001b[90m(\u001b[39m\u001b[36m\u001b[1mmin\u001b[22m\u001b[39m … \u001b[35mmax\u001b[39m\u001b[90m):  \u001b[39m\u001b[36m\u001b[1m4.299 ms\u001b[22m\u001b[39m … \u001b[35m 10.905 ms\u001b[39m  \u001b[90m┊\u001b[39m GC \u001b[90m(\u001b[39mmin … max\u001b[90m): \u001b[39m0.00% … 0.00%\n",
       " Time  \u001b[90m(\u001b[39m\u001b[34m\u001b[1mmedian\u001b[22m\u001b[39m\u001b[90m):     \u001b[39m\u001b[34m\u001b[1m5.132 ms               \u001b[22m\u001b[39m\u001b[90m┊\u001b[39m GC \u001b[90m(\u001b[39mmedian\u001b[90m):    \u001b[39m0.00%\n",
       " Time  \u001b[90m(\u001b[39m\u001b[32m\u001b[1mmean\u001b[22m\u001b[39m ± \u001b[32mσ\u001b[39m\u001b[90m):   \u001b[39m\u001b[32m\u001b[1m5.271 ms\u001b[22m\u001b[39m ± \u001b[32m641.300 μs\u001b[39m  \u001b[90m┊\u001b[39m GC \u001b[90m(\u001b[39mmean ± σ\u001b[90m):  \u001b[39m0.00% ± 0.00%\n",
       "\n",
       "  \u001b[39m \u001b[39m \u001b[39m \u001b[39m \u001b[39m \u001b[39m \u001b[39m \u001b[39m \u001b[39m \u001b[39m▁\u001b[39m▃\u001b[39m▄\u001b[39m█\u001b[34m▆\u001b[39m\u001b[39m▃\u001b[32m▁\u001b[39m\u001b[39m \u001b[39m \u001b[39m \u001b[39m \u001b[39m \u001b[39m \u001b[39m \u001b[39m \u001b[39m \u001b[39m \u001b[39m \u001b[39m \u001b[39m \u001b[39m \u001b[39m \u001b[39m \u001b[39m \u001b[39m \u001b[39m \u001b[39m \u001b[39m \u001b[39m \u001b[39m \u001b[39m \u001b[39m \u001b[39m \u001b[39m \u001b[39m \u001b[39m \u001b[39m \u001b[39m \u001b[39m \u001b[39m \u001b[39m \u001b[39m \u001b[39m \u001b[39m \u001b[39m \u001b[39m \u001b[39m \u001b[39m \u001b[39m \u001b[39m \u001b[39m \u001b[39m \n",
       "  \u001b[39m▂\u001b[39m▄\u001b[39m▂\u001b[39m▅\u001b[39m▇\u001b[39m▇\u001b[39m▇\u001b[39m▅\u001b[39m▇\u001b[39m█\u001b[39m█\u001b[39m█\u001b[39m█\u001b[34m█\u001b[39m\u001b[39m█\u001b[32m█\u001b[39m\u001b[39m▇\u001b[39m▆\u001b[39m▆\u001b[39m▅\u001b[39m▃\u001b[39m▅\u001b[39m▅\u001b[39m▄\u001b[39m▄\u001b[39m▅\u001b[39m▄\u001b[39m▄\u001b[39m▄\u001b[39m▂\u001b[39m▄\u001b[39m▃\u001b[39m▃\u001b[39m▃\u001b[39m▂\u001b[39m▂\u001b[39m▂\u001b[39m▂\u001b[39m▁\u001b[39m▂\u001b[39m▁\u001b[39m▂\u001b[39m▂\u001b[39m▁\u001b[39m▂\u001b[39m▁\u001b[39m▂\u001b[39m▁\u001b[39m▂\u001b[39m▂\u001b[39m▁\u001b[39m▂\u001b[39m▂\u001b[39m▁\u001b[39m▁\u001b[39m▁\u001b[39m▂\u001b[39m▂\u001b[39m▂\u001b[39m \u001b[39m▃\n",
       "  4.3 ms\u001b[90m          Histogram: frequency by time\u001b[39m        8.02 ms \u001b[0m\u001b[1m<\u001b[22m\n",
       "\n",
       " Memory estimate\u001b[90m: \u001b[39m\u001b[33m0 bytes\u001b[39m, allocs estimate\u001b[90m: \u001b[39m\u001b[33m0\u001b[39m."
      ]
     },
     "execution_count": 95,
     "metadata": {},
     "output_type": "execute_result"
    }
   ],
   "source": [
    "j_bench = @benchmark sum($a)"
   ]
  },
  {
   "cell_type": "code",
   "execution_count": 96,
   "metadata": {
    "scrolled": true
   },
   "outputs": [
    {
     "data": {
      "text/plain": [
       "Dict{Any, Any} with 6 entries:\n",
       "  \"C\"                   => 12.7404\n",
       "  \"Python numpy\"        => 3.84477\n",
       "  \"Python hand-written\" => 830.661\n",
       "  \"Python built-in\"     => 682.615\n",
       "  \"Julia built-in\"      => 4.29915\n",
       "  \"C -ffast-math\"       => 4.40361"
      ]
     },
     "execution_count": 96,
     "metadata": {},
     "output_type": "execute_result"
    }
   ],
   "source": [
    "d[\"Julia built-in\"] = minimum(j_bench.times) / 1e6\n",
    "d"
   ]
  },
  {
   "cell_type": "markdown",
   "metadata": {},
   "source": [
    "# 7. Julia (hand-written) "
   ]
  },
  {
   "cell_type": "code",
   "execution_count": 97,
   "metadata": {
    "scrolled": true
   },
   "outputs": [
    {
     "data": {
      "text/plain": [
       "mysum (generic function with 1 method)"
      ]
     },
     "execution_count": 97,
     "metadata": {},
     "output_type": "execute_result"
    }
   ],
   "source": [
    "function mysum(A)   \n",
    "    s = 0.0 # s = zero(eltype(a))\n",
    "    for a in A\n",
    "        s += a\n",
    "    end\n",
    "    s\n",
    "end"
   ]
  },
  {
   "cell_type": "code",
   "execution_count": 98,
   "metadata": {},
   "outputs": [
    {
     "data": {
      "text/plain": [
       "BenchmarkTools.Trial: 375 samples with 1 evaluation.\n",
       " Range \u001b[90m(\u001b[39m\u001b[36m\u001b[1mmin\u001b[22m\u001b[39m … \u001b[35mmax\u001b[39m\u001b[90m):  \u001b[39m\u001b[36m\u001b[1m11.766 ms\u001b[22m\u001b[39m … \u001b[35m24.994 ms\u001b[39m  \u001b[90m┊\u001b[39m GC \u001b[90m(\u001b[39mmin … max\u001b[90m): \u001b[39m0.00% … 0.00%\n",
       " Time  \u001b[90m(\u001b[39m\u001b[34m\u001b[1mmedian\u001b[22m\u001b[39m\u001b[90m):     \u001b[39m\u001b[34m\u001b[1m12.899 ms              \u001b[22m\u001b[39m\u001b[90m┊\u001b[39m GC \u001b[90m(\u001b[39mmedian\u001b[90m):    \u001b[39m0.00%\n",
       " Time  \u001b[90m(\u001b[39m\u001b[32m\u001b[1mmean\u001b[22m\u001b[39m ± \u001b[32mσ\u001b[39m\u001b[90m):   \u001b[39m\u001b[32m\u001b[1m13.316 ms\u001b[22m\u001b[39m ± \u001b[32m 1.563 ms\u001b[39m  \u001b[90m┊\u001b[39m GC \u001b[90m(\u001b[39mmean ± σ\u001b[90m):  \u001b[39m0.00% ± 0.00%\n",
       "\n",
       "  \u001b[39m \u001b[39m \u001b[39m \u001b[39m▄\u001b[39m \u001b[39m \u001b[39m▁\u001b[39m█\u001b[34m \u001b[39m\u001b[39m \u001b[39m \u001b[39m \u001b[32m \u001b[39m\u001b[39m \u001b[39m \u001b[39m \u001b[39m \u001b[39m \u001b[39m \u001b[39m \u001b[39m \u001b[39m \u001b[39m \u001b[39m \u001b[39m \u001b[39m \u001b[39m \u001b[39m \u001b[39m \u001b[39m \u001b[39m \u001b[39m \u001b[39m \u001b[39m \u001b[39m \u001b[39m \u001b[39m \u001b[39m \u001b[39m \u001b[39m \u001b[39m \u001b[39m \u001b[39m \u001b[39m \u001b[39m \u001b[39m \u001b[39m \u001b[39m \u001b[39m \u001b[39m \u001b[39m \u001b[39m \u001b[39m \u001b[39m \u001b[39m \u001b[39m \u001b[39m \u001b[39m \u001b[39m \u001b[39m \u001b[39m \n",
       "  \u001b[39m▆\u001b[39m▃\u001b[39m▆\u001b[39m█\u001b[39m▅\u001b[39m▆\u001b[39m█\u001b[39m█\u001b[34m█\u001b[39m\u001b[39m█\u001b[39m█\u001b[39m▇\u001b[32m▇\u001b[39m\u001b[39m▆\u001b[39m▅\u001b[39m▄\u001b[39m▅\u001b[39m▄\u001b[39m▅\u001b[39m▃\u001b[39m▃\u001b[39m▃\u001b[39m▃\u001b[39m▃\u001b[39m▂\u001b[39m▁\u001b[39m▁\u001b[39m▁\u001b[39m▂\u001b[39m▃\u001b[39m▃\u001b[39m▂\u001b[39m▁\u001b[39m▁\u001b[39m▁\u001b[39m▁\u001b[39m▂\u001b[39m▂\u001b[39m▂\u001b[39m▁\u001b[39m▂\u001b[39m▁\u001b[39m▁\u001b[39m▁\u001b[39m▁\u001b[39m▂\u001b[39m▁\u001b[39m▁\u001b[39m▂\u001b[39m▂\u001b[39m▃\u001b[39m▁\u001b[39m▁\u001b[39m▁\u001b[39m▁\u001b[39m▂\u001b[39m▁\u001b[39m▁\u001b[39m▃\u001b[39m \u001b[39m▃\n",
       "  11.8 ms\u001b[90m         Histogram: frequency by time\u001b[39m        19.7 ms \u001b[0m\u001b[1m<\u001b[22m\n",
       "\n",
       " Memory estimate\u001b[90m: \u001b[39m\u001b[33m0 bytes\u001b[39m, allocs estimate\u001b[90m: \u001b[39m\u001b[33m0\u001b[39m."
      ]
     },
     "execution_count": 98,
     "metadata": {},
     "output_type": "execute_result"
    }
   ],
   "source": [
    "j_bench_hand = @benchmark mysum($a)"
   ]
  },
  {
   "cell_type": "code",
   "execution_count": 99,
   "metadata": {
    "scrolled": true
   },
   "outputs": [
    {
     "data": {
      "text/plain": [
       "Dict{Any, Any} with 7 entries:\n",
       "  \"C\"                   => 12.7404\n",
       "  \"Python numpy\"        => 3.84477\n",
       "  \"Julia hand-written\"  => 11.7657\n",
       "  \"Python hand-written\" => 830.661\n",
       "  \"Python built-in\"     => 682.615\n",
       "  \"Julia built-in\"      => 4.29915\n",
       "  \"C -ffast-math\"       => 4.40361"
      ]
     },
     "execution_count": 99,
     "metadata": {},
     "output_type": "execute_result"
    }
   ],
   "source": [
    "d[\"Julia hand-written\"] = minimum(j_bench_hand.times) / 1e6\n",
    "d"
   ]
  },
  {
   "cell_type": "markdown",
   "metadata": {},
   "source": [
    "# 8. Julia (hand-written w. simd) "
   ]
  },
  {
   "cell_type": "code",
   "execution_count": 100,
   "metadata": {},
   "outputs": [
    {
     "data": {
      "text/plain": [
       "mysum_simd (generic function with 1 method)"
      ]
     },
     "execution_count": 100,
     "metadata": {},
     "output_type": "execute_result"
    }
   ],
   "source": [
    "function mysum_simd(A)   \n",
    "    s = 0.0 # s = zero(eltype(A))\n",
    "    @simd for a in A\n",
    "        s += a\n",
    "    end\n",
    "    s\n",
    "end"
   ]
  },
  {
   "cell_type": "code",
   "execution_count": 101,
   "metadata": {},
   "outputs": [
    {
     "data": {
      "text/plain": [
       "BenchmarkTools.Trial: 951 samples with 1 evaluation.\n",
       " Range \u001b[90m(\u001b[39m\u001b[36m\u001b[1mmin\u001b[22m\u001b[39m … \u001b[35mmax\u001b[39m\u001b[90m):  \u001b[39m\u001b[36m\u001b[1m4.315 ms\u001b[22m\u001b[39m … \u001b[35m  6.596 ms\u001b[39m  \u001b[90m┊\u001b[39m GC \u001b[90m(\u001b[39mmin … max\u001b[90m): \u001b[39m0.00% … 0.00%\n",
       " Time  \u001b[90m(\u001b[39m\u001b[34m\u001b[1mmedian\u001b[22m\u001b[39m\u001b[90m):     \u001b[39m\u001b[34m\u001b[1m5.204 ms               \u001b[22m\u001b[39m\u001b[90m┊\u001b[39m GC \u001b[90m(\u001b[39mmedian\u001b[90m):    \u001b[39m0.00%\n",
       " Time  \u001b[90m(\u001b[39m\u001b[32m\u001b[1mmean\u001b[22m\u001b[39m ± \u001b[32mσ\u001b[39m\u001b[90m):   \u001b[39m\u001b[32m\u001b[1m5.247 ms\u001b[22m\u001b[39m ± \u001b[32m319.734 μs\u001b[39m  \u001b[90m┊\u001b[39m GC \u001b[90m(\u001b[39mmean ± σ\u001b[90m):  \u001b[39m0.00% ± 0.00%\n",
       "\n",
       "  \u001b[39m \u001b[39m \u001b[39m \u001b[39m \u001b[39m \u001b[39m \u001b[39m \u001b[39m \u001b[39m \u001b[39m \u001b[39m \u001b[39m \u001b[39m \u001b[39m \u001b[39m \u001b[39m \u001b[39m \u001b[39m \u001b[39m \u001b[39m \u001b[39m \u001b[39m \u001b[39m \u001b[39m▂\u001b[39m▂\u001b[39m▁\u001b[39m▁\u001b[39m▂\u001b[39m▇\u001b[34m█\u001b[39m\u001b[39m▄\u001b[32m▃\u001b[39m\u001b[39m▁\u001b[39m \u001b[39m▁\u001b[39m \u001b[39m \u001b[39m \u001b[39m \u001b[39m \u001b[39m \u001b[39m \u001b[39m \u001b[39m \u001b[39m \u001b[39m \u001b[39m \u001b[39m \u001b[39m \u001b[39m \u001b[39m \u001b[39m \u001b[39m \u001b[39m \u001b[39m \u001b[39m \u001b[39m \u001b[39m \u001b[39m \u001b[39m \u001b[39m \n",
       "  \u001b[39m▂\u001b[39m▃\u001b[39m▃\u001b[39m▂\u001b[39m▂\u001b[39m▃\u001b[39m▃\u001b[39m▂\u001b[39m▃\u001b[39m▂\u001b[39m▂\u001b[39m▁\u001b[39m▃\u001b[39m▂\u001b[39m▃\u001b[39m▃\u001b[39m▃\u001b[39m▄\u001b[39m▅\u001b[39m▄\u001b[39m▅\u001b[39m▅\u001b[39m▆\u001b[39m█\u001b[39m█\u001b[39m█\u001b[39m█\u001b[39m█\u001b[39m█\u001b[34m█\u001b[39m\u001b[39m█\u001b[32m█\u001b[39m\u001b[39m█\u001b[39m█\u001b[39m█\u001b[39m▇\u001b[39m▆\u001b[39m▄\u001b[39m▄\u001b[39m▃\u001b[39m▄\u001b[39m▃\u001b[39m▃\u001b[39m▄\u001b[39m▃\u001b[39m▃\u001b[39m▃\u001b[39m▄\u001b[39m▄\u001b[39m▄\u001b[39m▃\u001b[39m▄\u001b[39m▃\u001b[39m▃\u001b[39m▂\u001b[39m▃\u001b[39m▃\u001b[39m▃\u001b[39m▃\u001b[39m \u001b[39m▄\n",
       "  4.31 ms\u001b[90m         Histogram: frequency by time\u001b[39m        6.09 ms \u001b[0m\u001b[1m<\u001b[22m\n",
       "\n",
       " Memory estimate\u001b[90m: \u001b[39m\u001b[33m0 bytes\u001b[39m, allocs estimate\u001b[90m: \u001b[39m\u001b[33m0\u001b[39m."
      ]
     },
     "execution_count": 101,
     "metadata": {},
     "output_type": "execute_result"
    }
   ],
   "source": [
    "j_bench_hand_simd = @benchmark mysum_simd($a)"
   ]
  },
  {
   "cell_type": "code",
   "execution_count": 102,
   "metadata": {},
   "outputs": [
    {
     "data": {
      "text/plain": [
       "4.999429150121702e6"
      ]
     },
     "execution_count": 102,
     "metadata": {},
     "output_type": "execute_result"
    }
   ],
   "source": [
    "mysum_simd(a)"
   ]
  },
  {
   "cell_type": "code",
   "execution_count": 103,
   "metadata": {
    "scrolled": true
   },
   "outputs": [
    {
     "data": {
      "text/plain": [
       "Dict{Any, Any} with 8 entries:\n",
       "  \"Julia hand-written simd\" => 4.31458\n",
       "  \"C\"                       => 12.7404\n",
       "  \"Python numpy\"            => 3.84477\n",
       "  \"Julia hand-written\"      => 11.7657\n",
       "  \"Python hand-written\"     => 830.661\n",
       "  \"Python built-in\"         => 682.615\n",
       "  \"Julia built-in\"          => 4.29915\n",
       "  \"C -ffast-math\"           => 4.40361"
      ]
     },
     "execution_count": 103,
     "metadata": {},
     "output_type": "execute_result"
    }
   ],
   "source": [
    "d[\"Julia hand-written simd\"] = minimum(j_bench_hand_simd.times) / 1e6\n",
    "d"
   ]
  },
  {
   "cell_type": "markdown",
   "metadata": {},
   "source": [
    "# Summary"
   ]
  },
  {
   "cell_type": "code",
   "execution_count": 104,
   "metadata": {
    "scrolled": true
   },
   "outputs": [
    {
     "name": "stdout",
     "output_type": "stream",
     "text": [
      "Python numpy................3.8\n",
      "Julia built-in..............4.3\n",
      "Julia hand-written simd.....4.3\n",
      "C -ffast-math...............4.4\n",
      "Julia hand-written.........11.8\n",
      "C..........................12.7\n",
      "Python built-in...........682.6\n",
      "Python hand-written.......830.7\n"
     ]
    }
   ],
   "source": [
    "for (key, value) in sort(collect(d), by=last)\n",
    "    println(rpad(key, 25, \".\"), lpad(round(value; digits=1), 6, \".\"))\n",
    "end"
   ]
  },
  {
   "cell_type": "code",
   "execution_count": null,
   "metadata": {},
   "outputs": [],
   "source": []
  }
 ],
 "metadata": {
  "anaconda-cloud": {},
  "kernelspec": {
   "display_name": "Julia 1.8.5",
   "language": "julia",
   "name": "julia-1.8"
  },
  "language_info": {
   "file_extension": ".jl",
   "mimetype": "application/julia",
   "name": "julia",
   "version": "1.8.5"
  },
  "toc": {
   "colors": {
    "hover_highlight": "#DAA520",
    "running_highlight": "#FF0000",
    "selected_highlight": "#FFD700"
   },
   "moveMenuLeft": true,
   "nav_menu": {
    "height": "212px",
    "width": "252px"
   },
   "navigate_menu": true,
   "number_sections": true,
   "sideBar": true,
   "threshold": "2",
   "toc_cell": false,
   "toc_section_display": "block",
   "toc_window_display": false
  }
 },
 "nbformat": 4,
 "nbformat_minor": 4
}
